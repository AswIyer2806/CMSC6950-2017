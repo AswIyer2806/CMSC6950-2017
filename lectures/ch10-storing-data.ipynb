{
 "cells": [
  {
   "cell_type": "markdown",
   "metadata": {},
   "source": [
    "# Storing Data: Files and HDF5\n",
    "\n",
    "## Files in Python\n",
    "\n",
    "#### Reading from a text file:"
   ]
  },
  {
   "cell_type": "code",
   "execution_count": 1,
   "metadata": {
    "collapsed": true
   },
   "outputs": [],
   "source": [
    "f = open('matrix.txt')\n",
    "matrix = []\n",
    "for line in f.readlines():\n",
    "    row = [int(x) for x in line.split(',')]\n",
    "    matrix.append(row)\n",
    "f.close() # Files should always be closed!"
   ]
  },
  {
   "cell_type": "code",
   "execution_count": 2,
   "metadata": {},
   "outputs": [
    {
     "data": {
      "text/plain": [
       "[[1, 4, 15, 9], [0, 11, 7, 3], [2, 8, 12, 13], [14, 5, 10, 6]]"
      ]
     },
     "execution_count": 2,
     "metadata": {},
     "output_type": "execute_result"
    }
   ],
   "source": [
    "matrix"
   ]
  },
  {
   "cell_type": "markdown",
   "metadata": {},
   "source": [
    "#### Writing to a file:"
   ]
  },
  {
   "cell_type": "code",
   "execution_count": 3,
   "metadata": {
    "collapsed": true
   },
   "outputs": [],
   "source": [
    "f = open('matrix_2.txt', 'w')\n",
    "for row in matrix:\n",
    "    line = \",\".join([ str(x) for x in row ])\n",
    "    f.write(line + '\\n')\n",
    "f.close()"
   ]
  },
  {
   "cell_type": "markdown",
   "metadata": {},
   "source": [
    "#### Useful file modes:\n",
    "\n",
    " | Mode | Description                                                    |  \n",
    " |:----:| :------------------------------------------------------------- |\n",
    " | 'r'  | Open a file for **reading** (read only).                       |\n",
    " | 'w'  | Open a file for **writing** (current content will be deleted!).|\n",
    " | 'a'  | Open a file for **appending** (writing after current content). |\n",
    " | '+'  | **Update** (open file for both reading and writing).           |\n",
    "\n"
   ]
  },
  {
   "cell_type": "markdown",
   "metadata": {},
   "source": [
    "#### Updating a text file:"
   ]
  },
  {
   "cell_type": "code",
   "execution_count": 4,
   "metadata": {},
   "outputs": [
    {
     "name": "stdout",
     "output_type": "stream",
     "text": [
      "1,4,15,9\r\n",
      "0,11,7,3\r\n",
      "2,8,12,13\r\n",
      "14,5,10,6\r\n"
     ]
    }
   ],
   "source": [
    "cat matrix_2.txt"
   ]
  },
  {
   "cell_type": "code",
   "execution_count": 5,
   "metadata": {
    "collapsed": true
   },
   "outputs": [],
   "source": [
    "f = open('matrix_2.txt', 'r+')\n",
    "orig = f.read()\n",
    "f.seek(0)\n",
    "f.write('0,0,0,0\\n')\n",
    "f.write(orig)\n",
    "f.write('\\n1,1,1,1')\n",
    "f.close()"
   ]
  },
  {
   "cell_type": "code",
   "execution_count": 6,
   "metadata": {},
   "outputs": [
    {
     "name": "stdout",
     "output_type": "stream",
     "text": [
      "0,0,0,0\r\n",
      "1,4,15,9\r\n",
      "0,11,7,3\r\n",
      "2,8,12,13\r\n",
      "14,5,10,6\r\n",
      "\r\n",
      "1,1,1,1"
     ]
    }
   ],
   "source": [
    "%cat matrix_2.txt"
   ]
  },
  {
   "cell_type": "markdown",
   "metadata": {},
   "source": [
    "#### The `with` statement (context manager)"
   ]
  },
  {
   "cell_type": "code",
   "execution_count": 7,
   "metadata": {},
   "outputs": [
    {
     "data": {
      "text/plain": [
       "[[1, 4, 15, 9], [0, 11, 7, 3], [2, 8, 12, 13], [14, 5, 10, 6]]"
      ]
     },
     "execution_count": 7,
     "metadata": {},
     "output_type": "execute_result"
    }
   ],
   "source": [
    "matrix = []\n",
    "with open('matrix.txt') as f:\n",
    "    for line in f.readlines():\n",
    "        row = [int(x) for x in line.split(',')]\n",
    "        matrix.append(row)\n",
    "matrix"
   ]
  },
  {
   "cell_type": "markdown",
   "metadata": {},
   "source": [
    "**This will automatically close the file when leaving the `with` block**"
   ]
  },
  {
   "cell_type": "markdown",
   "metadata": {},
   "source": [
    "## HDF5 files (Hierachrical Data Format)\n",
    "\n",
    "The package PyTables is used in this section.\n",
    "\n",
    "* PyTables User Guide: <http://www.pytables.org/usersguide/>"
   ]
  },
  {
   "cell_type": "code",
   "execution_count": 8,
   "metadata": {
    "collapsed": true
   },
   "outputs": [],
   "source": [
    "import os\n",
    "import numpy as np\n",
    "if os.path.isfile('ch10.h5'):\n",
    "    os.remove('ch10.h5')"
   ]
  },
  {
   "cell_type": "code",
   "execution_count": 9,
   "metadata": {
    "collapsed": true
   },
   "outputs": [],
   "source": [
    "import tables as tb\n",
    "f = tb.open_file('ch10.h5', 'a')"
   ]
  },
  {
   "cell_type": "markdown",
   "metadata": {},
   "source": [
    "Create a group on the root node with the name `a_group` with the title \"My Group\" :"
   ]
  },
  {
   "cell_type": "code",
   "execution_count": 10,
   "metadata": {},
   "outputs": [
    {
     "data": {
      "text/plain": [
       "/a_group (Group) 'My Group'\n",
       "  children := []"
      ]
     },
     "execution_count": 10,
     "metadata": {},
     "output_type": "execute_result"
    }
   ],
   "source": [
    "f.create_group('/', 'a_group', \"My Group\")\n",
    "f.root.a_group"
   ]
  },
  {
   "cell_type": "markdown",
   "metadata": {},
   "source": [
    "In PyTables, arrays are of fixed size. They have to be created with data.\n",
    "Tables need to have the same datetype (like in NumPy) and have variable length."
   ]
  },
  {
   "cell_type": "code",
   "execution_count": 11,
   "metadata": {
    "collapsed": true
   },
   "outputs": [],
   "source": [
    "# integer array\n",
    "f.create_array('/a_group', 'arthur_count', [1, 2, 5, 3])\n",
    "\n",
    "# tables need descriptions\n",
    "dt = np.dtype([('id', int), ('name', 'S10')])\n",
    "knights = np.array([(42, 'Lancelot'), (12, 'Bedivere')], dtype=dt)\n",
    "f.create_table('/', 'knights', dt)\n",
    "f.root.knights.append(knights)"
   ]
  },
  {
   "cell_type": "markdown",
   "metadata": {},
   "source": [
    "The hierarchy now looks like:\n",
    "\n",
    "```\n",
    "/\n",
    "|-- a_group/\n",
    "|   |-- arthur_count\n",
    "|\n",
    "|-- knights\n",
    "```"
   ]
  },
  {
   "cell_type": "code",
   "execution_count": 12,
   "metadata": {},
   "outputs": [
    {
     "data": {
      "text/plain": [
       "[1, 2, 5, 3]"
      ]
     },
     "execution_count": 12,
     "metadata": {},
     "output_type": "execute_result"
    }
   ],
   "source": [
    "f.root.a_group.arthur_count[:]"
   ]
  },
  {
   "cell_type": "code",
   "execution_count": 13,
   "metadata": {},
   "outputs": [
    {
     "data": {
      "text/plain": [
       "list"
      ]
     },
     "execution_count": 13,
     "metadata": {},
     "output_type": "execute_result"
    }
   ],
   "source": [
    "type(f.root.a_group.arthur_count[:])"
   ]
  },
  {
   "cell_type": "code",
   "execution_count": 14,
   "metadata": {},
   "outputs": [
    {
     "data": {
      "text/plain": [
       "tables.array.Array"
      ]
     },
     "execution_count": 14,
     "metadata": {},
     "output_type": "execute_result"
    }
   ],
   "source": [
    "type(f.root.a_group.arthur_count)"
   ]
  },
  {
   "cell_type": "code",
   "execution_count": 15,
   "metadata": {},
   "outputs": [
    {
     "data": {
      "text/plain": [
       "(12, b'Bedivere')"
      ]
     },
     "execution_count": 15,
     "metadata": {},
     "output_type": "execute_result"
    }
   ],
   "source": [
    "f.root.knights[1]"
   ]
  },
  {
   "cell_type": "code",
   "execution_count": 16,
   "metadata": {},
   "outputs": [
    {
     "data": {
      "text/plain": [
       "array([(42, b'Lancelot')], \n",
       "      dtype=[('id', '<i8'), ('name', 'S10')])"
      ]
     },
     "execution_count": 16,
     "metadata": {},
     "output_type": "execute_result"
    }
   ],
   "source": [
    "f.root.knights[:1] "
   ]
  },
  {
   "cell_type": "code",
   "execution_count": 17,
   "metadata": {},
   "outputs": [
    {
     "data": {
      "text/plain": [
       "array([(12, b'Bedivere')], \n",
       "      dtype=[('id', '<i8'), ('name', 'S10')])"
      ]
     },
     "execution_count": 17,
     "metadata": {},
     "output_type": "execute_result"
    }
   ],
   "source": [
    "mask = (f.root.knights.cols.id[:] < 28)\n",
    "f.root.knights[mask]"
   ]
  },
  {
   "cell_type": "code",
   "execution_count": 18,
   "metadata": {},
   "outputs": [
    {
     "data": {
      "text/plain": [
       "array([(12, b'Bedivere'), (42, b'Lancelot')], \n",
       "      dtype=[('id', '<i8'), ('name', 'S10')])"
      ]
     },
     "execution_count": 18,
     "metadata": {},
     "output_type": "execute_result"
    }
   ],
   "source": [
    "f.root.knights[([1, 0],)]"
   ]
  },
  {
   "cell_type": "code",
   "execution_count": 19,
   "metadata": {
    "collapsed": true
   },
   "outputs": [],
   "source": [
    "# don't forget to close the file\n",
    "f.close()"
   ]
  },
  {
   "cell_type": "markdown",
   "metadata": {},
   "source": [
    "## Hierachry Layout"
   ]
  },
  {
   "cell_type": "markdown",
   "metadata": {},
   "source": [
    "##  In-Core and Out-of-Core operations\n",
    "\n",
    "### In-Core operations\n",
    "\n",
    "```python\n",
    "a = np.array(...)\n",
    "b = np.array(...)\n",
    "c = 42 * a + 28 * b + 6\n",
    "```\n",
    "\n",
    "is equivalent to :\n",
    "\n",
    "```python\n",
    "temp1 = 42 * a\n",
    "temp2 = 28 * b\n",
    "temp3 = temp1 + temp2\n",
    "c = temp3 + 6\n",
    "```\n",
    "This can exhaust memory if the arrays are very large.\n",
    "\n",
    "Alternatively it could be implemented element-wise as:\n",
    "\n",
    "```python\n",
    "c = np.empty(...)\n",
    "for i in range(len(c)):\n",
    "    c[i] = 42 * a[i] + 28 * b[i] + 6\n",
    "```\n",
    "\n",
    "This version needs less memory, but can be extremely slow if each dataset needs to be read from disk one by one.\n"
   ]
  },
  {
   "cell_type": "markdown",
   "metadata": {},
   "source": [
    "### Out-of-Core operations\n",
    "\n",
    "A better strategy is to use a hybrid, loading reasonable sized chunks of several elements into memory an performing the operations on all elements in the chunk, before processing the next chunk.\n",
    "\n",
    "In Python the `numexpr` library provides a way to perform chunked, element-wise computations on NumPy arrays.  PyTables offers the `tb.Expr` class to do just that."
   ]
  },
  {
   "cell_type": "code",
   "execution_count": 20,
   "metadata": {},
   "outputs": [
    {
     "data": {
      "text/plain": [
       "/c (CArray(10, 10000)) ''\n",
       "  atom := Float32Atom(shape=(), dflt=3.0)\n",
       "  maindim := 0\n",
       "  flavor := 'numpy'\n",
       "  byteorder := 'little'\n",
       "  chunkshape := (1, 10000)"
      ]
     },
     "execution_count": 20,
     "metadata": {},
     "output_type": "execute_result"
    }
   ],
   "source": [
    "# clean-up\n",
    "if os.path.isfile('ch10-1.h5'):\n",
    "    os.remove('ch10-1.h5')\n",
    "\n",
    "# open a new file\n",
    "shape = (10, 10000)\n",
    "f = tb.open_file('ch10-1.h5', \"w\")\n",
    "\n",
    "# create the arrays \n",
    "a = f.create_carray(f.root, 'a', tb.Float32Atom(dflt=1.), shape)\n",
    "b = f.create_carray(f.root, 'b', tb.Float32Atom(dflt=2.), shape)\n",
    "c = f.create_carray(f.root, 'c', tb.Float32Atom(dflt=3.), shape)\n",
    "\n",
    "# evaluate the expression, using the c array as the output\n",
    "expr = tb.Expr(\"42*a + 28*b + 6\")\n",
    "expr.set_output(c)\n",
    "expr.eval()"
   ]
  },
  {
   "cell_type": "code",
   "execution_count": 21,
   "metadata": {
    "collapsed": true
   },
   "outputs": [],
   "source": [
    "# close the file\n",
    "f.close()"
   ]
  },
  {
   "cell_type": "markdown",
   "metadata": {},
   "source": [
    "## Querying\n",
    "\n",
    "\n",
    "\n",
    "```python\n",
    "for row in tab.where('(col1 < 42) and col2 == col3'):\n",
    "    #do something with row\n",
    "```\n"
   ]
  },
  {
   "cell_type": "code",
   "execution_count": 22,
   "metadata": {
    "collapsed": true
   },
   "outputs": [],
   "source": [
    "# prepare some random data\n",
    "n = 1000\n",
    "data = np.random.randint(0, 100, 3*n)\n",
    "data = data.reshape(n,3)\n",
    "\n",
    "# and create some hits for our query\n",
    "for i in np.random.randint(0, n, n//20):\n",
    "    data[i,2] = data[i,1]"
   ]
  },
  {
   "cell_type": "code",
   "execution_count": 23,
   "metadata": {},
   "outputs": [],
   "source": [
    "# cleanup:\n",
    "if os.path.exists('ch10-3.h5'):\n",
    "    os.remove('ch10-3.h5')\n",
    "\n",
    "# Datatype / table headers\n",
    "dt = np.dtype([\n",
    "        ('col1', int),\n",
    "        ('col2', int),\n",
    "        ('col3', int),\n",
    "])\n",
    "\n",
    "# create a table all_data in a file:\n",
    "f = tb.open_file('ch10-3.h5', 'a')\n",
    "tab = f.create_table('/', 'all_data', dt)\n",
    "tab.append(data)"
   ]
  },
  {
   "cell_type": "markdown",
   "metadata": {},
   "source": [
    "**`tb.Table.where(condition)`** returns an iterator of matches:"
   ]
  },
  {
   "cell_type": "code",
   "execution_count": 24,
   "metadata": {
    "scrolled": true
   },
   "outputs": [
    {
     "name": "stdout",
     "output_type": "stream",
     "text": [
      "(22, 25, 25)\n",
      "(5, 1, 1)\n",
      "(33, 93, 93)\n",
      "(28, 69, 69)\n",
      "(41, 36, 36)\n",
      "(32, 35, 35)\n",
      "(1, 89, 89)\n",
      "(36, 52, 52)\n",
      "(37, 35, 35)\n",
      "(33, 11, 11)\n",
      "(16, 59, 59)\n",
      "(24, 60, 60)\n",
      "(36, 91, 91)\n",
      "(21, 56, 56)\n",
      "(5, 21, 21)\n",
      "(26, 70, 70)\n",
      "(16, 3, 3)\n",
      "(6, 89, 89)\n",
      "(18, 55, 55)\n",
      "(0, 19, 19)\n",
      "(0, 77, 77)\n",
      "(34, 80, 80)\n",
      "(7, 82, 82)\n",
      "(10, 98, 98)\n"
     ]
    }
   ],
   "source": [
    "for row in tab.where('(col1 < 42) & (col2 == col3)'):\n",
    "    # do something with data in row\n",
    "    print (row[:])"
   ]
  },
  {
   "cell_type": "markdown",
   "metadata": {},
   "source": [
    "**`tb.Table.get_where_list(condition)`** returns a list of indices:"
   ]
  },
  {
   "cell_type": "code",
   "execution_count": 25,
   "metadata": {},
   "outputs": [
    {
     "data": {
      "text/plain": [
       "array([ 31,  51, 117, 144, 153, 198, 216, 283, 303, 344, 380, 399, 400,\n",
       "       469, 479, 529, 600, 623, 676, 724, 839, 868, 914, 968])"
      ]
     },
     "execution_count": 25,
     "metadata": {},
     "output_type": "execute_result"
    }
   ],
   "source": [
    "# get list of indices\n",
    "tab.get_where_list('(col1 < 42) & (col2 == col3)')"
   ]
  },
  {
   "cell_type": "markdown",
   "metadata": {},
   "source": [
    "**`tb.Table.read_where(condition)`** returns a list of results:"
   ]
  },
  {
   "cell_type": "code",
   "execution_count": 26,
   "metadata": {},
   "outputs": [
    {
     "data": {
      "text/plain": [
       "array([(22, 25, 25), ( 5,  1,  1), (33, 93, 93), (28, 69, 69),\n",
       "       (41, 36, 36), (32, 35, 35), ( 1, 89, 89), (36, 52, 52),\n",
       "       (37, 35, 35), (33, 11, 11), (16, 59, 59), (24, 60, 60),\n",
       "       (36, 91, 91), (21, 56, 56), ( 5, 21, 21), (26, 70, 70),\n",
       "       (16,  3,  3), ( 6, 89, 89), (18, 55, 55), ( 0, 19, 19),\n",
       "       ( 0, 77, 77), (34, 80, 80), ( 7, 82, 82), (10, 98, 98)], \n",
       "      dtype=[('col1', '<i8'), ('col2', '<i8'), ('col3', '<i8')])"
      ]
     },
     "execution_count": 26,
     "metadata": {},
     "output_type": "execute_result"
    }
   ],
   "source": [
    "tab.read_where('(col1 < 42) & (col2 == col3)')"
   ]
  },
  {
   "cell_type": "markdown",
   "metadata": {},
   "source": [
    "**`tb.Table.append_where(destination, condition)`** appends results to a diffenent table:"
   ]
  },
  {
   "cell_type": "code",
   "execution_count": 27,
   "metadata": {},
   "outputs": [
    {
     "data": {
      "text/plain": [
       "24"
      ]
     },
     "execution_count": 27,
     "metadata": {},
     "output_type": "execute_result"
    }
   ],
   "source": [
    "tab2 = f.create_table('/', 'some_data', dt)\n",
    "tab.append_where(tab2 , '(col1 < 42) & (col2 == col3)')"
   ]
  },
  {
   "cell_type": "code",
   "execution_count": 28,
   "metadata": {
    "collapsed": true
   },
   "outputs": [],
   "source": [
    "# close the file\n",
    "f.close()"
   ]
  },
  {
   "cell_type": "markdown",
   "metadata": {},
   "source": [
    "## HDF5 utilities\n",
    "\n",
    "**h5ls** - list content of HDF5 files:"
   ]
  },
  {
   "cell_type": "code",
   "execution_count": 29,
   "metadata": {},
   "outputs": [
    {
     "name": "stdout",
     "output_type": "stream",
     "text": [
      "all_data                 Dataset {1000/Inf}\r\n",
      "some_data                Dataset {24/Inf}\r\n"
     ]
    }
   ],
   "source": [
    "!h5ls ch10-3.h5"
   ]
  },
  {
   "cell_type": "markdown",
   "metadata": {},
   "source": [
    "**h5dump** - print content of an HDF5 table:"
   ]
  },
  {
   "cell_type": "code",
   "execution_count": 30,
   "metadata": {},
   "outputs": [
    {
     "name": "stdout",
     "output_type": "stream",
     "text": [
      "HDF5 \"ch10-3.h5\" {\r\n",
      "DATASET \"/some_data\" {\r\n",
      "   DATATYPE  H5T_COMPOUND {\r\n",
      "      H5T_STD_I64LE \"col1\";\r\n",
      "      H5T_STD_I64LE \"col2\";\r\n",
      "      H5T_STD_I64LE \"col3\";\r\n",
      "   }\r\n",
      "   DATASPACE  SIMPLE { ( 24 ) / ( H5S_UNLIMITED ) }\r\n",
      "   DATA {\r\n",
      "   (0): {\r\n",
      "         22,\r\n",
      "         25,\r\n",
      "         25\r\n",
      "      },\r\n",
      "   (1): {\r\n",
      "         5,\r\n",
      "         1,\r\n",
      "         1\r\n",
      "      },\r\n",
      "   (2): {\r\n",
      "         33,\r\n",
      "         93,\r\n",
      "         93\r\n",
      "      },\r\n",
      "   (3): {\r\n",
      "         28,\r\n",
      "         69,\r\n",
      "         69\r\n",
      "      },\r\n",
      "   (4): {\r\n",
      "         41,\r\n",
      "         36,\r\n",
      "         36\r\n",
      "      },\r\n",
      "   (5): {\r\n",
      "         32,\r\n",
      "         35,\r\n",
      "         35\r\n",
      "      },\r\n",
      "   (6): {\r\n",
      "         1,\r\n",
      "         89,\r\n",
      "         89\r\n",
      "      },\r\n",
      "   (7): {\r\n",
      "         36,\r\n",
      "         52,\r\n",
      "         52\r\n",
      "      },\r\n",
      "   (8): {\r\n",
      "         37,\r\n",
      "         35,\r\n",
      "         35\r\n",
      "      },\r\n",
      "   (9): {\r\n",
      "         33,\r\n",
      "         11,\r\n",
      "         11\r\n",
      "      },\r\n",
      "   (10): {\r\n",
      "         16,\r\n",
      "         59,\r\n",
      "         59\r\n",
      "      },\r\n",
      "   (11): {\r\n",
      "         24,\r\n",
      "         60,\r\n",
      "         60\r\n",
      "      },\r\n",
      "   (12): {\r\n",
      "         36,\r\n",
      "         91,\r\n",
      "         91\r\n",
      "      },\r\n",
      "   (13): {\r\n",
      "         21,\r\n",
      "         56,\r\n",
      "         56\r\n",
      "      },\r\n",
      "   (14): {\r\n",
      "         5,\r\n",
      "         21,\r\n",
      "         21\r\n",
      "      },\r\n",
      "   (15): {\r\n",
      "         26,\r\n",
      "         70,\r\n",
      "         70\r\n",
      "      },\r\n",
      "   (16): {\r\n",
      "         16,\r\n",
      "         3,\r\n",
      "         3\r\n",
      "      },\r\n",
      "   (17): {\r\n",
      "         6,\r\n",
      "         89,\r\n",
      "         89\r\n",
      "      },\r\n",
      "   (18): {\r\n",
      "         18,\r\n",
      "         55,\r\n",
      "         55\r\n",
      "      },\r\n",
      "   (19): {\r\n",
      "         0,\r\n",
      "         19,\r\n",
      "         19\r\n",
      "      },\r\n",
      "   (20): {\r\n",
      "         0,\r\n",
      "         77,\r\n",
      "         77\r\n",
      "      },\r\n",
      "   (21): {\r\n",
      "         34,\r\n",
      "         80,\r\n",
      "         80\r\n",
      "      },\r\n",
      "   (22): {\r\n",
      "         7,\r\n",
      "         82,\r\n",
      "         82\r\n",
      "      },\r\n",
      "   (23): {\r\n",
      "         10,\r\n",
      "         98,\r\n",
      "         98\r\n",
      "      }\r\n",
      "   }\r\n",
      "   ATTRIBUTE \"CLASS\" {\r\n",
      "      DATATYPE  H5T_STRING {\r\n",
      "         STRSIZE 5;\r\n",
      "         STRPAD H5T_STR_NULLTERM;\r\n",
      "         CSET H5T_CSET_UTF8;\r\n",
      "         CTYPE H5T_C_S1;\r\n",
      "      }\r\n",
      "      DATASPACE  SCALAR\r\n",
      "      DATA {\r\n",
      "      (0): \"TABLE\"\r\n",
      "      }\r\n",
      "   }\r\n",
      "   ATTRIBUTE \"FIELD_0_FILL\" {\r\n",
      "      DATATYPE  H5T_STD_I64LE\r\n",
      "      DATASPACE  SCALAR\r\n",
      "      DATA {\r\n",
      "      (0): 0\r\n",
      "      }\r\n",
      "   }\r\n",
      "   ATTRIBUTE \"FIELD_0_NAME\" {\r\n",
      "      DATATYPE  H5T_STRING {\r\n",
      "         STRSIZE 4;\r\n",
      "         STRPAD H5T_STR_NULLTERM;\r\n",
      "         CSET H5T_CSET_UTF8;\r\n",
      "         CTYPE H5T_C_S1;\r\n",
      "      }\r\n",
      "      DATASPACE  SCALAR\r\n",
      "      DATA {\r\n",
      "      (0): \"col1\"\r\n",
      "      }\r\n",
      "   }\r\n",
      "   ATTRIBUTE \"FIELD_1_FILL\" {\r\n",
      "      DATATYPE  H5T_STD_I64LE\r\n",
      "      DATASPACE  SCALAR\r\n",
      "      DATA {\r\n",
      "      (0): 0\r\n",
      "      }\r\n",
      "   }\r\n",
      "   ATTRIBUTE \"FIELD_1_NAME\" {\r\n",
      "      DATATYPE  H5T_STRING {\r\n",
      "         STRSIZE 4;\r\n",
      "         STRPAD H5T_STR_NULLTERM;\r\n",
      "         CSET H5T_CSET_UTF8;\r\n",
      "         CTYPE H5T_C_S1;\r\n",
      "      }\r\n",
      "      DATASPACE  SCALAR\r\n",
      "      DATA {\r\n",
      "      (0): \"col2\"\r\n",
      "      }\r\n",
      "   }\r\n",
      "   ATTRIBUTE \"FIELD_2_FILL\" {\r\n",
      "      DATATYPE  H5T_STD_I64LE\r\n",
      "      DATASPACE  SCALAR\r\n",
      "      DATA {\r\n",
      "      (0): 0\r\n",
      "      }\r\n",
      "   }\r\n",
      "   ATTRIBUTE \"FIELD_2_NAME\" {\r\n",
      "      DATATYPE  H5T_STRING {\r\n",
      "         STRSIZE 4;\r\n",
      "         STRPAD H5T_STR_NULLTERM;\r\n",
      "         CSET H5T_CSET_UTF8;\r\n",
      "         CTYPE H5T_C_S1;\r\n",
      "      }\r\n",
      "      DATASPACE  SCALAR\r\n",
      "      DATA {\r\n",
      "      (0): \"col3\"\r\n",
      "      }\r\n",
      "   }\r\n",
      "   ATTRIBUTE \"NROWS\" {\r\n",
      "      DATATYPE  H5T_STD_I64LE\r\n",
      "      DATASPACE  SCALAR\r\n",
      "      DATA {\r\n",
      "      (0): 24\r\n",
      "      }\r\n",
      "   }\r\n",
      "   ATTRIBUTE \"TITLE\" {\r\n",
      "      DATATYPE  H5T_STRING {\r\n",
      "         STRSIZE 1;\r\n",
      "         STRPAD H5T_STR_NULLTERM;\r\n",
      "         CSET H5T_CSET_UTF8;\r\n",
      "         CTYPE H5T_C_S1;\r\n",
      "      }\r\n",
      "      DATASPACE  NULL\r\n",
      "      DATA {\r\n",
      "      }\r\n",
      "   }\r\n",
      "   ATTRIBUTE \"VERSION\" {\r\n",
      "      DATATYPE  H5T_STRING {\r\n",
      "         STRSIZE 3;\r\n",
      "         STRPAD H5T_STR_NULLTERM;\r\n",
      "         CSET H5T_CSET_UTF8;\r\n",
      "         CTYPE H5T_C_S1;\r\n",
      "      }\r\n",
      "      DATASPACE  SCALAR\r\n",
      "      DATA {\r\n",
      "      (0): \"2.7\"\r\n",
      "      }\r\n",
      "   }\r\n",
      "}\r\n",
      "}\r\n"
     ]
    }
   ],
   "source": [
    "!h5dump -d \"/some_data\" ch10-3.h5"
   ]
  },
  {
   "cell_type": "code",
   "execution_count": null,
   "metadata": {
    "collapsed": true
   },
   "outputs": [],
   "source": []
  }
 ],
 "metadata": {
  "kernelspec": {
   "display_name": "Python 3",
   "language": "python",
   "name": "python3"
  },
  "language_info": {
   "codemirror_mode": {
    "name": "ipython",
    "version": 3
   },
   "file_extension": ".py",
   "mimetype": "text/x-python",
   "name": "python",
   "nbconvert_exporter": "python",
   "pygments_lexer": "ipython3",
   "version": "3.6.1"
  }
 },
 "nbformat": 4,
 "nbformat_minor": 1
}
