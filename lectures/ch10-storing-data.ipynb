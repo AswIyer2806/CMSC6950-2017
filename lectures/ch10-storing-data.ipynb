{
 "cells": [
  {
   "cell_type": "markdown",
   "metadata": {},
   "source": [
    "# Storing Data: Files and HDF5\n",
    "\n",
    "## Files in Python\n",
    "\n",
    "#### Reading from a text file:"
   ]
  },
  {
   "cell_type": "code",
   "execution_count": 1,
   "metadata": {},
   "outputs": [],
   "source": [
    "f = open('matrix.txt')\n",
    "matrix = []\n",
    "for line in f.readlines():\n",
    "    row = [int(x) for x in line.split(',')]\n",
    "    matrix.append(row)\n",
    "f.close() # Files should always be closed!"
   ]
  },
  {
   "cell_type": "code",
   "execution_count": 2,
   "metadata": {},
   "outputs": [
    {
     "data": {
      "text/plain": [
       "[[1, 4, 15, 9], [0, 11, 7, 3], [2, 8, 12, 13], [14, 5, 10, 6]]"
      ]
     },
     "execution_count": 2,
     "metadata": {},
     "output_type": "execute_result"
    }
   ],
   "source": [
    "matrix"
   ]
  },
  {
   "cell_type": "markdown",
   "metadata": {},
   "source": [
    "#### Writing to a file:"
   ]
  },
  {
   "cell_type": "code",
   "execution_count": 3,
   "metadata": {},
   "outputs": [],
   "source": [
    "f = open('matrix_2.txt', 'w')\n",
    "for row in matrix:\n",
    "    line = \",\".join([ str(x) for x in row ])\n",
    "    f.write(line + '\\n')\n",
    "f.close()"
   ]
  },
  {
   "cell_type": "markdown",
   "metadata": {},
   "source": [
    "#### Useful file modes:\n",
    "\n",
    " | Mode | Description                                                    |  \n",
    " |:----:| :------------------------------------------------------------- |\n",
    " | 'r'  | Open a file for **reading** (read only).                       |\n",
    " | 'w'  | Open a file for **writing** (current content will be deleted!).|\n",
    " | 'a'  | Open a file for **appending** (writing after current content). |\n",
    " | '+'  | **Update** (open file for both reading and writing).           |\n",
    "\n"
   ]
  },
  {
   "cell_type": "markdown",
   "metadata": {},
   "source": [
    "#### Updating a text file:"
   ]
  },
  {
   "cell_type": "code",
   "execution_count": 4,
   "metadata": {},
   "outputs": [
    {
     "name": "stdout",
     "output_type": "stream",
     "text": [
      "1,4,15,9\r\n",
      "0,11,7,3\r\n",
      "2,8,12,13\r\n",
      "14,5,10,6\r\n"
     ]
    }
   ],
   "source": [
    "cat matrix_2.txt"
   ]
  },
  {
   "cell_type": "code",
   "execution_count": 5,
   "metadata": {},
   "outputs": [],
   "source": [
    "f = open('matrix_2.txt', 'r+')\n",
    "orig = f.read()\n",
    "f.seek(0)\n",
    "f.write('0,0,0,0\\n')\n",
    "f.write(orig)\n",
    "f.write('\\n1,1,1,1')\n",
    "f.close()"
   ]
  },
  {
   "cell_type": "code",
   "execution_count": 6,
   "metadata": {},
   "outputs": [
    {
     "name": "stdout",
     "output_type": "stream",
     "text": [
      "0,0,0,0\r\n",
      "1,4,15,9\r\n",
      "0,11,7,3\r\n",
      "2,8,12,13\r\n",
      "14,5,10,6\r\n",
      "\r\n",
      "1,1,1,1"
     ]
    }
   ],
   "source": [
    "%cat matrix_2.txt"
   ]
  },
  {
   "cell_type": "markdown",
   "metadata": {},
   "source": [
    "#### The `with` statement (context manager)"
   ]
  },
  {
   "cell_type": "code",
   "execution_count": 7,
   "metadata": {},
   "outputs": [
    {
     "data": {
      "text/plain": [
       "[[1, 4, 15, 9], [0, 11, 7, 3], [2, 8, 12, 13], [14, 5, 10, 6]]"
      ]
     },
     "execution_count": 7,
     "metadata": {},
     "output_type": "execute_result"
    }
   ],
   "source": [
    "matrix = []\n",
    "with open('matrix.txt') as f:\n",
    "    for line in f.readlines():\n",
    "        row = [int(x) for x in line.split(',')]\n",
    "        matrix.append(row)\n",
    "matrix"
   ]
  },
  {
   "cell_type": "markdown",
   "metadata": {},
   "source": [
    "**This will automatically close the file when leaving the `with` block**"
   ]
  },
  {
   "cell_type": "markdown",
   "metadata": {},
   "source": [
    "## HDF5 files (Hierachrical Data Format)\n"
   ]
  },
  {
   "cell_type": "code",
   "execution_count": 8,
   "metadata": {},
   "outputs": [],
   "source": [
    "import os\n",
    "import numpy as np\n",
    "if os.path.isfile('ch10.h5'):\n",
    "    os.remove('ch10.h5')"
   ]
  },
  {
   "cell_type": "code",
   "execution_count": 9,
   "metadata": {},
   "outputs": [],
   "source": [
    "import tables as tb\n",
    "f = tb.open_file('ch10.h5', 'a')"
   ]
  },
  {
   "cell_type": "markdown",
   "metadata": {},
   "source": [
    "Create a group on the root node with the name `a_group` with the title \"My Group\" :"
   ]
  },
  {
   "cell_type": "code",
   "execution_count": 10,
   "metadata": {},
   "outputs": [
    {
     "data": {
      "text/plain": [
       "/a_group (Group) 'My Group'\n",
       "  children := []"
      ]
     },
     "execution_count": 10,
     "metadata": {},
     "output_type": "execute_result"
    }
   ],
   "source": [
    "f.create_group('/', 'a_group', \"My Group\")\n",
    "f.root.a_group"
   ]
  },
  {
   "cell_type": "markdown",
   "metadata": {},
   "source": [
    "In PyTables, arrays are of fixed size. They have to be created with data.\n",
    "Tables need to have the same datetype (like in NumPy) and have variable length."
   ]
  },
  {
   "cell_type": "code",
   "execution_count": 11,
   "metadata": {},
   "outputs": [],
   "source": [
    "# integer array\n",
    "f.create_array('/a_group', 'arthur_count', [1, 2, 5, 3])\n",
    "\n",
    "# tables need descriptions\n",
    "dt = np.dtype([('id', int), ('name', 'S10')])\n",
    "knights = np.array([(42, 'Lancelot'), (12, 'Bedivere')], dtype=dt)\n",
    "f.create_table('/', 'knights', dt)\n",
    "f.root.knights.append(knights)"
   ]
  },
  {
   "cell_type": "markdown",
   "metadata": {},
   "source": [
    "The hierarchy now looks like:\n",
    "\n",
    "```\n",
    "/\n",
    "|-- a_group/\n",
    "|   |-- arthur_count\n",
    "|\n",
    "|-- knights\n",
    "```"
   ]
  },
  {
   "cell_type": "code",
   "execution_count": 12,
   "metadata": {},
   "outputs": [
    {
     "data": {
      "text/plain": [
       "[1, 2, 5, 3]"
      ]
     },
     "execution_count": 12,
     "metadata": {},
     "output_type": "execute_result"
    }
   ],
   "source": [
    "f.root.a_group.arthur_count[:]"
   ]
  },
  {
   "cell_type": "code",
   "execution_count": 13,
   "metadata": {},
   "outputs": [
    {
     "data": {
      "text/plain": [
       "list"
      ]
     },
     "execution_count": 13,
     "metadata": {},
     "output_type": "execute_result"
    }
   ],
   "source": [
    "type(f.root.a_group.arthur_count[:])"
   ]
  },
  {
   "cell_type": "code",
   "execution_count": 14,
   "metadata": {},
   "outputs": [
    {
     "data": {
      "text/plain": [
       "tables.array.Array"
      ]
     },
     "execution_count": 14,
     "metadata": {},
     "output_type": "execute_result"
    }
   ],
   "source": [
    "type(f.root.a_group.arthur_count)"
   ]
  },
  {
   "cell_type": "code",
   "execution_count": 15,
   "metadata": {},
   "outputs": [
    {
     "data": {
      "text/plain": [
       "(12, b'Bedivere')"
      ]
     },
     "execution_count": 15,
     "metadata": {},
     "output_type": "execute_result"
    }
   ],
   "source": [
    "f.root.knights[1]"
   ]
  },
  {
   "cell_type": "code",
   "execution_count": 16,
   "metadata": {},
   "outputs": [
    {
     "data": {
      "text/plain": [
       "array([(42, b'Lancelot')], \n",
       "      dtype=[('id', '<i8'), ('name', 'S10')])"
      ]
     },
     "execution_count": 16,
     "metadata": {},
     "output_type": "execute_result"
    }
   ],
   "source": [
    "f.root.knights[:1] "
   ]
  },
  {
   "cell_type": "code",
   "execution_count": 17,
   "metadata": {},
   "outputs": [
    {
     "data": {
      "text/plain": [
       "array([(12, b'Bedivere')], \n",
       "      dtype=[('id', '<i8'), ('name', 'S10')])"
      ]
     },
     "execution_count": 17,
     "metadata": {},
     "output_type": "execute_result"
    }
   ],
   "source": [
    "mask = (f.root.knights.cols.id[:] < 28)\n",
    "f.root.knights[mask]"
   ]
  },
  {
   "cell_type": "code",
   "execution_count": 18,
   "metadata": {},
   "outputs": [
    {
     "data": {
      "text/plain": [
       "array([(12, b'Bedivere'), (42, b'Lancelot')], \n",
       "      dtype=[('id', '<i8'), ('name', 'S10')])"
      ]
     },
     "execution_count": 18,
     "metadata": {},
     "output_type": "execute_result"
    }
   ],
   "source": [
    "f.root.knights[([1, 0],)]"
   ]
  },
  {
   "cell_type": "code",
   "execution_count": 19,
   "metadata": {},
   "outputs": [],
   "source": [
    "# don't forget to close the file\n",
    "f.close()"
   ]
  },
  {
   "cell_type": "markdown",
   "metadata": {},
   "source": [
    "## Hierachry Layout"
   ]
  },
  {
   "cell_type": "markdown",
   "metadata": {},
   "source": [
    "##  In-Core and Out-of-Core operations\n",
    "\n",
    "### In-Core operations\n",
    "\n",
    "```python\n",
    "a = np.array(...)\n",
    "b = np.array(...)\n",
    "c = 42 * a + 28 * b + 6\n",
    "```\n",
    "\n",
    "is equivalent to :\n",
    "\n",
    "```python\n",
    "temp1 = 42 * a\n",
    "temp2 = 28 * b\n",
    "temp3 = temp1 + temp2\n",
    "c = temp3 + 6\n",
    "```\n",
    "This can exhaust memory if the arrays are very large.\n",
    "\n",
    "Alternatively it could be implemented element-wise as:\n",
    "\n",
    "```python\n",
    "c = np.empty(...)\n",
    "for i in range(len(c)):\n",
    "    c[i] = 42 * a[i] + 28 * b[i] + 6\n",
    "```\n",
    "\n",
    "This version needs less memory, but can be extremely slow if each dataset needs to be read from disk one by one.\n"
   ]
  },
  {
   "cell_type": "markdown",
   "metadata": {},
   "source": [
    "### Out-of-Core operations\n",
    "\n",
    "A better strategy is to use a hybrid, loading reasonable sized chunks of several elements into memory an performing the operations on all elements in the chunk, before processing the next chunk.\n",
    "\n",
    "In Python the `numexpr` library provides a way to perform chunked, element-wise computations on NumPy arrays.  PyTables offers the `tb.Expr` class to do just that."
   ]
  },
  {
   "cell_type": "code",
   "execution_count": 20,
   "metadata": {},
   "outputs": [
    {
     "data": {
      "text/plain": [
       "/c (CArray(10, 10000)) ''\n",
       "  atom := Float32Atom(shape=(), dflt=3.0)\n",
       "  maindim := 0\n",
       "  flavor := 'numpy'\n",
       "  byteorder := 'little'\n",
       "  chunkshape := (1, 10000)"
      ]
     },
     "execution_count": 20,
     "metadata": {},
     "output_type": "execute_result"
    }
   ],
   "source": [
    "# clean-up\n",
    "if os.path.isfile('ch10-1.h5'):\n",
    "    os.remove('ch10-1.h5')\n",
    "\n",
    "# open a new file\n",
    "shape = (10, 10000)\n",
    "f = tb.open_file('ch10-1.h5', \"w\")\n",
    "\n",
    "# create the arrays \n",
    "a = f.create_carray(f.root, 'a', tb.Float32Atom(dflt=1.), shape)\n",
    "b = f.create_carray(f.root, 'b', tb.Float32Atom(dflt=2.), shape)\n",
    "c = f.create_carray(f.root, 'c', tb.Float32Atom(dflt=3.), shape)\n",
    "\n",
    "# evaluate the expression, using the c array as the output\n",
    "expr = tb.Expr(\"42*a + 28*b + 6\")\n",
    "expr.set_output(c)\n",
    "expr.eval()"
   ]
  },
  {
   "cell_type": "code",
   "execution_count": 21,
   "metadata": {},
   "outputs": [],
   "source": [
    "# close the file\n",
    "f.close()"
   ]
  }
 ],
 "metadata": {
  "kernelspec": {
   "display_name": "Python 3",
   "language": "python",
   "name": "python3"
  },
  "language_info": {
   "codemirror_mode": {
    "name": "ipython",
    "version": 3
   },
   "file_extension": ".py",
   "mimetype": "text/x-python",
   "name": "python",
   "nbconvert_exporter": "python",
   "pygments_lexer": "ipython3",
   "version": "3.6.1"
  }
 },
 "nbformat": 4,
 "nbformat_minor": 1
}
