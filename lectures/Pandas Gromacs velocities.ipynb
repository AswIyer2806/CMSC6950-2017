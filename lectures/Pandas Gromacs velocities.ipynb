{
 "cells": [
  {
   "cell_type": "code",
   "execution_count": 1,
   "metadata": {
    "collapsed": false
   },
   "outputs": [
    {
     "name": "stdout",
     "output_type": "stream",
     "text": [
      "D:\\CMSC6950\\CMSC6950-2017\\lectures\\pandas_data\n"
     ]
    }
   ],
   "source": [
    "import numpy as np\n",
    "import pandas as pd\n",
    "from matplotlib import pylab as plt\n",
    "%matplotlib inline\n",
    "%cd pandas_data/"
   ]
  },
  {
   "cell_type": "code",
   "execution_count": 2,
   "metadata": {
    "collapsed": false
   },
   "outputs": [
    {
     "name": "stdout",
     "output_type": "stream",
     "text": [
      "Chloroethane\n",
      " 8000\n",
      "    1LIG      C    1   1.767   1.718   4.553 -0.3691  0.0876  0.2868\n",
      "    1LIG      H    2   1.874   1.726   4.572  0.2073 -0.9631 -2.1583\n",
      "    1LIG      H    3   1.731   1.817   4.580 -0.7323  0.1380 -0.3705\n",
      "    1LIG      H    4   1.728   1.643   4.623 -2.0876  0.3128 -0.4014\n",
      "    1LIG      C    5   1.734   1.699   4.405 -0.0319 -0.8964  0.3304\n",
      "    1LIG      H    6   1.777   1.606   4.367 -0.4904 -0.2839 -1.7862\n",
      "    1LIG      H    7   1.775   1.783   4.349 -2.4901  0.9136  1.0744\n",
      "    1LIG     CL    8   1.557   1.698   4.385  0.0449 -0.2186 -0.4189\n",
      "    2LIG      C    9   2.280   0.416   3.435 -0.3748 -0.2371  0.2111\n",
      "    2LIG      H   10   2.376   0.465   3.453  0.6476 -1.9921 -0.1844\n",
      "    2LIG      H   11   2.221   0.430   3.525  0.0786 -0.6578  0.5836\n",
      "    2LIG      H   12   2.309   0.311   3.437 -3.1216 -1.0492  2.4335\n",
      "    2LIG      C   13   2.222   0.461   3.301 -0.8851  0.5726  0.6990\n"
     ]
    }
   ],
   "source": [
    "!head -n15 nvt_berendsen.gro"
   ]
  },
  {
   "cell_type": "code",
   "execution_count": 3,
   "metadata": {
    "collapsed": false
   },
   "outputs": [
    {
     "name": "stdout",
     "output_type": "stream",
     "text": [
      " 1000LIG      C 7997   0.152   2.024   2.110  0.3288  0.4162 -0.2861\n",
      " 1000LIG      H 7998   0.081   1.954   2.155  0.7683 -1.1081 -1.8281\n",
      " 1000LIG      H 7999   0.141   2.021   2.002 -0.6068  3.3358 -0.3694\n",
      " 1000LIG     CL 8000   0.089   2.180   2.168  0.0204  0.2227 -0.0991\n",
      "   4.92200   4.92200   4.92200\n"
     ]
    }
   ],
   "source": [
    "!tail -n5 nvt_berendsen.gro"
   ]
  },
  {
   "cell_type": "code",
   "execution_count": 4,
   "metadata": {
    "collapsed": false
   },
   "outputs": [
    {
     "data": {
      "text/html": [
       "<div>\n",
       "<table border=\"1\" class=\"dataframe\">\n",
       "  <thead>\n",
       "    <tr style=\"text-align: right;\">\n",
       "      <th></th>\n",
       "      <th>res_id</th>\n",
       "      <th>elem</th>\n",
       "      <th>atomno</th>\n",
       "      <th>x</th>\n",
       "      <th>y</th>\n",
       "      <th>z</th>\n",
       "      <th>vx</th>\n",
       "      <th>vy</th>\n",
       "      <th>vz</th>\n",
       "    </tr>\n",
       "  </thead>\n",
       "  <tbody>\n",
       "    <tr>\n",
       "      <th>7995</th>\n",
       "      <td>1000LIG</td>\n",
       "      <td>H</td>\n",
       "      <td>7996.0</td>\n",
       "      <td>0.360</td>\n",
       "      <td>2.076</td>\n",
       "      <td>2.128</td>\n",
       "      <td>0.3706</td>\n",
       "      <td>-0.2737</td>\n",
       "      <td>-1.3683</td>\n",
       "    </tr>\n",
       "    <tr>\n",
       "      <th>7996</th>\n",
       "      <td>1000LIG</td>\n",
       "      <td>C</td>\n",
       "      <td>7997.0</td>\n",
       "      <td>0.152</td>\n",
       "      <td>2.024</td>\n",
       "      <td>2.110</td>\n",
       "      <td>0.3288</td>\n",
       "      <td>0.4162</td>\n",
       "      <td>-0.2861</td>\n",
       "    </tr>\n",
       "    <tr>\n",
       "      <th>7997</th>\n",
       "      <td>1000LIG</td>\n",
       "      <td>H</td>\n",
       "      <td>7998.0</td>\n",
       "      <td>0.081</td>\n",
       "      <td>1.954</td>\n",
       "      <td>2.155</td>\n",
       "      <td>0.7683</td>\n",
       "      <td>-1.1081</td>\n",
       "      <td>-1.8281</td>\n",
       "    </tr>\n",
       "    <tr>\n",
       "      <th>7998</th>\n",
       "      <td>1000LIG</td>\n",
       "      <td>H</td>\n",
       "      <td>7999.0</td>\n",
       "      <td>0.141</td>\n",
       "      <td>2.021</td>\n",
       "      <td>2.002</td>\n",
       "      <td>-0.6068</td>\n",
       "      <td>3.3358</td>\n",
       "      <td>-0.3694</td>\n",
       "    </tr>\n",
       "    <tr>\n",
       "      <th>7999</th>\n",
       "      <td>1000LIG</td>\n",
       "      <td>CL</td>\n",
       "      <td>8000.0</td>\n",
       "      <td>0.089</td>\n",
       "      <td>2.180</td>\n",
       "      <td>2.168</td>\n",
       "      <td>0.0204</td>\n",
       "      <td>0.2227</td>\n",
       "      <td>-0.0991</td>\n",
       "    </tr>\n",
       "  </tbody>\n",
       "</table>\n",
       "</div>"
      ],
      "text/plain": [
       "       res_id elem  atomno      x      y      z      vx      vy      vz\n",
       "7995  1000LIG    H  7996.0  0.360  2.076  2.128  0.3706 -0.2737 -1.3683\n",
       "7996  1000LIG    C  7997.0  0.152  2.024  2.110  0.3288  0.4162 -0.2861\n",
       "7997  1000LIG    H  7998.0  0.081  1.954  2.155  0.7683 -1.1081 -1.8281\n",
       "7998  1000LIG    H  7999.0  0.141  2.021  2.002 -0.6068  3.3358 -0.3694\n",
       "7999  1000LIG   CL  8000.0  0.089  2.180  2.168  0.0204  0.2227 -0.0991"
      ]
     },
     "execution_count": 4,
     "metadata": {},
     "output_type": "execute_result"
    }
   ],
   "source": [
    "gro_header=['res_id', 'elem', 'atomno', 'x', 'y', 'z', 'vx', 'vy', 'vz']\n",
    "\n",
    "df = pd.read_table('nvt_berendsen.gro', sep='\\s+', skiprows=2, names=gro_header)\n",
    "\n",
    "df.iloc[-1]=np.NaN\n",
    "df.dropna(inplace=True)\n",
    "df.tail()"
   ]
  },
  {
   "cell_type": "code",
   "execution_count": 5,
   "metadata": {
    "collapsed": false
   },
   "outputs": [
    {
     "data": {
      "text/html": [
       "<div>\n",
       "<table border=\"1\" class=\"dataframe\">\n",
       "  <thead>\n",
       "    <tr style=\"text-align: right;\">\n",
       "      <th></th>\n",
       "      <th>res_id</th>\n",
       "      <th>elem</th>\n",
       "      <th>atomno</th>\n",
       "      <th>x</th>\n",
       "      <th>y</th>\n",
       "      <th>z</th>\n",
       "      <th>vx</th>\n",
       "      <th>vy</th>\n",
       "      <th>vz</th>\n",
       "    </tr>\n",
       "  </thead>\n",
       "  <tbody>\n",
       "    <tr>\n",
       "      <th>0</th>\n",
       "      <td>1LIG</td>\n",
       "      <td>C</td>\n",
       "      <td>1.0</td>\n",
       "      <td>1.767</td>\n",
       "      <td>1.718</td>\n",
       "      <td>4.553</td>\n",
       "      <td>-0.3691</td>\n",
       "      <td>0.0876</td>\n",
       "      <td>0.2868</td>\n",
       "    </tr>\n",
       "    <tr>\n",
       "      <th>1</th>\n",
       "      <td>1LIG</td>\n",
       "      <td>H</td>\n",
       "      <td>2.0</td>\n",
       "      <td>1.874</td>\n",
       "      <td>1.726</td>\n",
       "      <td>4.572</td>\n",
       "      <td>0.2073</td>\n",
       "      <td>-0.9631</td>\n",
       "      <td>-2.1583</td>\n",
       "    </tr>\n",
       "    <tr>\n",
       "      <th>2</th>\n",
       "      <td>1LIG</td>\n",
       "      <td>H</td>\n",
       "      <td>3.0</td>\n",
       "      <td>1.731</td>\n",
       "      <td>1.817</td>\n",
       "      <td>4.580</td>\n",
       "      <td>-0.7323</td>\n",
       "      <td>0.1380</td>\n",
       "      <td>-0.3705</td>\n",
       "    </tr>\n",
       "    <tr>\n",
       "      <th>3</th>\n",
       "      <td>1LIG</td>\n",
       "      <td>H</td>\n",
       "      <td>4.0</td>\n",
       "      <td>1.728</td>\n",
       "      <td>1.643</td>\n",
       "      <td>4.623</td>\n",
       "      <td>-2.0876</td>\n",
       "      <td>0.3128</td>\n",
       "      <td>-0.4014</td>\n",
       "    </tr>\n",
       "    <tr>\n",
       "      <th>4</th>\n",
       "      <td>1LIG</td>\n",
       "      <td>C</td>\n",
       "      <td>5.0</td>\n",
       "      <td>1.734</td>\n",
       "      <td>1.699</td>\n",
       "      <td>4.405</td>\n",
       "      <td>-0.0319</td>\n",
       "      <td>-0.8964</td>\n",
       "      <td>0.3304</td>\n",
       "    </tr>\n",
       "  </tbody>\n",
       "</table>\n",
       "</div>"
      ],
      "text/plain": [
       "  res_id elem  atomno      x      y      z      vx      vy      vz\n",
       "0   1LIG    C     1.0  1.767  1.718  4.553 -0.3691  0.0876  0.2868\n",
       "1   1LIG    H     2.0  1.874  1.726  4.572  0.2073 -0.9631 -2.1583\n",
       "2   1LIG    H     3.0  1.731  1.817  4.580 -0.7323  0.1380 -0.3705\n",
       "3   1LIG    H     4.0  1.728  1.643  4.623 -2.0876  0.3128 -0.4014\n",
       "4   1LIG    C     5.0  1.734  1.699  4.405 -0.0319 -0.8964  0.3304"
      ]
     },
     "execution_count": 5,
     "metadata": {},
     "output_type": "execute_result"
    }
   ],
   "source": [
    "df.head()"
   ]
  },
  {
   "cell_type": "code",
   "execution_count": 6,
   "metadata": {
    "collapsed": false
   },
   "outputs": [],
   "source": [
    "df['vel'] = (df.vx **2 + df.vy **2 + df.vz **2) **0.5"
   ]
  },
  {
   "cell_type": "code",
   "execution_count": 7,
   "metadata": {
    "collapsed": false
   },
   "outputs": [
    {
     "data": {
      "text/html": [
       "<div>\n",
       "<table border=\"1\" class=\"dataframe\">\n",
       "  <thead>\n",
       "    <tr style=\"text-align: right;\">\n",
       "      <th></th>\n",
       "      <th>res_id</th>\n",
       "      <th>elem</th>\n",
       "      <th>atomno</th>\n",
       "      <th>x</th>\n",
       "      <th>y</th>\n",
       "      <th>z</th>\n",
       "      <th>vx</th>\n",
       "      <th>vy</th>\n",
       "      <th>vz</th>\n",
       "      <th>vel</th>\n",
       "    </tr>\n",
       "  </thead>\n",
       "  <tbody>\n",
       "    <tr>\n",
       "      <th>0</th>\n",
       "      <td>1LIG</td>\n",
       "      <td>C</td>\n",
       "      <td>1.0</td>\n",
       "      <td>1.767</td>\n",
       "      <td>1.718</td>\n",
       "      <td>4.553</td>\n",
       "      <td>-0.3691</td>\n",
       "      <td>0.0876</td>\n",
       "      <td>0.2868</td>\n",
       "      <td>0.475566</td>\n",
       "    </tr>\n",
       "    <tr>\n",
       "      <th>1</th>\n",
       "      <td>1LIG</td>\n",
       "      <td>H</td>\n",
       "      <td>2.0</td>\n",
       "      <td>1.874</td>\n",
       "      <td>1.726</td>\n",
       "      <td>4.572</td>\n",
       "      <td>0.2073</td>\n",
       "      <td>-0.9631</td>\n",
       "      <td>-2.1583</td>\n",
       "      <td>2.372508</td>\n",
       "    </tr>\n",
       "    <tr>\n",
       "      <th>2</th>\n",
       "      <td>1LIG</td>\n",
       "      <td>H</td>\n",
       "      <td>3.0</td>\n",
       "      <td>1.731</td>\n",
       "      <td>1.817</td>\n",
       "      <td>4.580</td>\n",
       "      <td>-0.7323</td>\n",
       "      <td>0.1380</td>\n",
       "      <td>-0.3705</td>\n",
       "      <td>0.832212</td>\n",
       "    </tr>\n",
       "    <tr>\n",
       "      <th>3</th>\n",
       "      <td>1LIG</td>\n",
       "      <td>H</td>\n",
       "      <td>4.0</td>\n",
       "      <td>1.728</td>\n",
       "      <td>1.643</td>\n",
       "      <td>4.623</td>\n",
       "      <td>-2.0876</td>\n",
       "      <td>0.3128</td>\n",
       "      <td>-0.4014</td>\n",
       "      <td>2.148730</td>\n",
       "    </tr>\n",
       "    <tr>\n",
       "      <th>4</th>\n",
       "      <td>1LIG</td>\n",
       "      <td>C</td>\n",
       "      <td>5.0</td>\n",
       "      <td>1.734</td>\n",
       "      <td>1.699</td>\n",
       "      <td>4.405</td>\n",
       "      <td>-0.0319</td>\n",
       "      <td>-0.8964</td>\n",
       "      <td>0.3304</td>\n",
       "      <td>0.955884</td>\n",
       "    </tr>\n",
       "  </tbody>\n",
       "</table>\n",
       "</div>"
      ],
      "text/plain": [
       "  res_id elem  atomno      x      y      z      vx      vy      vz       vel\n",
       "0   1LIG    C     1.0  1.767  1.718  4.553 -0.3691  0.0876  0.2868  0.475566\n",
       "1   1LIG    H     2.0  1.874  1.726  4.572  0.2073 -0.9631 -2.1583  2.372508\n",
       "2   1LIG    H     3.0  1.731  1.817  4.580 -0.7323  0.1380 -0.3705  0.832212\n",
       "3   1LIG    H     4.0  1.728  1.643  4.623 -2.0876  0.3128 -0.4014  2.148730\n",
       "4   1LIG    C     5.0  1.734  1.699  4.405 -0.0319 -0.8964  0.3304  0.955884"
      ]
     },
     "execution_count": 7,
     "metadata": {},
     "output_type": "execute_result"
    }
   ],
   "source": [
    "df.head()"
   ]
  },
  {
   "cell_type": "code",
   "execution_count": 8,
   "metadata": {
    "collapsed": false
   },
   "outputs": [
    {
     "data": {
      "text/plain": [
       "<matplotlib.axes._subplots.AxesSubplot at 0x282af775cf8>"
      ]
     },
     "execution_count": 8,
     "metadata": {},
     "output_type": "execute_result"
    },
    {
     "data": {
      "image/png": "[encoded data removed]",
      "text/plain": [
       "<matplotlib.figure.Figure at 0x282af71aa58>"
      ]
     },
     "metadata": {},
     "output_type": "display_data"
    }
   ],
   "source": [
    "df['vel'].hist(bins=50)"
   ]
  },
  {
   "cell_type": "code",
   "execution_count": 9,
   "metadata": {
    "collapsed": false
   },
   "outputs": [
    {
     "data": {
      "text/plain": [
       "<matplotlib.axes._subplots.AxesSubplot at 0x282afa80518>"
      ]
     },
     "execution_count": 9,
     "metadata": {},
     "output_type": "execute_result"
    },
    {
     "data": {
      "image/png": "[encoded data removed]",
      "text/plain": [
       "<matplotlib.figure.Figure at 0x282af859588>"
      ]
     },
     "metadata": {},
     "output_type": "display_data"
    }
   ],
   "source": [
    "df_bussi = pd.read_table('nvt_bussi.gro', sep='\\s+', skiprows=2, names=gro_header)\n",
    "df_bussi['vel'] = (df_bussi.vx **2 + df_bussi.vy **2 + df_bussi.vz **2) **0.5\n",
    "df_bussi['vel'].hist(bins=50)"
   ]
  },
  {
   "cell_type": "code",
   "execution_count": 10,
   "metadata": {
    "collapsed": false
   },
   "outputs": [
    {
     "data": {
      "text/html": [
       "<div>\n",
       "<table border=\"1\" class=\"dataframe\">\n",
       "  <thead>\n",
       "    <tr style=\"text-align: right;\">\n",
       "      <th></th>\n",
       "      <th>atomno</th>\n",
       "      <th>x</th>\n",
       "      <th>y</th>\n",
       "      <th>z</th>\n",
       "      <th>vx</th>\n",
       "      <th>vy</th>\n",
       "      <th>vz</th>\n",
       "      <th>vel</th>\n",
       "    </tr>\n",
       "  </thead>\n",
       "  <tbody>\n",
       "    <tr>\n",
       "      <th>count</th>\n",
       "      <td>8000.00000</td>\n",
       "      <td>8000.000000</td>\n",
       "      <td>8000.000000</td>\n",
       "      <td>8000.000000</td>\n",
       "      <td>8000.000000</td>\n",
       "      <td>8000.000000</td>\n",
       "      <td>8000.000000</td>\n",
       "      <td>8000.000000</td>\n",
       "    </tr>\n",
       "    <tr>\n",
       "      <th>mean</th>\n",
       "      <td>4000.50000</td>\n",
       "      <td>2.463283</td>\n",
       "      <td>2.438690</td>\n",
       "      <td>2.454125</td>\n",
       "      <td>-0.012186</td>\n",
       "      <td>-0.004563</td>\n",
       "      <td>0.029142</td>\n",
       "      <td>1.467645</td>\n",
       "    </tr>\n",
       "    <tr>\n",
       "      <th>std</th>\n",
       "      <td>2309.54541</td>\n",
       "      <td>1.424087</td>\n",
       "      <td>1.413223</td>\n",
       "      <td>1.424752</td>\n",
       "      <td>1.054439</td>\n",
       "      <td>1.059265</td>\n",
       "      <td>1.064502</td>\n",
       "      <td>1.101733</td>\n",
       "    </tr>\n",
       "    <tr>\n",
       "      <th>min</th>\n",
       "      <td>1.00000</td>\n",
       "      <td>-0.204000</td>\n",
       "      <td>-0.233000</td>\n",
       "      <td>-0.224000</td>\n",
       "      <td>-5.189200</td>\n",
       "      <td>-4.971500</td>\n",
       "      <td>-5.588700</td>\n",
       "      <td>0.026528</td>\n",
       "    </tr>\n",
       "    <tr>\n",
       "      <th>25%</th>\n",
       "      <td>2000.75000</td>\n",
       "      <td>1.225750</td>\n",
       "      <td>1.224000</td>\n",
       "      <td>1.235500</td>\n",
       "      <td>-0.455975</td>\n",
       "      <td>-0.460625</td>\n",
       "      <td>-0.454800</td>\n",
       "      <td>0.556672</td>\n",
       "    </tr>\n",
       "    <tr>\n",
       "      <th>50%</th>\n",
       "      <td>4000.50000</td>\n",
       "      <td>2.446500</td>\n",
       "      <td>2.429000</td>\n",
       "      <td>2.434500</td>\n",
       "      <td>-0.014400</td>\n",
       "      <td>0.003250</td>\n",
       "      <td>0.013050</td>\n",
       "      <td>1.132518</td>\n",
       "    </tr>\n",
       "    <tr>\n",
       "      <th>75%</th>\n",
       "      <td>6000.25000</td>\n",
       "      <td>3.700000</td>\n",
       "      <td>3.671250</td>\n",
       "      <td>3.690250</td>\n",
       "      <td>0.422125</td>\n",
       "      <td>0.447350</td>\n",
       "      <td>0.483900</td>\n",
       "      <td>2.192343</td>\n",
       "    </tr>\n",
       "    <tr>\n",
       "      <th>max</th>\n",
       "      <td>8000.00000</td>\n",
       "      <td>5.159000</td>\n",
       "      <td>5.149000</td>\n",
       "      <td>5.128000</td>\n",
       "      <td>5.687500</td>\n",
       "      <td>4.931800</td>\n",
       "      <td>5.115400</td>\n",
       "      <td>6.360739</td>\n",
       "    </tr>\n",
       "  </tbody>\n",
       "</table>\n",
       "</div>"
      ],
      "text/plain": [
       "           atomno            x            y            z           vx  \\\n",
       "count  8000.00000  8000.000000  8000.000000  8000.000000  8000.000000   \n",
       "mean   4000.50000     2.463283     2.438690     2.454125    -0.012186   \n",
       "std    2309.54541     1.424087     1.413223     1.424752     1.054439   \n",
       "min       1.00000    -0.204000    -0.233000    -0.224000    -5.189200   \n",
       "25%    2000.75000     1.225750     1.224000     1.235500    -0.455975   \n",
       "50%    4000.50000     2.446500     2.429000     2.434500    -0.014400   \n",
       "75%    6000.25000     3.700000     3.671250     3.690250     0.422125   \n",
       "max    8000.00000     5.159000     5.149000     5.128000     5.687500   \n",
       "\n",
       "                vy           vz          vel  \n",
       "count  8000.000000  8000.000000  8000.000000  \n",
       "mean     -0.004563     0.029142     1.467645  \n",
       "std       1.059265     1.064502     1.101733  \n",
       "min      -4.971500    -5.588700     0.026528  \n",
       "25%      -0.460625    -0.454800     0.556672  \n",
       "50%       0.003250     0.013050     1.132518  \n",
       "75%       0.447350     0.483900     2.192343  \n",
       "max       4.931800     5.115400     6.360739  "
      ]
     },
     "execution_count": 10,
     "metadata": {},
     "output_type": "execute_result"
    }
   ],
   "source": [
    "df.describe()"
   ]
  },
  {
   "cell_type": "code",
   "execution_count": 11,
   "metadata": {
    "collapsed": false
   },
   "outputs": [],
   "source": [
    "gb = df[ ['elem', 'vel' ] ].groupby('elem')\n",
    "#.plot(kind='hist', bins=50, by='elem')"
   ]
  },
  {
   "cell_type": "code",
   "execution_count": 12,
   "metadata": {
    "collapsed": false
   },
   "outputs": [
    {
     "data": {
      "text/html": [
       "<div>\n",
       "<table border=\"1\" class=\"dataframe\">\n",
       "  <thead>\n",
       "    <tr style=\"text-align: right;\">\n",
       "      <th></th>\n",
       "      <th>atomno</th>\n",
       "      <th>x</th>\n",
       "      <th>y</th>\n",
       "      <th>z</th>\n",
       "      <th>vx</th>\n",
       "      <th>vy</th>\n",
       "      <th>vz</th>\n",
       "      <th>vel</th>\n",
       "    </tr>\n",
       "    <tr>\n",
       "      <th>elem</th>\n",
       "      <th></th>\n",
       "      <th></th>\n",
       "      <th></th>\n",
       "      <th></th>\n",
       "      <th></th>\n",
       "      <th></th>\n",
       "      <th></th>\n",
       "      <th></th>\n",
       "    </tr>\n",
       "  </thead>\n",
       "  <tbody>\n",
       "    <tr>\n",
       "      <th>C</th>\n",
       "      <td>3999.0</td>\n",
       "      <td>2.463380</td>\n",
       "      <td>2.438597</td>\n",
       "      <td>2.454332</td>\n",
       "      <td>-0.006034</td>\n",
       "      <td>-0.007916</td>\n",
       "      <td>0.002183</td>\n",
       "      <td>0.583025</td>\n",
       "    </tr>\n",
       "    <tr>\n",
       "      <th>CL</th>\n",
       "      <td>4004.0</td>\n",
       "      <td>2.459352</td>\n",
       "      <td>2.438708</td>\n",
       "      <td>2.452138</td>\n",
       "      <td>0.006705</td>\n",
       "      <td>0.006123</td>\n",
       "      <td>-0.008224</td>\n",
       "      <td>0.406433</td>\n",
       "    </tr>\n",
       "    <tr>\n",
       "      <th>H</th>\n",
       "      <td>4000.4</td>\n",
       "      <td>2.464030</td>\n",
       "      <td>2.438724</td>\n",
       "      <td>2.454439</td>\n",
       "      <td>-0.018426</td>\n",
       "      <td>-0.005359</td>\n",
       "      <td>0.047398</td>\n",
       "      <td>2.033736</td>\n",
       "    </tr>\n",
       "  </tbody>\n",
       "</table>\n",
       "</div>"
      ],
      "text/plain": [
       "      atomno         x         y         z        vx        vy        vz  \\\n",
       "elem                                                                       \n",
       "C     3999.0  2.463380  2.438597  2.454332 -0.006034 -0.007916  0.002183   \n",
       "CL    4004.0  2.459352  2.438708  2.452138  0.006705  0.006123 -0.008224   \n",
       "H     4000.4  2.464030  2.438724  2.454439 -0.018426 -0.005359  0.047398   \n",
       "\n",
       "           vel  \n",
       "elem            \n",
       "C     0.583025  \n",
       "CL    0.406433  \n",
       "H     2.033736  "
      ]
     },
     "execution_count": 12,
     "metadata": {},
     "output_type": "execute_result"
    }
   ],
   "source": [
    "df.groupby(['elem']).mean()"
   ]
  },
  {
   "cell_type": "code",
   "execution_count": 13,
   "metadata": {
    "collapsed": false
   },
   "outputs": [
    {
     "data": {
      "text/plain": [
       "elem       \n",
       "C     count    2000.000000\n",
       "      mean        0.583025\n",
       "      std         0.257527\n",
       "      min         0.026859\n",
       "      25%         0.393001\n",
       "      50%         0.556925\n",
       "      75%         0.746270\n",
       "      max         1.856181\n",
       "CL    count    1000.000000\n",
       "      mean        0.406433\n",
       "      std         0.173878\n",
       "      min         0.026528\n",
       "      25%         0.274518\n",
       "      50%         0.389485\n",
       "      75%         0.516921\n",
       "      max         1.098677\n",
       "H     count    5000.000000\n",
       "      mean        2.033736\n",
       "      std         1.025087\n",
       "      min         0.122229\n",
       "      25%         1.242298\n",
       "      50%         1.903030\n",
       "      75%         2.678381\n",
       "      max         6.360739\n",
       "Name: vel, dtype: float64"
      ]
     },
     "execution_count": 13,
     "metadata": {},
     "output_type": "execute_result"
    }
   ],
   "source": [
    "df.groupby(['elem'])['vel'].describe()"
   ]
  },
  {
   "cell_type": "code",
   "execution_count": 14,
   "metadata": {
    "collapsed": false
   },
   "outputs": [
    {
     "data": {
      "text/plain": [
       "elem\n",
       "C     2000\n",
       "CL    1000\n",
       "H     5000\n",
       "Name: vel, dtype: int64"
      ]
     },
     "execution_count": 14,
     "metadata": {},
     "output_type": "execute_result"
    }
   ],
   "source": [
    "df.groupby(['elem'])['vel'].count()"
   ]
  },
  {
   "cell_type": "code",
   "execution_count": 15,
   "metadata": {
    "collapsed": false
   },
   "outputs": [
    {
     "data": {
      "text/plain": [
       "elem\n",
       "C     0.583025\n",
       "CL    0.406433\n",
       "H     2.033736\n",
       "Name: vel, dtype: float64"
      ]
     },
     "execution_count": 15,
     "metadata": {},
     "output_type": "execute_result"
    }
   ],
   "source": [
    "df.groupby(['elem'])['vel'].mean()"
   ]
  },
  {
   "cell_type": "code",
   "execution_count": 16,
   "metadata": {
    "collapsed": false
   },
   "outputs": [
    {
     "data": {
      "text/plain": [
       "elem\n",
       "C     0.556925\n",
       "CL    0.389485\n",
       "H     1.903030\n",
       "Name: vel, dtype: float64"
      ]
     },
     "execution_count": 16,
     "metadata": {},
     "output_type": "execute_result"
    }
   ],
   "source": [
    "df.groupby(['elem'])['vel'].median()"
   ]
  },
  {
   "cell_type": "code",
   "execution_count": 17,
   "metadata": {
    "collapsed": false
   },
   "outputs": [
    {
     "data": {
      "text/plain": [
       "elem\n",
       "C     0.257527\n",
       "CL    0.173878\n",
       "H     1.025087\n",
       "Name: vel, dtype: float64"
      ]
     },
     "execution_count": 17,
     "metadata": {},
     "output_type": "execute_result"
    }
   ],
   "source": [
    "df.groupby(['elem'])['vel'].std()"
   ]
  },
  {
   "cell_type": "code",
   "execution_count": 18,
   "metadata": {
    "collapsed": false
   },
   "outputs": [
    {
     "data": {
      "text/plain": [
       "elem\n",
       "C     Axes(0.125,0.125;0.775x0.755)\n",
       "CL    Axes(0.125,0.125;0.775x0.755)\n",
       "H     Axes(0.125,0.125;0.775x0.755)\n",
       "Name: vel, dtype: object"
      ]
     },
     "execution_count": 18,
     "metadata": {},
     "output_type": "execute_result"
    },
    {
     "data": {
      "image/png": "[encoded data removed]",
      "text/plain": [
       "<matplotlib.figure.Figure at 0x282af71a358>"
      ]
     },
     "metadata": {},
     "output_type": "display_data"
    }
   ],
   "source": [
    "df.groupby(['elem'])['vel'].hist(bins=50, alpha=0.5)"
   ]
  },
  {
   "cell_type": "code",
   "execution_count": 19,
   "metadata": {
    "collapsed": false
   },
   "outputs": [
    {
     "data": {
      "text/plain": [
       "elem\n",
       "C     Axes(0.125,0.125;0.775x0.755)\n",
       "CL    Axes(0.125,0.125;0.775x0.755)\n",
       "H     Axes(0.125,0.125;0.775x0.755)\n",
       "Name: vel, dtype: object"
      ]
     },
     "execution_count": 19,
     "metadata": {},
     "output_type": "execute_result"
    },
    {
     "data": {
      "image/png": "[encoded data removed]",
      "text/plain": [
       "<matplotlib.figure.Figure at 0x282afdf9320>"
      ]
     },
     "metadata": {},
     "output_type": "display_data"
    }
   ],
   "source": [
    "df.groupby(['elem'])['vel'].plot(kind='hist', bins=50, alpha=0.7, legend=True)"
   ]
  },
  {
   "cell_type": "code",
   "execution_count": 20,
   "metadata": {
    "collapsed": false
   },
   "outputs": [
    {
     "data": {
      "text/plain": [
       "<matplotlib.text.Text at 0x282b1254828>"
      ]
     },
     "execution_count": 20,
     "metadata": {},
     "output_type": "execute_result"
    },
    {
     "data": {
      "image/png": "[encoded data removed]",
      "text/plain": [
       "<matplotlib.figure.Figure at 0x282aff68240>"
      ]
     },
     "metadata": {},
     "output_type": "display_data"
    }
   ],
   "source": [
    "fig1 = plt.figure(1, figsize=(15,5), )\n",
    "plt.suptitle('Velocity Distribution with Berendsen Thermostat')\n",
    "\n",
    "plt.subplot(131)\n",
    "plot_h = df[ df['elem'] == 'H'  ]['vel'].plot(kind='hist', bins=50, xlim=(0.,5.))\n",
    "plot_h.set_title('Hydrogen')\n",
    "\n",
    "plt.subplot(132)\n",
    "plot_c = df[ df['elem'] == 'C'  ]['vel'].plot(kind='hist', bins=20, xlim=(0.,5.))\n",
    "plot_c.set_title('Carbon')\n",
    "\n",
    "plt.subplot(133)\n",
    "plot_cl= df[ df['elem'] == 'CL' ]['vel'].plot(kind='hist', bins=20, xlim=(0.,5.))\n",
    "plot_cl.set_title('Chlorine')\n"
   ]
  },
  {
   "cell_type": "code",
   "execution_count": 21,
   "metadata": {
    "collapsed": true
   },
   "outputs": [],
   "source": [
    "df_bussi = pd.read_table('nvt_bussi.gro', sep='\\s+', skiprows=2, names=gro_header)\n",
    "df_bussi['vel'] = (df_bussi.vx **2 + df_bussi.vy **2 + df_bussi.vz **2) **0.5"
   ]
  },
  {
   "cell_type": "code",
   "execution_count": 22,
   "metadata": {
    "collapsed": false
   },
   "outputs": [
    {
     "data": {
      "text/plain": [
       "<matplotlib.text.Text at 0x282b144f358>"
      ]
     },
     "execution_count": 22,
     "metadata": {},
     "output_type": "execute_result"
    },
    {
     "data": {
      "image/png": "[encoded data removed]",
      "text/plain": [
       "<matplotlib.figure.Figure at 0x282afa6e6d8>"
      ]
     },
     "metadata": {},
     "output_type": "display_data"
    }
   ],
   "source": [
    "fig1 = plt.figure(1, figsize=(15,5), )\n",
    "plt.suptitle('Velocity Distribution with Bussi Thermostat')\n",
    "\n",
    "plt.subplot(131)\n",
    "plot_h = df_bussi[ df_bussi['elem'] == 'H'  ]['vel'].plot(kind='hist', bins=50, xlim=(0.,5.))\n",
    "plot_h.set_title('Hydrogen')\n",
    "\n",
    "plt.subplot(132)\n",
    "plot_c = df_bussi[ df_bussi['elem'] == 'C'  ]['vel'].plot(kind='hist', bins=20, xlim=(0.,5.))\n",
    "plot_c.set_title('Carbon')\n",
    "\n",
    "plt.subplot(133)\n",
    "plot_cl= df_bussi[ df_bussi['elem'] == 'CL' ]['vel'].plot(kind='hist', bins=20, xlim=(0.,5.))\n",
    "plot_cl.set_title('Chlorine')\n"
   ]
  },
  {
   "cell_type": "code",
   "execution_count": null,
   "metadata": {
    "collapsed": true
   },
   "outputs": [],
   "source": []
  }
 ],
 "metadata": {
  "kernelspec": {
   "display_name": "Python [conda root]",
   "language": "python",
   "name": "conda-root-py"
  },
  "language_info": {
   "codemirror_mode": {
    "name": "ipython",
    "version": 3
   },
   "file_extension": ".py",
   "mimetype": "text/x-python",
   "name": "python",
   "nbconvert_exporter": "python",
   "pygments_lexer": "ipython3",
   "version": "3.5.2"
  }
 },
 "nbformat": 4,
 "nbformat_minor": 2
}
