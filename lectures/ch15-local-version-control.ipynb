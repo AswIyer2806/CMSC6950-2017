{
 "cells": [
  {
   "cell_type": "markdown",
   "metadata": {},
   "source": [
    "# Local Version Control with Git\n",
    "\n",
    "While the outline of this lesson is based on the book \"Effective Computation in Physics\" by Anthony Scopatz and Kathryn D. Huff, this file draws it's example and several figures from the [Software Carpetry](https://software-carpentry.org/) lesson on [Git](http://swcarpentry.github.io/git-novice). Other sources are referenced in place.\n",
    "\n",
    "**Note:** In this IPython notebook we are using git commands that should be entered on the (bash) shell. We do this within a notebook by adding an exclamation mark (`!`) before each command. This `!` is not a part pf the command and should not be entered on an actuall (bash) shell.\n",
    "\n",
    "#### Good resources for use of Git:\n",
    "* Book **Pro Git** by Scott Chacon and Ben Straub; <https://git-scm.com/book>\n",
    "* Chapters 15 and 16 in **Effective Computation in Physics** by Anthony Scopatz and Kathryn D. Huff\n",
    "* Learn the basics of Git in 15 minutes: <https://try.github.io/levels/1/challenges/1>\n",
    "* Interactive Git Cheatsheet: <http://ndpsoftware.com/git-cheatsheet.html>\n",
    "* Software Carpentry's Git lesson: <http://swcarpentry.github.io/git-novice>\n",
    "* BitBucket Git tutorials: <https://www.atlassian.com/git/tutorials>\n",
    "* GitHub Videos: <https://services.github.com/resources/videos/>\n",
    "* Git for Ages 4 And Up [Video (99 minutes)](https://www.youtube.com/watch?v=1ffBJ4sVUb4)\n",
    "\n",
    "[![PhD Comic: notFinal.doc](http://phdcomics.com/comics/archive/phd101212s.gif \"PhD Comic: notFinal.doc\")](http://phdcomics.com/comics/archive.php?comicid=1531)\n",
    "Source: “Piled Higher and Deeper” by Jorge Cham, <http://www.phdcomics.com>\n"
   ]
  },
  {
   "cell_type": "markdown",
   "metadata": {},
   "source": [
    "## What is Version Control?\n",
    "\n",
    "* A way to backup changing files\n",
    "* Keep a history of old versions with annotations (Meta data)\n",
    "* Manage merging of changes between different versions/streams of the files/documents.\n",
    "\n",
    "Conceptually stop thinking of documents existing in different version, but rather having a **base document** and **sets of changes** that are applied to the document and can be *un-done* or applied to a different document that is based on the same base-document."
   ]
  },
  {
   "cell_type": "markdown",
   "metadata": {},
   "source": [
    "Version control systems start with a base version of the document and then save just the changes you made at each step of the way. You can think of it as a tape: if you rewind the tape and start at the base document, then you can play back each change and end up with your latest version.\n",
    "\n",
    "![play-changes](http://swcarpentry.github.io/git-novice/fig/play-changes.svg)\n",
    "\n",
    "Once you think of changes as separate from the document itself, you can then think about “playing back” different sets of changes onto the base document and getting different versions of the document. For example, two users can make independent sets of changes based on the same document.\n",
    "\n",
    "![versions](http://swcarpentry.github.io/git-novice/fig/versions.svg)\n",
    "\n",
    "If there aren’t conflicts, you can even play two sets of changes onto the same base document.\n",
    "\n",
    "![merge](http://swcarpentry.github.io/git-novice/fig/merge.svg)"
   ]
  },
  {
   "cell_type": "markdown",
   "metadata": {},
   "source": [
    "## Getting Started with Git\n",
    "\n",
    "### Installing Git\n",
    "\n",
    "To determine if git is already installed, open a terminal and try executing `git`.\n",
    "\n",
    "#### Windows\n",
    "\n",
    "Git is part of the `swc-conda` installer.\n",
    "\n",
    "#### Apple macOS\n",
    "\n",
    "Git is installed when installing the Apple Developer tools and Xcode.\n",
    "\n",
    "#### Linux\n",
    "\n",
    "Git is available from the package repositories of all modern Linux distributions.\n",
    "\n",
    "```shell\n",
    "# for Ubuntu, Debian and related distributions:\n",
    "$ sudo apt-get install git\n",
    "\n",
    "# for Fedora, RedHat, openSuSE and related distributions:\n",
    "$ sudo yum install git\n",
    "```\n",
    "\n",
    "You can always go to the Git website <https://git-scm.com/> and follow the instructions for the platform.\n",
    "\n",
    "### Getting help (git help)\n",
    "\n",
    "A very good book about Git is **Pro Git** by *Scott Chacon* and *Ben Straub*. It is available to [read online for free](https://git-scm.com/book).  \n",
    "*Dead tree* versions are available from many (online) bookstores.\n",
    "\n",
    "As with most unix commands we can have a look into the man-pages:\n",
    "\n",
    "```shell\n",
    "$ man git\n",
    "```\n",
    "\n",
    "Also most unix commands have the command line argument `--help`:"
   ]
  },
  {
   "cell_type": "code",
   "execution_count": 1,
   "metadata": {},
   "outputs": [
    {
     "name": "stdout",
     "output_type": "stream",
     "text": [
      "usage: git [--version] [--help] [-C <path>] [-c name=value]\r\n",
      "           [--exec-path[=<path>]] [--html-path] [--man-path] [--info-path]\r\n",
      "           [-p|--paginate|--no-pager] [--no-replace-objects] [--bare]\r\n",
      "           [--git-dir=<path>] [--work-tree=<path>] [--namespace=<name>]\r\n",
      "           <command> [<args>]\r\n",
      "\r\n",
      "The most commonly used git commands are:\r\n",
      "   add        Add file contents to the index\r\n",
      "   bisect     Find by binary search the change that introduced a bug\r\n",
      "   branch     List, create, or delete branches\r\n",
      "   checkout   Checkout a branch or paths to the working tree\r\n",
      "   clone      Clone a repository into a new directory\r\n",
      "   commit     Record changes to the repository\r\n",
      "   diff       Show changes between commits, commit and working tree, etc\r\n",
      "   fetch      Download objects and refs from another repository\r\n",
      "   grep       Print lines matching a pattern\r\n",
      "   init       Create an empty Git repository or reinitialize an existing one\r\n",
      "   log        Show commit logs\r\n",
      "   merge      Join two or more development histories together\r\n",
      "   mv         Move or rename a file, a directory, or a symlink\r\n",
      "   pull       Fetch from and integrate with another repository or a local branch\r\n",
      "   push       Update remote refs along with associated objects\r\n",
      "   rebase     Forward-port local commits to the updated upstream head\r\n",
      "   reset      Reset current HEAD to the specified state\r\n",
      "   rm         Remove files from the working tree and from the index\r\n",
      "   show       Show various types of objects\r\n",
      "   status     Show the working tree status\r\n",
      "   tag        Create, list, delete or verify a tag object signed with GPG\r\n",
      "\r\n",
      "'git help -a' and 'git help -g' lists available subcommands and some\r\n",
      "concept guides. See 'git help <command>' or 'git help <concept>'\r\n",
      "to read about a specific subcommand or concept.\r\n"
     ]
    }
   ],
   "source": [
    "! git --help"
   ]
  },
  {
   "cell_type": "markdown",
   "metadata": {},
   "source": [
    "Git has a many sub-commands. Each of this sub-commands has it's own help page that cann be accessed with: `git help <command>`."
   ]
  },
  {
   "cell_type": "markdown",
   "metadata": {},
   "source": [
    "### Control the Behavior of Git (git config)\n",
    "\n",
    "First we need to complete the setup process by telling Git our name, email address and favorite text editor, as git will need this when we want to record our changes.\n",
    "\n",
    "**Run the following commands using your own name and email address:**\n",
    "\n",
    "```shell\n",
    "git config --global user.name   \"Oliver Stueker\"\n",
    "git config --global user.email  \"ostueker@example.com\"\n",
    "git config --global core.editor \"nano\"\n",
    "git config --global alias.slog  \"log --pretty=format:'%h - %an, %ar : %s'\"\n",
    "```\n",
    "\n",
    "**Look at you current configuration:**\n",
    "```shell\n",
    "git config --list\n",
    "```\n",
    "```\n",
    "user.name=Oliver Stueker\n",
    "user.email=ostueker@example.com\n",
    "core.excludesfile=/home/ostueker/.gitignore_global\n",
    "core.editor=vim\n",
    "alias.unstage=reset HEAD --\n",
    "alias.slog=log --pretty=format:'%h - %an, %ar : %s'\n",
    "alias.ilog=log --pretty=format:\"%h - %an, %ai : %s\"\n",
    "color.ui=auto\n",
    "push.default=current\n",
    "diff.tool=meld\n",
    "diff.guitool=meld\n",
    "merge.tool=meld\n",
    "```"
   ]
  },
  {
   "cell_type": "markdown",
   "metadata": {},
   "source": [
    "## Local Version Control With Git\n",
    "\n",
    "We will:\n",
    "\n",
    "* Creating a repository.\n",
    "* Adding files to that repository, so that they can be tracked.\n",
    "* Taking snapshots of incremental versions, so that they can be logged.\n",
    "* Undoing changes.\n",
    "* Redoing them.\n",
    "* Trying new ideas in separate sandboxes.\n",
    "\n",
    "### Create a Local Repository (git init)\n"
   ]
  },
  {
   "cell_type": "code",
   "execution_count": 2,
   "metadata": {
    "collapsed": true
   },
   "outputs": [],
   "source": [
    "# remove existing directory:\n",
    "! test -d git_planets && rm -Rf git_planets"
   ]
  },
  {
   "cell_type": "code",
   "execution_count": 3,
   "metadata": {},
   "outputs": [
    {
     "name": "stdout",
     "output_type": "stream",
     "text": [
      "/home/ostueker/Carpentry/CMSC6950-2017/lectures/git_planets\n"
     ]
    }
   ],
   "source": [
    "# create new directory and change into it\n",
    "! mkdir git_planets\n",
    "%cd git_planets"
   ]
  },
  {
   "cell_type": "code",
   "execution_count": 4,
   "metadata": {},
   "outputs": [
    {
     "name": "stdout",
     "output_type": "stream",
     "text": [
      "Initialized empty Git repository in /home/ostueker/Carpentry/CMSC6950-2017/lectures/git_planets/.git/\r\n"
     ]
    }
   ],
   "source": [
    "! git init"
   ]
  },
  {
   "cell_type": "code",
   "execution_count": 5,
   "metadata": {
    "collapsed": true
   },
   "outputs": [],
   "source": [
    "%ls"
   ]
  },
  {
   "cell_type": "code",
   "execution_count": 6,
   "metadata": {},
   "outputs": [
    {
     "name": "stdout",
     "output_type": "stream",
     "text": [
      "\u001b[0m\u001b[01;34m.git\u001b[0m/\r\n"
     ]
    }
   ],
   "source": [
    "%ls -A"
   ]
  },
  {
   "cell_type": "markdown",
   "metadata": {},
   "source": [
    "The command `git init` has created an hidden directory called `.git`."
   ]
  },
  {
   "cell_type": "code",
   "execution_count": 7,
   "metadata": {},
   "outputs": [
    {
     "name": "stdout",
     "output_type": "stream",
     "text": [
      "/home/ostueker/Carpentry/CMSC6950-2017/lectures/git_planets/.git\n",
      "\u001b[0m\u001b[01;34mbranches\u001b[0m/  config  description  HEAD  \u001b[01;34mhooks\u001b[0m/  \u001b[01;34minfo\u001b[0m/  \u001b[01;34mobjects\u001b[0m/  \u001b[01;34mrefs\u001b[0m/\r\n"
     ]
    }
   ],
   "source": [
    "%cd .git\n",
    "%ls -A"
   ]
  },
  {
   "cell_type": "markdown",
   "metadata": {},
   "source": [
    "This `.git` directory contains the local git repository. Navigating into that directory and listing it's content reveals how git organizes it's data internally.  With ordinary use of git, one will never need to alter these hidden files, however it is good to know that the whole repository is containded in this hidden directory at the top level of the repository.\n",
    "\n",
    "**A repository can easily be moved to a different location, as long the `.git` directory is relocated along with it!**"
   ]
  },
  {
   "cell_type": "code",
   "execution_count": 8,
   "metadata": {},
   "outputs": [
    {
     "name": "stdout",
     "output_type": "stream",
     "text": [
      "/home/ostueker/Carpentry/CMSC6950-2017/lectures/git_planets\n"
     ]
    }
   ],
   "source": [
    "%cd .."
   ]
  },
  {
   "cell_type": "code",
   "execution_count": 9,
   "metadata": {
    "collapsed": true
   },
   "outputs": [],
   "source": [
    "# For this exercise, I configure an alternate personality:\n",
    "! git config user.name  \"Vlad Dracula\"\n",
    "! git config user.email \"vlad@tran.sylvan.ia>\""
   ]
  },
  {
   "cell_type": "markdown",
   "metadata": {},
   "source": [
    "### Staging Files (git add)"
   ]
  },
  {
   "cell_type": "code",
   "execution_count": 10,
   "metadata": {},
   "outputs": [
    {
     "name": "stdout",
     "output_type": "stream",
     "text": [
      "Cold and dry, but everything is my favorite color\r\n"
     ]
    }
   ],
   "source": [
    "! echo \"Cold and dry, but everything is my favorite color\" > mars.txt\n",
    "\n",
    "# To follow along, please use a text editor like nano \n",
    "# to create a file mars.txt with the content below.\n",
    "\n",
    "! cat mars.txt"
   ]
  },
  {
   "cell_type": "code",
   "execution_count": 11,
   "metadata": {},
   "outputs": [
    {
     "name": "stdout",
     "output_type": "stream",
     "text": [
      "On branch master\r\n",
      "\r\n",
      "Initial commit\r\n",
      "\r\n",
      "Untracked files:\r\n",
      "  (use \"git add <file>...\" to include in what will be committed)\r\n",
      "\r\n",
      "\t\u001b[31mmars.txt\u001b[m\r\n",
      "\r\n",
      "nothing added to commit but untracked files present (use \"git add\" to track)\r\n"
     ]
    }
   ],
   "source": [
    "! git status"
   ]
  },
  {
   "cell_type": "code",
   "execution_count": 12,
   "metadata": {
    "collapsed": true
   },
   "outputs": [],
   "source": [
    "! git add mars.txt"
   ]
  },
  {
   "cell_type": "markdown",
   "metadata": {},
   "source": [
    "### Checking the Status of Your Local Copy (git status)\n",
    "\n",
    "(!) Run `git status` often! It will show you what is going on and make suggestions on what you might want to do next."
   ]
  },
  {
   "cell_type": "code",
   "execution_count": 13,
   "metadata": {},
   "outputs": [
    {
     "name": "stdout",
     "output_type": "stream",
     "text": [
      "On branch master\r\n",
      "\r\n",
      "Initial commit\r\n",
      "\r\n",
      "Changes to be committed:\r\n",
      "  (use \"git rm --cached <file>...\" to unstage)\r\n",
      "\r\n",
      "\t\u001b[32mnew file:   mars.txt\u001b[m\r\n",
      "\r\n"
     ]
    }
   ],
   "source": [
    "! git status"
   ]
  },
  {
   "cell_type": "markdown",
   "metadata": {},
   "source": [
    "### Saving a Snapshot (git commit)"
   ]
  },
  {
   "cell_type": "code",
   "execution_count": 14,
   "metadata": {},
   "outputs": [
    {
     "name": "stdout",
     "output_type": "stream",
     "text": [
      "[master (root-commit) aa1e8ce] Start notes on Mars as a base\r\n",
      " 1 file changed, 1 insertion(+)\r\n",
      " create mode 100644 mars.txt\r\n"
     ]
    }
   ],
   "source": [
    "! git commit -m \"Start notes on Mars as a base\""
   ]
  },
  {
   "cell_type": "markdown",
   "metadata": {},
   "source": [
    "#### Write good commit messages!\n",
    "\n",
    "Log messages are very useful if used properly.  They help other people (your colleagues, your future self), a to understand the intentions of this commit.\n",
    "\n",
    "[![xkcd: Git Commit](https://imgs.xkcd.com/comics/git_commit.png)](https://xkcd.com/1296/)\n",
    "Source: xkcd by *Randall Munroe*, <https://xkcd.com>\n",
    "\n",
    "A good commit message captures the intention of a commit and provides some context.\n",
    "It is recommended to not use the `-m` argument, as it opens a text editor that allows to write a more comprehensive message.\n",
    "\n",
    "#### The seven rules of a great Git commit message\n",
    "\n",
    "1. Separate subject from body with a blank line\n",
    "2. Limit the subject line to 50 characters\n",
    "3. Capitalize the subject line\n",
    "4. Do not end the subject line with a period\n",
    "5. Use the imperative mood in the subject line\n",
    "6. Wrap the body at 72 characters\n",
    "7. Use the body to explain what and why vs. how\n",
    "\n",
    "For example:\n",
    "```\n",
    "Summarize changes in around 50 characters or less\n",
    "\n",
    "More detailed explanatory text, if necessary. Wrap it to about 72\n",
    "characters or so. In some contexts, the first line is treated as the\n",
    "subject of the commit and the rest of the text as the body. The\n",
    "blank line separating the summary from the body is critical (unless\n",
    "you omit the body entirely); various tools like `log`, `shortlog`\n",
    "and `rebase` can get confused if you run the two together.\n",
    "\n",
    "Explain the problem that this commit is solving. Focus on why you\n",
    "are making this change as opposed to how (the code explains that).\n",
    "Are there side effects or other unintuitive consequences of this\n",
    "change? Here's the place to explain them.\n",
    "\n",
    "Further paragraphs come after blank lines.\n",
    "\n",
    " - Bullet points are okay, too\n",
    "\n",
    " - Typically a hyphen or asterisk is used for the bullet, preceded\n",
    "   by a single space, with blank lines in between, but conventions\n",
    "   vary here\n",
    "\n",
    "If you use an issue tracker, put references to them at the bottom,\n",
    "like this:\n",
    "\n",
    "Resolves: #123\n",
    "See also: #456, #789\n",
    "```\n",
    "\n",
    "<https://chris.beams.io/posts/git-commit/>"
   ]
  },
  {
   "cell_type": "markdown",
   "metadata": {},
   "source": [
    "#### Commit often! \n",
    "\n",
    "Evey commit is a point that you can revert to in the future.  Good commits are *atomic* (self consistent), the smallest change that remains meaningful.  They should not represent more work than you are willing to loose."
   ]
  },
  {
   "cell_type": "code",
   "execution_count": 15,
   "metadata": {},
   "outputs": [
    {
     "name": "stdout",
     "output_type": "stream",
     "text": [
      "On branch master\r\n",
      "nothing to commit, working directory clean\r\n"
     ]
    }
   ],
   "source": [
    "! git status"
   ]
  },
  {
   "cell_type": "code",
   "execution_count": 16,
   "metadata": {},
   "outputs": [
    {
     "name": "stdout",
     "output_type": "stream",
     "text": [
      "\u001b[33mcommit aa1e8ce00755e9a92534a0946c750b274adb5db2\u001b[m\r\n",
      "Author: Vlad Dracula <vlad@tran.sylvan.ia>\r\n",
      "Date:   Wed May 10 16:20:16 2017 -0230\r\n",
      "\r\n",
      "    Start notes on Mars as a base\r\n"
     ]
    }
   ],
   "source": [
    "! git log"
   ]
  },
  {
   "cell_type": "markdown",
   "metadata": {},
   "source": [
    "#### Where Are My Changes?\n",
    "If we run ls at this point, we will still see just one file called mars.txt. That’s because Git saves information about files’ history in the special .git directory mentioned earlier so that our filesystem doesn’t become cluttered (and so that we can’t accidentally edit or delete an old version).\n"
   ]
  },
  {
   "cell_type": "markdown",
   "metadata": {},
   "source": [
    "### Viewing the Differences (git diff)\n",
    "\n",
    "Let's make a change to the file:"
   ]
  },
  {
   "cell_type": "code",
   "execution_count": 17,
   "metadata": {},
   "outputs": [
    {
     "name": "stdout",
     "output_type": "stream",
     "text": [
      "Cold and dry, but everything is my favorite color\r\n",
      "The two moons may be a problem for Wolfman\r\n"
     ]
    }
   ],
   "source": [
    "! echo \"The two moons may be a problem for Wolfman\" >> mars.txt\n",
    "\n",
    "# To follow along, please use a text editor like nano \n",
    "# to edit the file.\n",
    "\n",
    "! cat mars.txt"
   ]
  },
  {
   "cell_type": "code",
   "execution_count": 18,
   "metadata": {},
   "outputs": [
    {
     "name": "stdout",
     "output_type": "stream",
     "text": [
      "On branch master\r\n",
      "Changes not staged for commit:\r\n",
      "  (use \"git add <file>...\" to update what will be committed)\r\n",
      "  (use \"git checkout -- <file>...\" to discard changes in working directory)\r\n",
      "\r\n",
      "\t\u001b[31mmodified:   mars.txt\u001b[m\r\n",
      "\r\n",
      "no changes added to commit (use \"git add\" and/or \"git commit -a\")\r\n"
     ]
    }
   ],
   "source": [
    "! git status"
   ]
  },
  {
   "cell_type": "code",
   "execution_count": 19,
   "metadata": {},
   "outputs": [
    {
     "name": "stdout",
     "output_type": "stream",
     "text": [
      "\u001b[1mdiff --git a/mars.txt b/mars.txt\u001b[m\r\n",
      "\u001b[1mindex df0654a..315bf3a 100644\u001b[m\r\n",
      "\u001b[1m--- a/mars.txt\u001b[m\r\n",
      "\u001b[1m+++ b/mars.txt\u001b[m\r\n",
      "\u001b[36m@@ -1 +1,2 @@\u001b[m\r\n",
      " Cold and dry, but everything is my favorite color\u001b[m\r\n",
      "\u001b[32m+\u001b[m\u001b[32mThe two moons may be a problem for Wolfman\u001b[m\r\n"
     ]
    }
   ],
   "source": [
    "! git diff"
   ]
  },
  {
   "cell_type": "markdown",
   "metadata": {},
   "source": [
    "The output is cryptic because it is actually a series of commands for tools like editors and `patch` telling them how to reconstruct one file given the other. If we break it down into pieces:\n",
    "\n",
    "1. The first line tells us that Git is producing output similar to the Unix `diff` command comparing the old and new versions of the file.\n",
    "2. The second line tells exactly which versions of the file Git is comparing; `df0654a` and `315bf3a` are unique computer-generated labels for those versions.\n",
    "3. The third and fourth lines once again show the name of the file being changed.\n",
    "4. The remaining lines are the most interesting, they show us the actual differences and the lines on which they occur. In particular, the `+` marker in the first column shows where we added a line.\n",
    "\n",
    "After reviewing our change, it’s time to commit it:"
   ]
  },
  {
   "cell_type": "code",
   "execution_count": 20,
   "metadata": {},
   "outputs": [
    {
     "name": "stdout",
     "output_type": "stream",
     "text": [
      "On branch master\r\n",
      "Changes not staged for commit:\r\n",
      "\t\u001b[31mmodified:   mars.txt\u001b[m\r\n",
      "\r\n",
      "no changes added to commit\r\n"
     ]
    }
   ],
   "source": [
    "! git commit -m \"Add concerns about effects of Mars' moons on Wolfman\""
   ]
  },
  {
   "cell_type": "markdown",
   "metadata": {},
   "source": [
    "Whoops: Git won’t commit because we didn’t use `git add` first. Let’s fix that:"
   ]
  },
  {
   "cell_type": "code",
   "execution_count": 21,
   "metadata": {},
   "outputs": [
    {
     "name": "stdout",
     "output_type": "stream",
     "text": [
      "[master b03885e] Add concerns about effects of Mars' moons on Wolfman\r\n",
      " 1 file changed, 1 insertion(+)\r\n"
     ]
    }
   ],
   "source": [
    "! git add mars.txt\n",
    "! git commit -m \"Add concerns about effects of Mars' moons on Wolfman\""
   ]
  },
  {
   "cell_type": "markdown",
   "metadata": {},
   "source": [
    "Git insists that we add files to the set we want to commit before actually committing anything. This allows us to commit our changes in stages and capture changes in logical portions rather than only large batches. For example, suppose we’re adding a few citations to our supervisor’s work to our thesis. We might want to commit those additions, and the corresponding addition to the bibliography, but not commit the work we’re doing on the conclusion (which we haven’t finished yet).\n",
    "\n",
    "To allow for this, Git has a special staging area where it keeps track of things that have been added to the current change set but not yet committed.\n",
    "\n",
    "### The Staging Area\n",
    "\n",
    "If you think of Git as taking snapshots of changes over the life of a project, `git add` specifies what will go in a snapshot (putting things in the staging area), and `git commit` then actually takes the snapshot, and makes a permanent record of it (as a commit). If you don’t have anything staged when you type `git commit`, Git will prompt you to use `git commit -a` or `git commit --all`, which is kind of like gathering everyone for the picture! \n",
    "\n",
    "However, it’s almost always better to explicitly add things to the staging area, because you might commit changes you forgot you made. (Going back to snapshots, you might get the extra with incomplete makeup walking on the stage for the snapshot because you used `-a`!)\n",
    "\n",
    "Try to stage things manually, or you might find yourself searching for \"`git undo commit`\" more than you would like!\n",
    "\n",
    "\n",
    "![Staging Area](http://swcarpentry.github.io/git-novice/fig/git-staging-area.svg)"
   ]
  },
  {
   "cell_type": "code",
   "execution_count": 22,
   "metadata": {},
   "outputs": [
    {
     "name": "stdout",
     "output_type": "stream",
     "text": [
      "Cold and dry, but everything is my favorite color\r\n",
      "The two moons may be a problem for Wolfman\r\n",
      "But the Mummy will appreciate the lack of humidity\r\n"
     ]
    }
   ],
   "source": [
    "! echo \"But the Mummy will appreciate the lack of humidity\" >> mars.txt\n",
    "\n",
    "# To follow along, please use a text editor like nano \n",
    "# to edit the file.\n",
    "\n",
    "! cat mars.txt"
   ]
  },
  {
   "cell_type": "code",
   "execution_count": 23,
   "metadata": {},
   "outputs": [
    {
     "name": "stdout",
     "output_type": "stream",
     "text": [
      "\u001b[1mdiff --git a/mars.txt b/mars.txt\u001b[m\r\n",
      "\u001b[1mindex 315bf3a..b36abfd 100644\u001b[m\r\n",
      "\u001b[1m--- a/mars.txt\u001b[m\r\n",
      "\u001b[1m+++ b/mars.txt\u001b[m\r\n",
      "\u001b[36m@@ -1,2 +1,3 @@\u001b[m\r\n",
      " Cold and dry, but everything is my favorite color\u001b[m\r\n",
      " The two moons may be a problem for Wolfman\u001b[m\r\n",
      "\u001b[32m+\u001b[m\u001b[32mBut the Mummy will appreciate the lack of humidity\u001b[m\r\n"
     ]
    }
   ],
   "source": [
    "! git diff"
   ]
  },
  {
   "cell_type": "code",
   "execution_count": 24,
   "metadata": {
    "collapsed": true
   },
   "outputs": [],
   "source": [
    "! git add mars.txt\n",
    "! git diff"
   ]
  },
  {
   "cell_type": "markdown",
   "metadata": {},
   "source": [
    "There is no output: as far as Git can tell, there’s no difference between what it’s been asked to save permanently and what’s currently in the directory. However, if we do this:"
   ]
  },
  {
   "cell_type": "code",
   "execution_count": 25,
   "metadata": {},
   "outputs": [
    {
     "name": "stdout",
     "output_type": "stream",
     "text": [
      "\u001b[1mdiff --git a/mars.txt b/mars.txt\u001b[m\r\n",
      "\u001b[1mindex 315bf3a..b36abfd 100644\u001b[m\r\n",
      "\u001b[1m--- a/mars.txt\u001b[m\r\n",
      "\u001b[1m+++ b/mars.txt\u001b[m\r\n",
      "\u001b[36m@@ -1,2 +1,3 @@\u001b[m\r\n",
      " Cold and dry, but everything is my favorite color\u001b[m\r\n",
      " The two moons may be a problem for Wolfman\u001b[m\r\n",
      "\u001b[32m+\u001b[m\u001b[32mBut the Mummy will appreciate the lack of humidity\u001b[m\r\n"
     ]
    }
   ],
   "source": [
    "! git diff --staged"
   ]
  },
  {
   "cell_type": "markdown",
   "metadata": {},
   "source": [
    "it shows us the difference between the last committed change and what’s in the staging area. Let’s save our changes:"
   ]
  },
  {
   "cell_type": "code",
   "execution_count": 26,
   "metadata": {},
   "outputs": [
    {
     "name": "stdout",
     "output_type": "stream",
     "text": [
      "[master 405d321] Discuss concerns about Mars' climate for the Mummy\r\n",
      " 1 file changed, 1 insertion(+)\r\n"
     ]
    }
   ],
   "source": [
    "! git commit -m \"Discuss concerns about Mars' climate for the Mummy\""
   ]
  },
  {
   "cell_type": "markdown",
   "metadata": {},
   "source": [
    "check the status:"
   ]
  },
  {
   "cell_type": "code",
   "execution_count": 27,
   "metadata": {},
   "outputs": [
    {
     "name": "stdout",
     "output_type": "stream",
     "text": [
      "On branch master\r\n",
      "nothing to commit, working directory clean\r\n"
     ]
    }
   ],
   "source": [
    "! git status"
   ]
  },
  {
   "cell_type": "markdown",
   "metadata": {},
   "source": [
    "### Viewing the History (git log)\n",
    "\n",
    "and look at the history of what we've done so far:"
   ]
  },
  {
   "cell_type": "code",
   "execution_count": 28,
   "metadata": {},
   "outputs": [
    {
     "name": "stdout",
     "output_type": "stream",
     "text": [
      "\u001b[33mcommit 405d3213cce9fe8b8dd358e4c7f14552c7149b2a\u001b[m\r\n",
      "Author: Vlad Dracula <vlad@tran.sylvan.ia>\r\n",
      "Date:   Wed May 10 16:20:18 2017 -0230\r\n",
      "\r\n",
      "    Discuss concerns about Mars' climate for the Mummy\r\n",
      "\r\n",
      "\u001b[33mcommit b03885e5a812377d2f1bb331754fecaa8ca8b092\u001b[m\r\n",
      "Author: Vlad Dracula <vlad@tran.sylvan.ia>\r\n",
      "Date:   Wed May 10 16:20:17 2017 -0230\r\n",
      "\r\n",
      "    Add concerns about effects of Mars' moons on Wolfman\r\n",
      "\r\n",
      "\u001b[33mcommit aa1e8ce00755e9a92534a0946c750b274adb5db2\u001b[m\r\n",
      "Author: Vlad Dracula <vlad@tran.sylvan.ia>\r\n",
      "Date:   Wed May 10 16:20:16 2017 -0230\r\n",
      "\r\n",
      "    Start notes on Mars as a base\r\n"
     ]
    }
   ],
   "source": [
    "! git log"
   ]
  },
  {
   "cell_type": "markdown",
   "metadata": {},
   "source": [
    "### Some Tips:\n",
    "\n",
    "#### Word-based diffing\n",
    "Sometimes, e.g. in the case of the text documments a line-wise diff is too coarse. That is where the `--color-words` option of `git diff` comes in very useful as it highlights the changed words using colors.\n",
    "\n",
    "#### Paging the Log\n",
    "When the output of `git log` is too long to fit in your screen, `git` uses a program to split it into pages of the size of your screen. When this \"pager\" is called, you will notice that the last line in your screen is a `:`, instead of your usual prompt.\n",
    "\n",
    "* To get out of the pager, press `q`.\n",
    "* To move to the next page, press the space bar.\n",
    "* To search for some_word in all pages, type `/some_word` and navigate throught matches pressing `n`."
   ]
  },
  {
   "cell_type": "markdown",
   "metadata": {},
   "source": [
    "### Some Tips:\n",
    "\n",
    "#### Word-based diffing\n",
    "Sometimes, e.g. in the case of the text documments a line-wise diff is too coarse. That is where the `--color-words` option of `git diff` comes in very useful as it highlights the changed words using colors.\n",
    "\n",
    "#### Paging the Log\n",
    "When the output of `git log` is too long to fit in your screen, `git` uses a program to split it into pages of the size of your screen. When this \"pager\" is called, you will notice that the last line in your screen is a `:`, instead of your usual prompt.\n",
    "\n",
    "* To get out of the pager, press `q`.\n",
    "* To move to the next page, press the space bar.\n",
    "* To search for some_word in all pages, type `/some_word` and navigate throught matches pressing `n`.\n",
    "\n",
    "#### Limit Log Size\n",
    "To avoid having git log cover your entire terminal screen, you can limit the number of commits that Git lists by using -N, where N is the number of commits that you want to view. For example, if you only want information from the last commit you can use `git log -1`:"
   ]
  },
  {
   "cell_type": "code",
   "execution_count": 29,
   "metadata": {},
   "outputs": [
    {
     "name": "stdout",
     "output_type": "stream",
     "text": [
      "\u001b[33mcommit 405d3213cce9fe8b8dd358e4c7f14552c7149b2a\u001b[m\r\n",
      "Author: Vlad Dracula <vlad@tran.sylvan.ia>\r\n",
      "Date:   Wed May 10 16:20:18 2017 -0230\r\n",
      "\r\n",
      "    Discuss concerns about Mars' climate for the Mummy\r\n"
     ]
    }
   ],
   "source": [
    "! git log -1"
   ]
  },
  {
   "cell_type": "markdown",
   "metadata": {},
   "source": [
    "You can also reduce the quantity of information using the --oneline option:"
   ]
  },
  {
   "cell_type": "code",
   "execution_count": 30,
   "metadata": {},
   "outputs": [
    {
     "name": "stdout",
     "output_type": "stream",
     "text": [
      "\u001b[33m405d321\u001b[m Discuss concerns about Mars' climate for the Mummy\r\n",
      "\u001b[33mb03885e\u001b[m Add concerns about effects of Mars' moons on Wolfman\r\n",
      "\u001b[33maa1e8ce\u001b[m Start notes on Mars as a base\r\n"
     ]
    }
   ],
   "source": [
    "! git log --oneline"
   ]
  },
  {
   "cell_type": "markdown",
   "metadata": {},
   "source": [
    "You can also combine the `--oneline` options with others. One useful combination is:"
   ]
  },
  {
   "cell_type": "code",
   "execution_count": 31,
   "metadata": {},
   "outputs": [
    {
     "name": "stdout",
     "output_type": "stream",
     "text": [
      "* \u001b[33m405d321\u001b[m\u001b[33m (\u001b[1;36mHEAD\u001b[m\u001b[33m, \u001b[1;32mmaster\u001b[m\u001b[33m)\u001b[m Discuss concerns about Mars' climate for the Mummy\r\n",
      "* \u001b[33mb03885e\u001b[m Add concerns about effects of Mars' moons on Wolfman\r\n",
      "* \u001b[33maa1e8ce\u001b[m Start notes on Mars as a base\r\n"
     ]
    }
   ],
   "source": [
    "! git log --oneline --graph --all --decorate"
   ]
  },
  {
   "cell_type": "markdown",
   "metadata": {},
   "source": [
    "# Exploring History\n",
    "As we saw in the previous lesson, we can refer to commits by their identifiers. You can refer to the *most recent commit* of the working directory by using the identifier `HEAD`.\n",
    "\n",
    "We’ve been adding one line at a time to `mars.txt`, so it’s easy to track our progress by looking, so let’s do that using our `HEAD`s. Before we start, let’s make a change to `mars.txt`."
   ]
  },
  {
   "cell_type": "code",
   "execution_count": 32,
   "metadata": {},
   "outputs": [
    {
     "name": "stdout",
     "output_type": "stream",
     "text": [
      "Cold and dry, but everything is my favorite color\r\n",
      "The two moons may be a problem for Wolfman\r\n",
      "But the Mummy will appreciate the lack of humidity\r\n",
      "An ill-considered change\r\n"
     ]
    }
   ],
   "source": [
    "! echo \"An ill-considered change\" >> mars.txt\n",
    "# To follow along, please use a text editor like nano \n",
    "# to edit the file.\n",
    "!cat mars.txt"
   ]
  },
  {
   "cell_type": "markdown",
   "metadata": {},
   "source": [
    "Now, let’s see what we get."
   ]
  },
  {
   "cell_type": "code",
   "execution_count": 33,
   "metadata": {},
   "outputs": [
    {
     "name": "stdout",
     "output_type": "stream",
     "text": [
      "\u001b[1mdiff --git a/mars.txt b/mars.txt\u001b[m\r\n",
      "\u001b[1mindex b36abfd..93a3e13 100644\u001b[m\r\n",
      "\u001b[1m--- a/mars.txt\u001b[m\r\n",
      "\u001b[1m+++ b/mars.txt\u001b[m\r\n",
      "\u001b[36m@@ -1,3 +1,4 @@\u001b[m\r\n",
      " Cold and dry, but everything is my favorite color\u001b[m\r\n",
      " The two moons may be a problem for Wolfman\u001b[m\r\n",
      " But the Mummy will appreciate the lack of humidity\u001b[m\r\n",
      "\u001b[32m+\u001b[m\u001b[32mAn ill-considered change\u001b[m\r\n"
     ]
    }
   ],
   "source": [
    "! git diff HEAD mars.txt"
   ]
  },
  {
   "cell_type": "markdown",
   "metadata": {},
   "source": [
    "which is the same as what you would get if you leave out `HEAD` (try it). The real goodness in all this is when you can refer to previous commits. We do that by adding `~1` to refer to the commit one before `HEAD`."
   ]
  },
  {
   "cell_type": "code",
   "execution_count": 34,
   "metadata": {},
   "outputs": [
    {
     "name": "stdout",
     "output_type": "stream",
     "text": [
      "\u001b[1mdiff --git a/mars.txt b/mars.txt\u001b[m\r\n",
      "\u001b[1mindex 315bf3a..93a3e13 100644\u001b[m\r\n",
      "\u001b[1m--- a/mars.txt\u001b[m\r\n",
      "\u001b[1m+++ b/mars.txt\u001b[m\r\n",
      "\u001b[36m@@ -1,2 +1,4 @@\u001b[m\r\n",
      " Cold and dry, but everything is my favorite color\u001b[m\r\n",
      " The two moons may be a problem for Wolfman\u001b[m\r\n",
      "\u001b[32m+\u001b[m\u001b[32mBut the Mummy will appreciate the lack of humidity\u001b[m\r\n",
      "\u001b[32m+\u001b[m\u001b[32mAn ill-considered change\u001b[m\r\n"
     ]
    }
   ],
   "source": [
    "! git diff HEAD~1 mars.txt"
   ]
  },
  {
   "cell_type": "markdown",
   "metadata": {},
   "source": [
    "If we want to see the differences between older commits we can use git diff again, but with the notation HEAD~1, HEAD~2, and so on, to refer to them:"
   ]
  },
  {
   "cell_type": "code",
   "execution_count": 35,
   "metadata": {},
   "outputs": [
    {
     "name": "stdout",
     "output_type": "stream",
     "text": [
      "\u001b[1mdiff --git a/mars.txt b/mars.txt\u001b[m\r\n",
      "\u001b[1mindex df0654a..93a3e13 100644\u001b[m\r\n",
      "\u001b[1m--- a/mars.txt\u001b[m\r\n",
      "\u001b[1m+++ b/mars.txt\u001b[m\r\n",
      "\u001b[36m@@ -1 +1,4 @@\u001b[m\r\n",
      " Cold and dry, but everything is my favorite color\u001b[m\r\n",
      "\u001b[32m+\u001b[m\u001b[32mThe two moons may be a problem for Wolfman\u001b[m\r\n",
      "\u001b[32m+\u001b[m\u001b[32mBut the Mummy will appreciate the lack of humidity\u001b[m\r\n",
      "\u001b[32m+\u001b[m\u001b[32mAn ill-considered change\u001b[m\r\n"
     ]
    }
   ],
   "source": [
    "! git diff HEAD~2 mars.txt"
   ]
  },
  {
   "cell_type": "markdown",
   "metadata": {},
   "source": [
    "We could also use `git show` which shows us what changes we made at an older commit as well as the commit message, rather than the differences between a commit and our working directory that we see by using `git diff`.\n",
    "\n",
    "```shell\n",
    "$ git show HEAD~2 mars.txt\n",
    "commit aa1e8ce00755e9a92534a0946c750b274adb5db2\n",
    "Author: Vlad Dracula <vlad@tran.sylvan.ia>\n",
    "Date:   Wed May 10 15:10:31 2017 -0230\n",
    "\n",
    "    Start notes on Mars as a base\n",
    "\n",
    "diff --git a/mars.txt b/mars.txt\n",
    "new file mode 100644\n",
    "index 0000000..d927c56\n",
    "--- /dev/null\n",
    "+++ b/mars.txt\n",
    "@@ -0,0 +1,2 @@\n",
    "+Cold and dry, but everything is my favorite color\n",
    "+\n",
    "```\n",
    "\n",
    "In this way, we can build up a chain of commits. The most recent end of the chain is referred to as `HEAD`; we can refer to previous commits using the `~` notation, so `HEAD~1` (pronounced \"head minus one\") means \"the previous commit\", while `HEAD~123` goes back 123 commits from where we are now.\n",
    "\n",
    "We can also refer to commits using those long strings of digits and letters that git log displays. These are unique IDs for the changes, and “unique” really does mean unique: every change to any set of files on any computer has a unique 40-character identifier. Our first commit was given the ID aa1e8ce00755e9a92534a0946c750b274adb5db2, so let’s try this:\n",
    "\n",
    "```shell\n",
    "$ git diff aa1e8ce00755e9a92534a0946c750b274adb5db2 mars.txt\n",
    "diff --git a/mars.txt b/mars.txt\n",
    "index d927c56..1e712f8 100644\n",
    "--- a/mars.txt\n",
    "+++ b/mars.txt\n",
    "@@ -1,2 +1,5 @@\n",
    " Cold and dry, but everything is my favorite color\n",
    "+The two moons may be a problem for Wolfman\n",
    "+But the Mummy will appreciate the lack of humidity\n",
    "+An ill-considered change\n",
    "```\n",
    "\n",
    "That’s the right answer, but typing out random 40-character strings is annoying, so Git lets us use just the first few characters:\n",
    "\n",
    "```shell\n",
    "$ git diff aa1e8ce mars.txt\n",
    "diff --git a/mars.txt b/mars.txt\n",
    "index d927c56..1e712f8 100644\n",
    "--- a/mars.txt\n",
    "+++ b/mars.txt\n",
    "@@ -1,2 +1,5 @@\n",
    " Cold and dry, but everything is my favorite color\n",
    "+The two moons may be a problem for Wolfman\n",
    "+But the Mummy will appreciate the lack of humidity\n",
    "+An ill-considered change\n",
    "```\n",
    "\n",
    "All right! So we can save changes to files and see what we’ve changed—now how can we restore older versions of things? Let’s suppose we accidentally overwrite our file:\n",
    "\n"
   ]
  },
  {
   "cell_type": "code",
   "execution_count": 36,
   "metadata": {},
   "outputs": [
    {
     "name": "stdout",
     "output_type": "stream",
     "text": [
      "We will need to manufacture our own oxygen\r\n"
     ]
    }
   ],
   "source": [
    "! echo \"We will need to manufacture our own oxygen\" > mars.txt\n",
    "! cat mars.txt"
   ]
  },
  {
   "cell_type": "markdown",
   "metadata": {},
   "source": [
    "`git status` now tells us that the file has been changed, but those changes haven’t been staged:"
   ]
  },
  {
   "cell_type": "code",
   "execution_count": 37,
   "metadata": {},
   "outputs": [
    {
     "name": "stdout",
     "output_type": "stream",
     "text": [
      "On branch master\r\n",
      "Changes not staged for commit:\r\n",
      "  (use \"git add <file>...\" to update what will be committed)\r\n",
      "  (use \"git checkout -- <file>...\" to discard changes in working directory)\r\n",
      "\r\n",
      "\t\u001b[31mmodified:   mars.txt\u001b[m\r\n",
      "\r\n",
      "no changes added to commit (use \"git add\" and/or \"git commit -a\")\r\n"
     ]
    }
   ],
   "source": [
    "! git status"
   ]
  },
  {
   "cell_type": "markdown",
   "metadata": {},
   "source": [
    "We can put things back the way they were by using git checkout:"
   ]
  },
  {
   "cell_type": "code",
   "execution_count": 38,
   "metadata": {},
   "outputs": [
    {
     "name": "stdout",
     "output_type": "stream",
     "text": [
      "Cold and dry, but everything is my favorite color\r\n",
      "The two moons may be a problem for Wolfman\r\n",
      "But the Mummy will appreciate the lack of humidity\r\n"
     ]
    }
   ],
   "source": [
    "! git checkout HEAD mars.txt\n",
    "! cat mars.txt"
   ]
  },
  {
   "cell_type": "code",
   "execution_count": 39,
   "metadata": {},
   "outputs": [
    {
     "name": "stdout",
     "output_type": "stream",
     "text": [
      "On branch master\r\n",
      "nothing to commit, working directory clean\r\n"
     ]
    }
   ],
   "source": [
    "! git status"
   ]
  },
  {
   "cell_type": "markdown",
   "metadata": {},
   "source": [
    "As you might guess from its name, `git checkout` checks out (i.e., restores) an old version of a file. In this case, we’re telling Git that we want to recover the version of the file recorded in `HEAD`, which is the last saved commit. If we want to go back even further, we can use a commit identifier instead:\n",
    "\n",
    "```shell\n",
    "$ git checkout aa1e8ce mars.txt\n",
    "$ cat mars.txt\n",
    "Cold and dry, but everything is my favorite color\n",
    "\n",
    "$ git status \n",
    "On branch master\n",
    "Changes to be committed:\n",
    "  (use \"git reset HEAD <file>...\" to unstage)\n",
    "\n",
    "\tmodified:   mars.txt\n",
    "```\n",
    "\n",
    "Notice that the changes are on the staged area. Again, we can put things back the way they were with by using git checkout:"
   ]
  },
  {
   "cell_type": "code",
   "execution_count": 40,
   "metadata": {
    "collapsed": true
   },
   "outputs": [],
   "source": [
    "! git checkout -f master mars.txt"
   ]
  },
  {
   "cell_type": "markdown",
   "metadata": {},
   "source": [
    "## Don’t Lose Your HEAD\n",
    "\n",
    "Above we used\n",
    "\n",
    "```shell\n",
    "$ git checkout aa1e8ce mars.txt\n",
    "```\n",
    "\n",
    "to revert `mars.txt` to its state after the commit `aa1e8ce`.  \n",
    "If you forget `mars.txt` in that command, Git will tell you that \"You are in ‘detached HEAD’ state.\" In this state, you shouldn’t make any changes.  \n",
    "You can fix this by reattaching your head using `git checkout master`"
   ]
  },
  {
   "cell_type": "markdown",
   "metadata": {},
   "source": [
    "It’s important to remember that we must use the commit number that identifies the state of the repository *before* the change we’re trying to undo. A common mistake is to use the number of the commit in which we made the change we’re trying to get rid of. \n",
    "\n",
    "In the example below, we want to retrieve the state from before the most recent commit (`HEAD~1`), which is commit `aa1e8ce`:\n",
    "\n",
    "![git-checkout](http://swcarpentry.github.io/git-novice/fig/git-checkout.svg)\n",
    "\n",
    "So, to put it all together, here’s how Git works in cartoon form:\n",
    "\n",
    "![git_staging](http://swcarpentry.github.io/git-novice/fig/git_staging.svg)"
   ]
  },
  {
   "cell_type": "markdown",
   "metadata": {},
   "source": [
    "## Unstaging or Reverting a File (git reset), Discard Revisions (git revert)\n",
    "\n",
    "We won't cover `git reset` and `git revert` in this course. If you are interested in these sub-commands, read the sections on pages 363-365 in the textbook, the chapter [Git - Reset Demystified](https://git-scm.com/book/en/v2/Git-Tools-Reset-Demystified) in the book [Git pro](https://git-scm.com/book/) or the manual pages `git help reset` and `git help revert`."
   ]
  },
  {
   "cell_type": "markdown",
   "metadata": {},
   "source": [
    "## Ignoring Things\n",
    "<http://swcarpentry.github.io/git-novice/06-ignore/>\n",
    "\n",
    "What if we have files that we do not want Git to track for us, like backup files created by our editor or intermediate files created during data analysis. Let’s create a few dummy files:\n",
    "\n",
    "```shell\n",
    "$ mkdir results\n",
    "$ touch a.dat b.dat c.dat results/a.out results/b.out\n",
    "```\n",
    "and see what Git says:\n",
    "\n",
    "```shell\n",
    "$ git status\n",
    "```\n",
    "```\n",
    "On branch master\n",
    "Untracked files:\n",
    "  (use \"git add <file>...\" to include in what will be committed)\n",
    "\n",
    "\ta.dat\n",
    "\tb.dat\n",
    "\tc.dat\n",
    "\tresults/\n",
    "nothing added to commit but untracked files present (use \"git add\" to track)\n",
    "```\n",
    "\n",
    "Putting these files under version control would be a waste of disk space. What’s worse, having them all listed could distract us from changes that actually matter, so let’s tell Git to ignore them.\n",
    "\n",
    "We do this by creating a file in the root directory of our project called `.gitignore`:\n",
    "\n",
    "```shell\n",
    "$ nano .gitignore\n",
    "$ cat .gitignore\n",
    "```\n",
    "```\n",
    "*.dat\n",
    "results/\n",
    "```\n",
    "\n",
    "These patterns tell Git to ignore any file whose name ends in .dat and everything in the results directory. (If any of these files were already being tracked, Git would continue to track them.)\n",
    "\n",
    "Once we have created this file, the output of `git status` is much cleaner:\n",
    "\n",
    "```shell\n",
    "$ git status\n",
    "```\n",
    "```\n",
    "On branch master\n",
    "Untracked files:\n",
    "  (use \"git add <file>...\" to include in what will be committed)\n",
    "\n",
    "\t.gitignore\n",
    "nothing added to commit but untracked files present (use \"git add\" to track)\n",
    "```\n",
    "\n",
    "The only thing Git notices now is the newly-created `.gitignore` file. You might think we wouldn’t want to track it, but everyone we’re sharing our repository with will probably want to ignore the same things that we’re ignoring. Let’s add and commit `.gitignore`:\n",
    "\n",
    "```shell\n",
    "$ git add .gitignore\n",
    "$ git commit -m \"Add the ignore file\"\n",
    "$ git status\n",
    "```\n",
    "```\n",
    "# On branch master\n",
    "nothing to commit, working directory clean\n",
    "```\n",
    "\n",
    "As a bonus, using `.gitignore` helps us avoid accidentally adding to the repository files that we don’t want to track:\n",
    "\n",
    "```shell\n",
    "$ git add a.dat\n",
    "```\n",
    "```\n",
    "The following paths are ignored by one of your .gitignore files:\n",
    "a.dat\n",
    "Use -f if you really want to add them.\n",
    "```\n",
    "\n",
    "If we really want to override our ignore settings, we can use `git add -f` to force Git to add something. For example, `git add -f a.dat`. We can also always see the status of ignored files if we want:\n",
    "\n",
    "```shell\n",
    "$ git status --ignored\n",
    "```\n",
    "```\n",
    "On branch master\n",
    "Ignored files:\n",
    " (use \"git add -f <file>...\" to include in what will be committed)\n",
    "\n",
    "        a.dat\n",
    "        b.dat\n",
    "        c.dat\n",
    "        results/\n",
    "\n",
    "nothing to commit, working directory clean\n",
    "```"
   ]
  },
  {
   "cell_type": "markdown",
   "metadata": {},
   "source": [
    "## Listing, Creating, and Deleting Banches (git branch)\n",
    "\n",
    "*Branches* are parallel instances of a repository that can be edited and version controlled in parallel. They are useful if you want to keep track of various *streams* of your work, that are built on the same initial code-base.\n",
    "\n",
    "For example you want to maintain a stable *master* copy of your code, while working on various experimental implementations or doing development on your code base.\n",
    "\n",
    "Without any further argument, the `git branch` command lists all the existing branches in your local repository:\n",
    "\n",
    "```shell\n",
    "$ git branch\n",
    "```\n",
    "```\n",
    "* master\n",
    "```\n",
    "\n",
    "The \"master\" branch is automatically created when your repository is initialized as a default branch. It's normally used to maintain a clean master version of the source code.\n",
    "\n",
    "Let's start a new branch `randomThaughts`, in which we will keep some changes we are not yet sure about:\n",
    "\n",
    "```shell\n",
    "$ git branch randomThaughts\n",
    "$ git branch\n",
    "```\n",
    "```\n",
    "* master\n",
    "  randomThaughts\n",
    "```\n",
    "\n",
    "We see that we now have two branches: `master` and `randomThaughts`. The asterisk (`*`) next to `master` indicates, that the `master` branch is still our active branch.\n",
    "\n",
    "Whoops, we have a typo!  let's delete this mis-spelled branch before we make any changes to it:\n",
    "\n",
    "```shell\n",
    "$ git branch -d randomThaughts\n",
    "$ git branch\n",
    "```\n",
    "```\n",
    "* master\n",
    "```\n",
    "```shell\n",
    "$ git branch randomThoughts\n",
    "$ git branch\n",
    "```\n",
    "```\n",
    "* master\n",
    "  randomThoughts\n",
    "```\n",
    "\n",
    "This looks much better!"
   ]
  },
  {
   "cell_type": "markdown",
   "metadata": {},
   "source": [
    "### Switching between branches\n",
    "\n",
    "We now want to switch to our `randomThoughts` branch so that commits are made to that branch and no longer to `master`.\n",
    "\n",
    "We check out the new branch:\n",
    "\n",
    "```shell\n",
    "$ git checkout randomThoughts\n",
    "$ git branch\n",
    "```\n",
    "```\n",
    "  master\n",
    "* randomThoughts\n",
    "```\n",
    "\n",
    "The asterisk is now next to `randomThoughts`, indicating that this is now our active branch.\n",
    "\n",
    "Let's create a new file `pluto.txt` with some random thoughts:\n",
    "\n",
    "```shell\n",
    "$ echo 'For me Pluto will always be a planet! (No matter what those scientists say!)' > pluto.txt\n",
    "$ echo 'It is far away, though.' >> pluto.txt\n",
    "$ git add pluto.txt\n",
    "$ git commit -m \"Thoughts about Pluto\"\n",
    "```\n",
    "```\n",
    "[randomThoughts 3bdd8e9] Thoughts about Pluto\n",
    " 1 file changed, 2 insertions(+)\n",
    " create mode 100644 pluto.txt\n",
    "```\n",
    "\n",
    "Let's see where we are at:\n",
    "\n",
    "```shell\n",
    "$ git log --oneline --decorate --graph --all\n",
    "```\n",
    "```\n",
    "* 3bdd8e9 (HEAD -> randomThoughts) Thoughts about Pluto\n",
    "* d0d097b (master) Discuss concerns about Mars' climate for the Mummy\n",
    "* 7a3ba33 Add concerns about effects of Mars' moons on Wolfman\n",
    "* e4cc450 Start notes on Mars as a base\n",
    "```\n",
    "\n",
    "1. The `HEAD` of our working directory is on the `randomThoughts` branch. This is our active branch.\n",
    "2. This branch has our Pluto-commit.\n",
    "3. The `master` branch is still at the commit \"Discuss concerns about Mars' climate for the Mummy\"\n"
   ]
  },
  {
   "cell_type": "markdown",
   "metadata": {},
   "source": [
    "## Merging Branches (git merge)\n",
    "\n",
    "After discussing with our colleagues, we decide that we want to merge the pluto related changes to the `master` branch. After all a dwarf-planet is almost a planet.\n",
    "\n",
    "First we need to switch back to the `master` branch, as the `git merge` command always makes changes to the current (active) branch. (If we were trying some `git merge` commands while we are still on the `randomThoughts` branch, the changes would be merged to this branch.)\n",
    "\n",
    "```shell\n",
    "$ git checkout master\n",
    "```\n",
    "```\n",
    "Switched to 'master'\n",
    "```\n",
    "\n",
    "```shell\n",
    "$ git merge randomThoughts\n",
    "```\n",
    "```\n",
    "Updating d0d097b..3bdd8e9\n",
    "Fast-forward\n",
    " pluto.txt | 2 ++\n",
    " 1 file changed, 2 insertions(+)\n",
    " create mode 100644 pluto.txt\n",
    "```\n",
    "\n",
    "As the branch `randomThoughts` is a decendend of the current `master` branch (i.e. there are no commits in `master` that are not also present in `randomThoughts`, the work for git was really easy. It just applied our commit to the master branch to merge them.  This is called *Fast-forward* merging.\n"
   ]
  },
  {
   "cell_type": "markdown",
   "metadata": {},
   "source": []
  }
 ],
 "metadata": {
  "kernelspec": {
   "display_name": "Python 3",
   "language": "python",
   "name": "python3"
  },
  "language_info": {
   "codemirror_mode": {
    "name": "ipython",
    "version": 3
   },
   "file_extension": ".py",
   "mimetype": "text/x-python",
   "name": "python",
   "nbconvert_exporter": "python",
   "pygments_lexer": "ipython3",
   "version": "3.6.1"
  }
 },
 "nbformat": 4,
 "nbformat_minor": 1
}
