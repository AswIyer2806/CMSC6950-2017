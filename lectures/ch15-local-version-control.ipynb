{
 "cells": [
  {
   "cell_type": "markdown",
   "metadata": {},
   "source": [
    "# Local Version Control with Git\n",
    "\n",
    "[![PhD Comic: notFinal.doc](http://phdcomics.com/comics/archive/phd101212s.gif \"PhD Comic: notFinal.doc\")](http://phdcomics.com/comics/archive.php?comicid=1531)\n",
    "Source: “Piled Higher and Deeper” by Jorge Cham, <http://www.phdcomics.com>\n"
   ]
  },
  {
   "cell_type": "markdown",
   "metadata": {},
   "source": [
    "## What is Version Control?\n",
    "\n",
    "* A way to backup changing files\n",
    "* Keep a history of old versions with annotations (Meta data)\n",
    "* Manage merging of changes between different versions/streams of the files/documents.\n",
    "\n",
    "Conceptually stop thinking of documents existing in different version, but rather having a **base document** and **sets of changes** that are applied to the document and can be *un-done* or applied to a different document that is based on the same base-document."
   ]
  },
  {
   "cell_type": "markdown",
   "metadata": {},
   "source": [
    "## Getting Started with Git\n",
    "\n",
    "### Installing Git\n",
    "\n",
    "To determine if git is already installed, open a terminal and try executing `git`.\n",
    "\n",
    "#### Windows\n",
    "\n",
    "Git is part of the `swc-conda` installer.\n",
    "\n",
    "#### Apple macOS\n",
    "\n",
    "Git is installed when installing the Apple Developer tools and Xcode.\n",
    "\n",
    "#### Linux\n",
    "\n",
    "Git is available from the package repositories of all modern Linux distributions.\n",
    "\n",
    "```shell\n",
    "# for Ubuntu, Debian and related distributions:\n",
    "$ sudo apt-get install git\n",
    "\n",
    "# for Fedora, RedHat, openSuSE and related distributions:\n",
    "$ sudo yum install git\n",
    "```\n",
    "\n",
    "You can always go to the Git website <https://git-scm.com/> and follow the instructions for the platform.\n",
    "\n",
    "### Getting help (git help)\n",
    "\n",
    "A very good book about Git is **Pro Git** by *Scott Chacon* and *Ben Straub*. It is available to [read online for free](https://git-scm.com/book).  \n",
    "*Dead tree* versions are available from many (online) bookstores.\n",
    "\n",
    "As with most unix commands we can have a look into the man-pages:\n",
    "\n",
    "```shell\n",
    "$ man git\n",
    "```\n",
    "\n",
    "Also most unix commands have the command line argument `--help`:"
   ]
  },
  {
   "cell_type": "code",
   "execution_count": 1,
   "metadata": {},
   "outputs": [
    {
     "name": "stdout",
     "output_type": "stream",
     "text": [
      "usage: git [--version] [--help] [-C <path>] [-c name=value]\r\n",
      "           [--exec-path[=<path>]] [--html-path] [--man-path] [--info-path]\r\n",
      "           [-p|--paginate|--no-pager] [--no-replace-objects] [--bare]\r\n",
      "           [--git-dir=<path>] [--work-tree=<path>] [--namespace=<name>]\r\n",
      "           <command> [<args>]\r\n",
      "\r\n",
      "The most commonly used git commands are:\r\n",
      "   add        Add file contents to the index\r\n",
      "   bisect     Find by binary search the change that introduced a bug\r\n",
      "   branch     List, create, or delete branches\r\n",
      "   checkout   Checkout a branch or paths to the working tree\r\n",
      "   clone      Clone a repository into a new directory\r\n",
      "   commit     Record changes to the repository\r\n",
      "   diff       Show changes between commits, commit and working tree, etc\r\n",
      "   fetch      Download objects and refs from another repository\r\n",
      "   grep       Print lines matching a pattern\r\n",
      "   init       Create an empty Git repository or reinitialize an existing one\r\n",
      "   log        Show commit logs\r\n",
      "   merge      Join two or more development histories together\r\n",
      "   mv         Move or rename a file, a directory, or a symlink\r\n",
      "   pull       Fetch from and integrate with another repository or a local branch\r\n",
      "   push       Update remote refs along with associated objects\r\n",
      "   rebase     Forward-port local commits to the updated upstream head\r\n",
      "   reset      Reset current HEAD to the specified state\r\n",
      "   rm         Remove files from the working tree and from the index\r\n",
      "   show       Show various types of objects\r\n",
      "   status     Show the working tree status\r\n",
      "   tag        Create, list, delete or verify a tag object signed with GPG\r\n",
      "\r\n",
      "'git help -a' and 'git help -g' lists available subcommands and some\r\n",
      "concept guides. See 'git help <command>' or 'git help <concept>'\r\n",
      "to read about a specific subcommand or concept.\r\n"
     ]
    }
   ],
   "source": [
    "! git --help"
   ]
  },
  {
   "cell_type": "markdown",
   "metadata": {},
   "source": [
    "Git has a many sub-commands. Each of this sub-commands has it's own help page that cann be accessed with: `git help <command>`."
   ]
  },
  {
   "cell_type": "markdown",
   "metadata": {},
   "source": [
    "### Control the Behavior of Git (git config)\n",
    "\n",
    "First we need to complete the setup process by telling Git our name, email address and favorite text editor, as git will need this when we want to record our changes.\n",
    "\n",
    "**Run the following commands using your own name and email address:**\n",
    "\n",
    "```shell\n",
    "git config --global user.name   \"Oliver Stueker\"\n",
    "git config --global user.email  \"ostueker@example.com\"\n",
    "git config --global core.editor \"nano\"\n",
    "git config --global alias.slog  \"log --pretty=format:'%h - %an, %ar : %s'\"\n",
    "```\n",
    "\n",
    "**Look at you current configuration:**\n",
    "```shell\n",
    "git config --list\n",
    "```\n",
    "```\n",
    "user.name=Oliver Stueker\n",
    "user.email=ostueker@example.com\n",
    "core.excludesfile=/home/ostueker/.gitignore_global\n",
    "core.editor=vim\n",
    "alias.unstage=reset HEAD --\n",
    "alias.slog=log --pretty=format:'%h - %an, %ar : %s'\n",
    "alias.ilog=log --pretty=format:\"%h - %an, %ai : %s\"\n",
    "color.ui=auto\n",
    "push.default=current\n",
    "diff.tool=meld\n",
    "diff.guitool=meld\n",
    "merge.tool=meld\n",
    "```"
   ]
  },
  {
   "cell_type": "markdown",
   "metadata": {},
   "source": [
    "## Local Version Control With Git\n",
    "\n",
    "We will:\n",
    "\n",
    "* Creating a repository.\n",
    "* Adding files to that repository, so that they can be tracked.\n",
    "* Taking snapshots of incremental versions, so that they can be logged.\n",
    "* Undoing changes.\n",
    "* Redoing them.\n",
    "* Trying new ideas in separate sandboxes.\n",
    "\n",
    "### Create a Local Repository (git init)\n"
   ]
  },
  {
   "cell_type": "code",
   "execution_count": 2,
   "metadata": {},
   "outputs": [
    {
     "name": "stdout",
     "output_type": "stream",
     "text": [
      "/home/ostueker/Carpentry/CMSC6950-2017/lectures/git_planets\n"
     ]
    }
   ],
   "source": [
    "! mkdir git_planets\n",
    "%cd git_planets"
   ]
  },
  {
   "cell_type": "code",
   "execution_count": 3,
   "metadata": {},
   "outputs": [
    {
     "name": "stdout",
     "output_type": "stream",
     "text": [
      "Initialized empty Git repository in /home/ostueker/Carpentry/CMSC6950-2017/lectures/git_planets/.git/\r\n"
     ]
    }
   ],
   "source": [
    "! git init"
   ]
  },
  {
   "cell_type": "code",
   "execution_count": 4,
   "metadata": {},
   "outputs": [],
   "source": [
    "%ls"
   ]
  },
  {
   "cell_type": "code",
   "execution_count": 5,
   "metadata": {},
   "outputs": [
    {
     "name": "stdout",
     "output_type": "stream",
     "text": [
      "\u001b[0m\u001b[01;34m.git\u001b[0m/\r\n"
     ]
    }
   ],
   "source": [
    "%ls -A"
   ]
  },
  {
   "cell_type": "markdown",
   "metadata": {},
   "source": [
    "The command `git init` has created an hidden directory called `.git`."
   ]
  },
  {
   "cell_type": "code",
   "execution_count": 6,
   "metadata": {},
   "outputs": [
    {
     "name": "stdout",
     "output_type": "stream",
     "text": [
      "/home/ostueker/Carpentry/CMSC6950-2017/lectures/git_planets/.git\n",
      "\u001b[0m\u001b[01;34mbranches\u001b[0m/  config  description  HEAD  \u001b[01;34mhooks\u001b[0m/  \u001b[01;34minfo\u001b[0m/  \u001b[01;34mobjects\u001b[0m/  \u001b[01;34mrefs\u001b[0m/\r\n"
     ]
    }
   ],
   "source": [
    "%cd .git\n",
    "%ls -A"
   ]
  },
  {
   "cell_type": "markdown",
   "metadata": {},
   "source": [
    "This `.git` directory contains the local git repository. Navigating into that directory and listing it's content reveals how git organizes it's data internally.  With ordinary use of git, one will never need to alter these hidden files, however it is good to know that the whole repository is containded in this hidden directory at the top level of the repository.\n",
    "\n",
    "**A repository can easily be moved to a different location, as long the `.git` directory is relocated along with it!**"
   ]
  },
  {
   "cell_type": "code",
   "execution_count": 7,
   "metadata": {},
   "outputs": [
    {
     "name": "stdout",
     "output_type": "stream",
     "text": [
      "/home/ostueker/Carpentry/CMSC6950-2017/lectures/git_planets\n"
     ]
    }
   ],
   "source": [
    "%cd .."
   ]
  },
  {
   "cell_type": "markdown",
   "metadata": {},
   "source": [
    "### Staging Files (git add)"
   ]
  },
  {
   "cell_type": "code",
   "execution_count": 10,
   "metadata": {},
   "outputs": [
    {
     "name": "stdout",
     "output_type": "stream",
     "text": [
      "Cold and dry, but everything is my favorite color\r\n",
      "\r\n"
     ]
    }
   ],
   "source": [
    "# I will copy a file that I have prepared:\n",
    "!cp ../git_files/mars.txt.1  mars.txt\n",
    "# To follow along, please use nano to create a file mars.txt\n",
    "# with the content below.\n",
    "# nano mars.txt\n",
    "!cat mars.txt"
   ]
  },
  {
   "cell_type": "code",
   "execution_count": 9,
   "metadata": {},
   "outputs": [
    {
     "name": "stdout",
     "output_type": "stream",
     "text": [
      "On branch master\r\n",
      "\r\n",
      "Initial commit\r\n",
      "\r\n",
      "Untracked files:\r\n",
      "  (use \"git add <file>...\" to include in what will be committed)\r\n",
      "\r\n",
      "\t\u001b[31mmars.txt\u001b[m\r\n",
      "\r\n",
      "nothing added to commit but untracked files present (use \"git add\" to track)\r\n"
     ]
    }
   ],
   "source": [
    "!git status"
   ]
  },
  {
   "cell_type": "code",
   "execution_count": 11,
   "metadata": {
    "collapsed": true
   },
   "outputs": [],
   "source": [
    "!git add mars.txt"
   ]
  },
  {
   "cell_type": "markdown",
   "metadata": {},
   "source": [
    "### Checking the Status of Your Local Copy (git status)\n",
    "\n",
    "(!) Run `git status` often! It will show you what is going on and make suggestions on what you might want to do next."
   ]
  },
  {
   "cell_type": "code",
   "execution_count": 12,
   "metadata": {},
   "outputs": [
    {
     "name": "stdout",
     "output_type": "stream",
     "text": [
      "On branch master\r\n",
      "\r\n",
      "Initial commit\r\n",
      "\r\n",
      "Changes to be committed:\r\n",
      "  (use \"git rm --cached <file>...\" to unstage)\r\n",
      "\r\n",
      "\t\u001b[32mnew file:   mars.txt\u001b[m\r\n",
      "\r\n"
     ]
    }
   ],
   "source": [
    "!git status"
   ]
  },
  {
   "cell_type": "markdown",
   "metadata": {},
   "source": [
    "### Saving a Snapshot (git commit)"
   ]
  },
  {
   "cell_type": "code",
   "execution_count": 13,
   "metadata": {},
   "outputs": [
    {
     "name": "stdout",
     "output_type": "stream",
     "text": [
      "[master (root-commit) c2af8f1] Start notes on Mars as a base\r\n",
      " 1 file changed, 2 insertions(+)\r\n",
      " create mode 100644 mars.txt\r\n"
     ]
    }
   ],
   "source": [
    "!git commit -m \"Start notes on Mars as a base\""
   ]
  },
  {
   "cell_type": "markdown",
   "metadata": {},
   "source": [
    "#### Write good commit messages!\n",
    "\n",
    "Log messages are very useful if used properly.  They help other people (your colleagues, your future self), a to understand the intentions of this commit.\n",
    "\n",
    "[![xkcd: Git Commit](https://imgs.xkcd.com/comics/git_commit.png)](https://xkcd.com/1296/)\n",
    "\n",
    "\n",
    "A good commit message captures the intention of a commit and provides some context.\n",
    "It is recommended to not use the `-m` argument, as it opens a text editor that allows to write a more comprehensive message.\n",
    "\n",
    "#### The seven rules of a great Git commit message\n",
    "\n",
    "1. Separate subject from body with a blank line\n",
    "2. Limit the subject line to 50 characters\n",
    "3. Capitalize the subject line\n",
    "4. Do not end the subject line with a period\n",
    "5. Use the imperative mood in the subject line\n",
    "6. Wrap the body at 72 characters\n",
    "7. Use the body to explain what and why vs. how\n",
    "\n",
    "For example:\n",
    "```\n",
    "Summarize changes in around 50 characters or less\n",
    "\n",
    "More detailed explanatory text, if necessary. Wrap it to about 72\n",
    "characters or so. In some contexts, the first line is treated as the\n",
    "subject of the commit and the rest of the text as the body. The\n",
    "blank line separating the summary from the body is critical (unless\n",
    "you omit the body entirely); various tools like `log`, `shortlog`\n",
    "and `rebase` can get confused if you run the two together.\n",
    "\n",
    "Explain the problem that this commit is solving. Focus on why you\n",
    "are making this change as opposed to how (the code explains that).\n",
    "Are there side effects or other unintuitive consequences of this\n",
    "change? Here's the place to explain them.\n",
    "\n",
    "Further paragraphs come after blank lines.\n",
    "\n",
    " - Bullet points are okay, too\n",
    "\n",
    " - Typically a hyphen or asterisk is used for the bullet, preceded\n",
    "   by a single space, with blank lines in between, but conventions\n",
    "   vary here\n",
    "\n",
    "If you use an issue tracker, put references to them at the bottom,\n",
    "like this:\n",
    "\n",
    "Resolves: #123\n",
    "See also: #456, #789\n",
    "```\n",
    "\n",
    "<https://chris.beams.io/posts/git-commit/>"
   ]
  },
  {
   "cell_type": "markdown",
   "metadata": {},
   "source": [
    "#### Commit often! \n",
    "\n",
    "Evey commit is a point that you can revert to in the future.  Good commits are *atomic* (self consistent), the smallest change that remains meaningful.  They should not represent more work than you are willing to loose."
   ]
  },
  {
   "cell_type": "code",
   "execution_count": 15,
   "metadata": {},
   "outputs": [
    {
     "name": "stdout",
     "output_type": "stream",
     "text": [
      "On branch master\r\n",
      "nothing to commit, working directory clean\r\n"
     ]
    }
   ],
   "source": [
    "!git status"
   ]
  },
  {
   "cell_type": "markdown",
   "metadata": {},
   "source": []
  }
 ],
 "metadata": {
  "kernelspec": {
   "display_name": "Python 3",
   "language": "python",
   "name": "python3"
  },
  "language_info": {
   "codemirror_mode": {
    "name": "ipython",
    "version": 3
   },
   "file_extension": ".py",
   "mimetype": "text/x-python",
   "name": "python",
   "nbconvert_exporter": "python",
   "pygments_lexer": "ipython3",
   "version": "3.6.1"
  }
 },
 "nbformat": 4,
 "nbformat_minor": 1
}
