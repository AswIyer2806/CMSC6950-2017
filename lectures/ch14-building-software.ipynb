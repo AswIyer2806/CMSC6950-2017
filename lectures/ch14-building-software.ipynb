{
 "cells": [
  {
   "cell_type": "markdown",
   "metadata": {
    "slideshow": {
     "slide_type": "subslide"
    }
   },
   "source": [
    "# Building Software and Pipelines"
   ]
  },
  {
   "cell_type": "markdown",
   "metadata": {
    "slideshow": {
     "slide_type": "subslide"
    }
   },
   "source": [
    "For building (compiling) software that was written in a compiled language, most of the times one uses a so called build system.\n",
    "\n",
    "For software written in C, C++ or Fortran, a tool called **make** is normally used."
   ]
  },
  {
   "cell_type": "markdown",
   "metadata": {
    "slideshow": {
     "slide_type": "slide"
    }
   },
   "source": [
    "## Building Software\n",
    "### Example \n",
    "(taken from \"A Simple Makefile Tutorial\" <http://www.cs.colby.edu/maxwell/courses/tutorials/maketutor/> )\n",
    "\n",
    "A small C-program could consist of these three files: \n",
    "* **hellofunc.c**:\n",
    "\n",
    "```c\n",
    "#include <stdio.h>\n",
    "#include <hellomake.h>\n",
    "void myPrintHelloMake(void) {\n",
    "  printf(\"Hello makefiles!\\n\");\n",
    "  return;\n",
    "}\n",
    "```\n",
    "\n",
    "* **hellomake.c**:\n",
    "\n",
    "```c\n",
    "#include <hellomake.h>\n",
    "int main() {\n",
    "  // call a function in another file\n",
    "  myPrintHelloMake();\n",
    "  return(0);\n",
    "}\n",
    "```\n",
    "\n",
    "* **hellomake.h**:\n",
    "\n",
    "```c\n",
    "/*\n",
    "example include file\n",
    "*/\n",
    "void myPrintHelloMake(void);\n",
    "```\n",
    "\n",
    "This could then be built with the command:\n",
    "\n",
    "```shell\n",
    "$ gcc -o hellomake hellomake.c hellofunc.c -I.\n",
    "```\n",
    "\n",
    "This will build the compiled executable **hellomake** (`-o hellomake`) from the source files `hellomake.c` and `hellofunc.c` while looking for futher include-files (also called header files) in the current directory (`-I.`).\n",
    "\n",
    "While this can work for smaller software projects, the command for compiling a progam consisting of dozends of file will become very long and complicated and will cause all files to be re-compiled every time, even if only a single file has changed.\n"
   ]
  },
  {
   "cell_type": "markdown",
   "metadata": {
    "slideshow": {
     "slide_type": "slide"
    }
   },
   "source": [
    "## Enter Make\n",
    "\n",
    "The developer usually creates a Makefile, which decribes the components and steps of the build process.  When running **make**, it reads the Makefile and builds the software based on the *targets* defined in there.\n",
    "\n",
    "A Makefile for above example might look like this:\n",
    "\n",
    "#### Makefile 1\n",
    "```Makefile\n",
    "hellomake: hellomake.c hellofunc.c\n",
    "\tgcc -o hellomake hellomake.c hellofunc.c -I.\n",
    "\n",
    "```\n",
    "**Important:** The indentation in Makefiles has to use tab characters (not spaces)!!!\n",
    "\n",
    "Now one can build `hellomake` with one command:\n",
    "\n",
    "```shell\n",
    "$ make -f Makefile1\n",
    "make: 'hellomake' is up to date.\n",
    "```\n",
    "\n",
    "1. If the makefile would be called just `Makefile` (not `Makefile1`), one would only need to type `make`.\n",
    "2. Make notices that hellomake has already been compiled and is up to date and ends up doing nothing.\n"
   ]
  },
  {
   "cell_type": "markdown",
   "metadata": {
    "slideshow": {
     "slide_type": "slide"
    }
   },
   "source": [
    "### Only compile the files that have changed\n",
    "\n",
    "In `Makefile1` the first line defines `hellomake` as a **target** for which `hellomake.c` and `hellofunc.c` are dependencies. If the target does not already exist or at least one of the dependencies has a newer timestamp than the target, make will run the indented block of commands to create (build) the target.\n",
    "\n",
    "We can split the build process in pieces, creating a compiled object file from each of the .c files and linking these to the final `hellomake` executable.\n",
    "\n",
    "#### Makefile2\n",
    "```Makefile\n",
    "hellomake: hellomake.o hellofunc.o \n",
    "\tgcc -o hellomake hellomake.o hellofunc.o -I.\n",
    "    \n",
    "hellomake.o: hellomake.c\n",
    "\tgcc -c -o hellomake.o hellomake.c -I.\n",
    "\n",
    "hellofunc.o: hellofunc.c\n",
    "\tgcc -c -o hellofunc.o hellofunc.c -I.\n",
    "\n",
    "```\n",
    "\n",
    "The -c option of the C-compiler makes it build only the intermediary object files.\n",
    "\n",
    "In addition to that we can introduce variables for our C-compiler and compiler-flags:\n",
    "\n",
    "#### Makefile2b\n",
    "```makefile\n",
    "CC=gcc\n",
    "CFLAGS=-I.\n",
    "\n",
    "hellomake: hellomake.o hellofunc.o \n",
    "\t$(CC) -o hellomake hellomake.o hellofunc.o $(CFLAGS)\n",
    "\n",
    "hellomake.o: hellomake.c\n",
    "\t$(CC) -c -o hellomake.o hellomake.c $(CFLAGS)\n",
    "\n",
    "hellofunc.o: hellofunc.c\n",
    "\t$(CC) -c -o hellofunc.o hellofunc.c $(CFLAGS)\n",
    "```\n",
    "\n"
   ]
  },
  {
   "cell_type": "markdown",
   "metadata": {
    "slideshow": {
     "slide_type": "slide"
    }
   },
   "source": [
    "We can avoid writing (and maintaining) a new target for every single object (.o) file that we want to create from a .c file by defining a general macro:\n",
    "\n",
    "#### Makefile3\n",
    "```makefile\n",
    "CC=gcc\n",
    "CFLAGS=-I.\n",
    "DEPS = hellomake.h\n",
    "\n",
    "hellomake: hellomake.o hellofunc.o \n",
    "\t$(CC) -o hellomake hellomake.o hellofunc.o $(CFLAGS)\n",
    "\n",
    "%.o: %.c $(DEPS)\n",
    "\t$(CC) -c -o  $@  $<  $(CFLAGS)\n",
    "```\n",
    "\n",
    "* The line **`%.o: %.c $(DEPS)`** says: Any target that ends in **`.o`** depends on a file with the same base name and ending in **`.c`** in addition to what is listed in the variable called **`DEPS`**\n",
    "* In the compiler command the **`$@`** macro is replaced with the full name of target (before the `:`) and\n",
    "* the **`$<`** macro is replaced with the first item of the dependency list (after the `:`)\n",
    "\n"
   ]
  },
  {
   "cell_type": "markdown",
   "metadata": {
    "slideshow": {
     "slide_type": "slide"
    }
   },
   "source": [
    "Following the **DRY** Principle (**D**on't **R**epeat **Y**ourself), we can simplify a bit more, by defining the list of objects that hellomake depends on in one place and using the **`$^`** macro, that is replaced by the full list of dependencies of a target:\n",
    "\n",
    "#### Makefile4\n",
    "```Makefile\n",
    "CC=gcc\n",
    "CFLAGS=-I.\n",
    "DEPS = hellomake.h\n",
    "OBJ= hellomake.o hellofunc.o\n",
    "\n",
    "hellomake: $(OBJ) \n",
    "\t$(CC) -o  $@  $^  $(CFLAGS)\n",
    "\n",
    "%.o: %.c $(DEPS)\n",
    "\t$(CC) -c -o  $@  $<  $(CFLAGS)\n",
    "```\n"
   ]
  },
  {
   "cell_type": "markdown",
   "metadata": {
    "slideshow": {
     "slide_type": "slide"
    }
   },
   "source": [
    "Finally we add a \"phony\" target called \"clean\" that deletes all objects and the execuable:\n",
    "\n",
    "#### Makefile\n",
    "```Makefile\n",
    "CC=gcc\n",
    "CFLAGS=-I.\n",
    "DEPS = hellomake.h\n",
    "OBJ= hellomake.o hellofunc.o\n",
    "\n",
    "hellomake: $(OBJ) \n",
    "\t$(CC) -o  $@  $^  $(CFLAGS)\n",
    "\n",
    "%.o: %.c $(DEPS)\n",
    "\t$(CC) -c -o  $@  $<  $(CFLAGS)\n",
    "\n",
    ".PHONY: clean\n",
    "\n",
    "clean:\n",
    "\trm $(OBJ)\n",
    "\trm hellomake\n",
    "```\n",
    "\n",
    "The .PHONY rule tells make that it should not expect a file named `clean`."
   ]
  },
  {
   "cell_type": "markdown",
   "metadata": {},
   "source": [
    "```shell\n",
    "$ make clean\n",
    "rm hellomake.o hellofunc.o\n",
    "rm hellomake\n",
    "\n",
    "$ make\n",
    "gcc -c -o  hellomake.o  hellomake.c  -I.\n",
    "gcc -c -o  hellofunc.o  hellofunc.c  -I.\n",
    "gcc -o  hellomake  hellomake.o hellofunc.o  -I.\n",
    "\n",
    "```"
   ]
  },
  {
   "cell_type": "markdown",
   "metadata": {},
   "source": [
    "## How can Make be used to automate an analysis workflow?\n",
    "\n",
    "Imagine you have:\n",
    "\n",
    "1. several files of raw data,\n",
    "2. a script `process_data.py` processes the raw data and writes the processed data into a differnent file,\n",
    "3. a script `plot_data.py` that generates a plot/figure/image from the processed data,\n",
    "4. one or more LaTeX files and bibliography files for a thesis, report, manuscript, etc.\n",
    "5. And you want to quickly re-generate your report any time you get new data.\n"
   ]
  },
  {
   "cell_type": "markdown",
   "metadata": {},
   "source": [
    "\n",
    "```python\n",
    "Generate some data:\n",
    "import numpy as np\n",
    "x = np.arange(0, 2*np.pi, np.pi/100)\n",
    "y1 = np.sin(x)\n",
    "y2 = np.cos(x)\n",
    "y3 = np.tan(x)\n",
    "np.savetxt(\"data/data1.txt\", y1, delimiter=',' )\n",
    "np.savetxt(\"data/data2.txt\", y2, delimiter=',' )\n",
    "np.savetxt(\"data/data3.txt\", y3, delimiter=',' )\n",
    "```"
   ]
  },
  {
   "cell_type": "code",
   "execution_count": 17,
   "metadata": {
    "slideshow": {
     "slide_type": "skip"
    }
   },
   "outputs": [
    {
     "name": "stdout",
     "output_type": "stream",
     "text": [
      "[Errno 2] No such file or directory: 'make_report'\n",
      "/home/ostueker/Carpentry/CMSC6950-2017/lectures\n"
     ]
    }
   ],
   "source": [
    "cd make_report"
   ]
  },
  {
   "cell_type": "code",
   "execution_count": 6,
   "metadata": {},
   "outputs": [
    {
     "name": "stdout",
     "output_type": "stream",
     "text": [
      "\u001b[0m\u001b[01;34mdata\u001b[0m/  \u001b[01;35mfigure1.svg\u001b[0m  plot_data.py  process_data.py  \u001b[01;34mtempdir\u001b[0m/\n",
      "====================\n",
      "data1.txt  data2.txt  data3.txt\n"
     ]
    }
   ],
   "source": [
    "%ls"
   ]
  },
  {
   "cell_type": "code",
   "execution_count": 7,
   "metadata": {},
   "outputs": [
    {
     "name": "stdout",
     "output_type": "stream",
     "text": [
      "data1.txt  data2.txt  data3.txt\r\n"
     ]
    }
   ],
   "source": [
    "%ls data"
   ]
  },
  {
   "cell_type": "code",
   "execution_count": 15,
   "metadata": {},
   "outputs": [
    {
     "name": "stdout",
     "output_type": "stream",
     "text": [
      "usage: process_data.py [-h] [-o OUTFILE.CSV] FILE.TXT [FILE.TXT ...]\n",
      "\n",
      "Process some data files.\n",
      "\n",
      "positional arguments:\n",
      "  FILE.TXT        name of data file\n",
      "\n",
      "optional arguments:\n",
      "  -h, --help      show this help message and exit\n",
      "  -o OUTFILE.CSV  name of the output file\n"
     ]
    }
   ],
   "source": [
    "%run process_data.py --help"
   ]
  },
  {
   "cell_type": "code",
   "execution_count": 16,
   "metadata": {},
   "outputs": [
    {
     "name": "stdout",
     "output_type": "stream",
     "text": [
      "usage: plot_data.py [-h] [-i INFILE.CSV] [-o PLOT.SVG]\n",
      "\n",
      "Plot a datafile.\n",
      "\n",
      "optional arguments:\n",
      "  -h, --help     show this help message and exit\n",
      "  -i INFILE.CSV  name of the data file\n",
      "  -o PLOT.SVG    name of the output file\n"
     ]
    }
   ],
   "source": [
    "%run plot_data.py --help"
   ]
  },
  {
   "cell_type": "markdown",
   "metadata": {},
   "source": [
    "#### Content of `Makefile`:\n",
    "\n",
    "```Makefile\n",
    "# Makefile to process datafiles, generate a plot and build LaTeX report.\n",
    "\n",
    "# Variable with list of files with raw data:\n",
    "DATA=data/data1.txt data/data2.txt data/data3.txt\n",
    "\n",
    "report.pdf:  report.tex  figure1.svg\n",
    "\tlatexmk -pdf -pdflatex='pdflatex -shell-escape'\n",
    "\n",
    "figure1.svg:  plot_data.py  tempdir/processed_data.csv\n",
    "\tpython plot_data.py  -i tempdir/processed_data.csv  -o figure1.svg\n",
    "\n",
    "tempdir/processed_data.csv:  process_data.py  $(DATA)\n",
    "\tpython process_data.py  $(DATA)  -o tempdir/processed_data.csv\n",
    "\n",
    "\n",
    ".PHONY:  clean  almost_clean\n",
    "\n",
    "clean:  almost_clean\n",
    "\trm report.pdf\n",
    "\trm figure1.svg\n",
    "\n",
    "almost_clean:\n",
    "\tlatexmk -c\n",
    "\trm tempdir/processed_data.csv\n",
    "```\n"
   ]
  },
  {
   "cell_type": "markdown",
   "metadata": {},
   "source": [
    "#### Content of file report.tex:\n",
    "\n",
    "```latex\n",
    "\\documentclass[10pt,letterpaper]{article}\n",
    "\\usepackage{fullpage}\n",
    "\\usepackage{svg}\n",
    "\\usepackage{minted}\n",
    "\\usepackage{float}\n",
    "\n",
    "\\begin{document}\n",
    "\\title{Building a Workflow to create Reports}\n",
    "\\author{Oliver Stueker}\n",
    "\\date{\\today}\n",
    "\\maketitle\n",
    "\n",
    "\\begin{abstract}\n",
    "This document is created by a make script.\n",
    "\\end{abstract}\n",
    "\n",
    "\\section{Introduction}\n",
    "Lorem ipsum dolor sit amet, consectetur adipisicing elit, sed do eiusmod\n",
    "tempor incididunt ut labore et dolore magna aliqua. Ut enim ad minim veniam.\n",
    "\n",
    "\\begin{figure}[!ht]\n",
    "\t\\centering\n",
    "\t\\includesvg[width=0.5\\columnwidth]{figure1}\n",
    "\t\\caption{The plotted example data.}\n",
    "\\end{figure}\n",
    "\n",
    "Lorem ipsum dolor sit amet, consectetur adipisicing elit, sed do eiusmod\n",
    "tempor incididunt ut labore et dolore magna aliqua. Ut enim ad minim veniam.\n",
    "\n",
    "\n",
    "\\end{document}\n",
    "```\n"
   ]
  },
  {
   "cell_type": "markdown",
   "metadata": {},
   "source": [
    "#### Content of file `process_data.py`:\n",
    "\n",
    "```python\n",
    "#!/bin/env/python3\n",
    "import argparse\n",
    "import os\n",
    "import numpy as np\n",
    "import pandas as pd\n",
    "\n",
    "# use argparse package for processing command line arguments\n",
    "parser = argparse.ArgumentParser(description='Process some data files.')\n",
    "parser.add_argument('infiles', metavar='FILE.TXT', type=str, nargs='+',\n",
    "                    help='name of data file')\n",
    "parser.add_argument('-o', dest='outfile', metavar='OUTFILE.CSV',\n",
    "                    default=\"tempdir/processed_data.csv\",\n",
    "                    help='name of the output file')\n",
    "args = parser.parse_args()\n",
    "\n",
    "# load all inputfiles and store arrays in dict\n",
    "data = {}\n",
    "for arg in args.infiles:\n",
    "    dat = np.loadtxt(arg)\n",
    "    name = arg.split('/')[-1].split('.')[0]\n",
    "    data[name]=dat\n",
    "\n",
    "# create dataframe from dict\n",
    "df = pd.DataFrame(data)\n",
    "\n",
    "# do some 'fancy' processing ;-)\n",
    "df['prod'] = df['data1'] * df['data2'] + df['data3']\n",
    "\n",
    "# create temp dir\n",
    "if not os.path.exists('tempdir'):\n",
    "    os.mkdir('tempdir')\n",
    "\n",
    "# export processed data\n",
    "df.to_csv(args.outfile, index=False)\n",
    "```\n"
   ]
  },
  {
   "cell_type": "markdown",
   "metadata": {},
   "source": [
    "#### Content of file `plot_data.py`:\n",
    "\n",
    "```python\n",
    "#!/bin/env/python3\n",
    "import argparse\n",
    "import os\n",
    "import pandas as pd\n",
    "\n",
    "# use argparse package for processing command line arguments\n",
    "parser = argparse.ArgumentParser(description='Plot a datafile.')\n",
    "parser.add_argument('-i', dest='infile', metavar='INFILE.CSV', \n",
    "                    default=\"tempdir/processed_data.csv\",\n",
    "                    help='name of the data file')\n",
    "parser.add_argument('-o', dest='outfile', metavar='PLOT.SVG',\n",
    "                    default=\"figure.svg\",\n",
    "                    help='name of the output file')\n",
    "args = parser.parse_args()\n",
    "\n",
    "df = pd.read_csv(args.infile)\n",
    "\n",
    "plot = df.plot(ylim=(-5,5))\n",
    "plot.figure.savefig(args.outfile)\n",
    "\n",
    "```"
   ]
  },
  {
   "cell_type": "code",
   "execution_count": null,
   "metadata": {
    "collapsed": true
   },
   "outputs": [],
   "source": []
  }
 ],
 "metadata": {
  "kernelspec": {
   "display_name": "Python 3",
   "language": "python",
   "name": "python3"
  },
  "language_info": {
   "codemirror_mode": {
    "name": "ipython",
    "version": 3
   },
   "file_extension": ".py",
   "mimetype": "text/x-python",
   "name": "python",
   "nbconvert_exporter": "python",
   "pygments_lexer": "ipython3",
   "version": "3.6.1"
  }
 },
 "nbformat": 4,
 "nbformat_minor": 1
}
