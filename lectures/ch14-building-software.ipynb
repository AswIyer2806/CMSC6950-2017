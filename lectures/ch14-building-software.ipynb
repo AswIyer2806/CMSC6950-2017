{
 "cells": [
  {
   "cell_type": "markdown",
   "metadata": {
    "slideshow": {
     "slide_type": "subslide"
    }
   },
   "source": [
    "# Building Software and Pipelines"
   ]
  },
  {
   "cell_type": "markdown",
   "metadata": {
    "slideshow": {
     "slide_type": "subslide"
    }
   },
   "source": [
    "For building (compiling) software that was written in a compiled language, most of the times one uses a so called build system.\n",
    "\n",
    "For software written in C, C++ or Fortran, a tool called **make** is normally used."
   ]
  },
  {
   "cell_type": "markdown",
   "metadata": {
    "slideshow": {
     "slide_type": "slide"
    }
   },
   "source": [
    "## Building Software\n",
    "### Example \n",
    "(taken from \"A Simple Makefile Tutorial\" <http://www.cs.colby.edu/maxwell/courses/tutorials/maketutor/> )\n",
    "\n",
    "A small C-program could consist of these three files: \n",
    "* **hellofunc.c**:\n",
    "\n",
    "```c\n",
    "#include <stdio.h>\n",
    "#include <hellomake.h>\n",
    "void myPrintHelloMake(void) {\n",
    "  printf(\"Hello makefiles!\\n\");\n",
    "  return;\n",
    "}\n",
    "```\n",
    "\n",
    "* **hellomake.c**:\n",
    "\n",
    "```c\n",
    "#include <hellomake.h>\n",
    "int main() {\n",
    "  // call a function in another file\n",
    "  myPrintHelloMake();\n",
    "  return(0);\n",
    "}\n",
    "```\n",
    "\n",
    "* **hellomake.h**:\n",
    "\n",
    "```c\n",
    "/*\n",
    "example include file\n",
    "*/\n",
    "void myPrintHelloMake(void);\n",
    "```\n",
    "\n",
    "This could then be built with the command:\n",
    "\n",
    "```shell\n",
    "$ gcc -o hellomake hellomake.c hellofunc.c -I.\n",
    "```\n",
    "\n",
    "This will build the compiled executable **hellomake** (`-o hellomake`) from the source files `hellomake.c` and `hellofunc.c` while looking for futher include-files (also called header files) in the current directory (`-I.`).\n",
    "\n",
    "While this can work for smaller software projects, the command for compiling a progam consisting of dozends of file will become very long and complicated and will cause all files to be re-compiled every time, even if only a single file has changed.\n"
   ]
  },
  {
   "cell_type": "markdown",
   "metadata": {
    "slideshow": {
     "slide_type": "slide"
    }
   },
   "source": [
    "## Enter Make\n",
    "\n",
    "The developer usually creates a Makefile, which decribes the components and steps of the build process.  When running **make**, it reads the Makefile and builds the software based on the *targets* defined in there.\n",
    "\n",
    "A Makefile for above example might look like this:\n",
    "\n",
    "#### Makefile 1\n",
    "```Makefile\n",
    "hellomake: hellomake.c hellofunc.c\n",
    "\tgcc -o hellomake hellomake.c hellofunc.c -I.\n",
    "\n",
    "```\n",
    "**Important:** The indentation in Makefiles has to use tab characters (not spaces)!!!\n",
    "\n",
    "Now one can build `hellomake` with one command:\n",
    "\n",
    "```shell\n",
    "$ make -f Makefile1\n",
    "make: 'hellomake' is up to date.\n",
    "```\n",
    "\n",
    "1. If the makefile would be called just `Makefile` (not `Makefile1`), one would only need to type `make`.\n",
    "2. Make notices that hellomake has already been compiled and is up to date and ends up doing nothing.\n"
   ]
  },
  {
   "cell_type": "markdown",
   "metadata": {
    "slideshow": {
     "slide_type": "slide"
    }
   },
   "source": [
    "### Only compile the files that have changed\n",
    "\n",
    "In `Makefile1` the first line defines `hellomake` as a **target** for which `hellomake.c` and `hellofunc.c` are dependencies. If the target does not already exist or at least one of the dependencies has a newer timestamp than the target, make will run the indented block of commands to create (build) the target.\n",
    "\n",
    "We can split the build process in pieces, creating a compiled object file from each of the .c files and linking these to the final `hellomake` executable.\n",
    "\n",
    "#### Makefile2\n",
    "```Makefile\n",
    "hellomake: hellomake.o hellofunc.o \n",
    "\tgcc -o hellomake hellomake.o hellofunc.o -I.\n",
    "    \n",
    "hellomake.o: hellomake.c\n",
    "\tgcc -c -o hellomake.o hellomake.c -I.\n",
    "\n",
    "hellofunc.o: hellofunc.c\n",
    "\tgcc -c -o hellofunc.o hellofunc.c -I.\n",
    "\n",
    "```\n",
    "\n",
    "The -c option of the C-compiler makes it build only the intermediary object files.\n",
    "\n",
    "In addition to that we can introduce variables for our C-compiler and compiler-flags:\n",
    "\n",
    "#### Makefile2b\n",
    "```makefile\n",
    "CC=gcc\n",
    "CFLAGS=-I.\n",
    "\n",
    "hellomake: hellomake.o hellofunc.o \n",
    "\t$(CC) -o hellomake hellomake.o hellofunc.o $(CFLAGS)\n",
    "\n",
    "hellomake.o: hellomake.c\n",
    "\t$(CC) -c -o hellomake.o hellomake.c $(CFLAGS)\n",
    "\n",
    "hellofunc.o: hellofunc.c\n",
    "\t$(CC) -c -o hellofunc.o hellofunc.c $(CFLAGS)\n",
    "```\n",
    "\n"
   ]
  },
  {
   "cell_type": "markdown",
   "metadata": {
    "slideshow": {
     "slide_type": "slide"
    }
   },
   "source": [
    "We can avoid writing (and maintaining) a new target for every single object (.o) file that we want to create from a .c file by defining a general macro:\n",
    "\n",
    "#### Makefile3\n",
    "```makefile\n",
    "CC=gcc\n",
    "CFLAGS=-I.\n",
    "DEPS = hellomake.h\n",
    "\n",
    "hellomake: hellomake.o hellofunc.o \n",
    "\t$(CC) -o hellomake hellomake.o hellofunc.o $(CFLAGS)\n",
    "\n",
    "%.o: %.c $(DEPS)\n",
    "\t$(CC) -c -o  $@  $<  $(CFLAGS)\n",
    "```\n",
    "\n",
    "* The line **`%.o: %.c $(DEPS)`** says: Any target that ends in **`.o`** depends on a file with the same base name and ending in **`.c`** in addition to what is listed in the variable called **`DEPS`**\n",
    "* In the compiler command the **`$@`** macro is replaced with the full name of target (before the `:`) and\n",
    "* the **`$<`** macro is replaced with the first item of the dependency list (after the `:`)\n",
    "\n"
   ]
  },
  {
   "cell_type": "markdown",
   "metadata": {
    "slideshow": {
     "slide_type": "slide"
    }
   },
   "source": [
    "Following the **DRY** Principle (**D**on't **R**epeat **Y**ourself), we can simplify a bit more, by defining the list of objects that hellomake depends on in one place and using the **`$^`** macro, that is replaced by the full list of dependencies of a target:\n",
    "\n",
    "#### Makefile4\n",
    "```Makefile\n",
    "CC=gcc\n",
    "CFLAGS=-I.\n",
    "DEPS = hellomake.h\n",
    "OBJ= hellomake.o hellofunc.o\n",
    "\n",
    "hellomake: $(OBJ) \n",
    "\t$(CC) -o  $@  $^  $(CFLAGS)\n",
    "\n",
    "%.o: %.c $(DEPS)\n",
    "\t$(CC) -c -o  $@  $<  $(CFLAGS)\n",
    "```\n"
   ]
  },
  {
   "cell_type": "markdown",
   "metadata": {
    "slideshow": {
     "slide_type": "slide"
    }
   },
   "source": [
    "Finally we add a \"phony\" target called \"clean\" that deletes all objects and the execuable:\n",
    "\n",
    "#### Makefile\n",
    "```Makefile\n",
    "CC=gcc\n",
    "CFLAGS=-I.\n",
    "DEPS = hellomake.h\n",
    "OBJ= hellomake.o hellofunc.o\n",
    "\n",
    "hellomake: $(OBJ) \n",
    "\t$(CC) -o  $@  $^  $(CFLAGS)\n",
    "\n",
    "%.o: %.c $(DEPS)\n",
    "\t$(CC) -c -o  $@  $<  $(CFLAGS)\n",
    "\n",
    ".PHONY: clean\n",
    "\n",
    "clean:\n",
    "\trm $(OBJ)\n",
    "\trm hellomake\n",
    "```\n",
    "\n",
    "The .PHONY rule tells make that it should not expect a file named `clean`."
   ]
  },
  {
   "cell_type": "markdown",
   "metadata": {},
   "source": [
    "```shell\n",
    "$ make clean\n",
    "rm hellomake.o hellofunc.o\n",
    "rm hellomake\n",
    "\n",
    "$ make\n",
    "gcc -c -o  hellomake.o  hellomake.c  -I.\n",
    "gcc -c -o  hellofunc.o  hellofunc.c  -I.\n",
    "gcc -o  hellomake  hellomake.o hellofunc.o  -I.\n",
    "\n",
    "```"
   ]
  },
  {
   "cell_type": "markdown",
   "metadata": {},
   "source": [
    "## How can Make be used to automate an analysis workflow?\n",
    "\n",
    "Imagine you have:\n",
    "\n",
    "1. several files of raw data,\n",
    "2. a script processes the raw data and writes the processed data into a differnent file,\n",
    "3. a script that generates a plot/figure/image from the processed data,\n",
    "4. one or more LaTeX files and bibliography files for a thesis, report, manuscript, etc.\n",
    "5. And you want to quickly re-generate your report any time you get new data.\n"
   ]
  },
  {
   "cell_type": "code",
   "execution_count": 1,
   "metadata": {
    "collapsed": true,
    "slideshow": {
     "slide_type": "skip"
    }
   },
   "outputs": [],
   "source": [
    "import os\n",
    "os.chdir(\"make_report\")\n",
    "import numpy as np\n",
    "import pandas as pd"
   ]
  },
  {
   "cell_type": "markdown",
   "metadata": {},
   "source": [
    "\n",
    "```python\n",
    "Generate some data:\n",
    "import numpy as np\n",
    "x = np.arange(0, 2*np.pi, np.pi/100)\n",
    "y1 = np.sin(x)\n",
    "y2 = np.cos(x)\n",
    "y3 = np.tan(x)\n",
    "np.savetxt(\"data/data1.txt\", y1, delimiter=',' )\n",
    "np.savetxt(\"data/data2.txt\", y2, delimiter=',' )\n",
    "np.savetxt(\"data/data3.txt\", y3, delimiter=',' )\n",
    "```"
   ]
  },
  {
   "cell_type": "code",
   "execution_count": null,
   "metadata": {
    "collapsed": true
   },
   "outputs": [],
   "source": []
  }
 ],
 "metadata": {
  "kernelspec": {
   "display_name": "Python 3",
   "language": "python",
   "name": "python3"
  },
  "language_info": {
   "codemirror_mode": {
    "name": "ipython",
    "version": 3
   },
   "file_extension": ".py",
   "mimetype": "text/x-python",
   "name": "python",
   "nbconvert_exporter": "python",
   "pygments_lexer": "ipython3",
   "version": "3.6.1"
  }
 },
 "nbformat": 4,
 "nbformat_minor": 1
}
