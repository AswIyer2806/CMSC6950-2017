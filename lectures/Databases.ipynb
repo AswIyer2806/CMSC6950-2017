{
 "cells": [
  {
   "cell_type": "markdown",
   "metadata": {},
   "source": [
    "# Introduction to Databases\n",
    "\n",
    "*This lesson is taken and/or adapted from the Software Carpentry Databases and SQL Workshop http://swcarpentry.github.io/sql-novice-survey/   [licence https://creativecommons.org/licenses/by/4.0/]*\n",
    "\n",
    "Databases are collections of data organized in way that allows for efficient search and retrieval.  They are used extensively in business applications (e.g. for inventory, customer information), and also in scientific research.\n",
    "\n",
    "Storing data in simple text files works well, but you will need to create tools to analyze the data.\n",
    "\n",
    "Spreadsheets are good for small and simple tasks.  (Amazon.com does not store all of its customer data in a spreadsheet!)\n",
    "\n",
    "Databases provide built-in search and analysis tools.  Depending on the database manager (programs like  Oracle, IBM DB2, PostgreSQL, MySQL, Microsoft Access, and SQLite), database files have different formats, but most programs can export databases to different formats.  We will be using SQLight, which is included in the software package for the course.  Like most database managers, it uses the structured query language (SQL) and its own particular commands to interact with the database.\n",
    "\n",
    "Databases are arranged as tables. Each table has columns (also known as fields) that describe the data, and rows (also known as records) which contain the data.\n",
    "\n",
    "# The Data Set\n",
    "\n",
    "The .csv files in the **data** directory contain measurements taken by a team of researchers during the 1920's and 1930's in the *oceanic pole of inaccessibility*, the point in the oceans furthest from land.\n",
    "\n",
    "* person.csv: Lists the researchers.  Columns are person identifier, first name and family name.\n",
    "\n",
    "* site.csv: Lists locations where data were collected.  Columns are site name, latitude and longitude.\n",
    "\n",
    "* visited.csv: Lists what site was visited when. Columns are experiment id number, site code name and date.\n",
    "\n",
    "* survey.csd: Lists readings taken.  Columns are experiment id number, person identifier, type of measurement taken (salinity, temperature and radiation level) and recorded value.\n",
    "\n",
    "Take a moment to browse through the data files through the command line, using *cat*, *less* etc.  You may notice that some data is missing.\n",
    "\n",
    "### Exercises\n",
    "Can you use *grep* to find the missing data?  Hint:  \",,\"  \"^,\"  \",$\""
   ]
  },
  {
   "cell_type": "code",
   "execution_count": 1,
   "metadata": {
    "collapsed": false
   },
   "outputs": [
    {
     "data": {
      "text/plain": [
       "'/Users/saika/ownCloud/CMSC6950/DATABASES'"
      ]
     },
     "execution_count": 1,
     "metadata": {},
     "output_type": "execute_result"
    }
   ],
   "source": [
    "pwd"
   ]
  },
  {
   "cell_type": "code",
   "execution_count": 2,
   "metadata": {
    "collapsed": false
   },
   "outputs": [
    {
     "name": "stdout",
     "output_type": "stream",
     "text": [
      "/Users/saika/ownCloud/CMSC6950/DATABASES/data\n"
     ]
    }
   ],
   "source": [
    "cd data"
   ]
  },
  {
   "cell_type": "code",
   "execution_count": 15,
   "metadata": {
    "collapsed": false
   },
   "outputs": [
    {
     "name": "stdout",
     "output_type": "stream",
     "text": [
      "dyer,William,Dyer\r\n",
      "pb,Frank,Pabodie\r\n",
      "lake,Anderson,Lake\r\n",
      "roe,Valentina,Roerich\r\n",
      "danforth,Frank,Danforth\r\n"
     ]
    }
   ],
   "source": [
    "cat person.csv"
   ]
  },
  {
   "cell_type": "code",
   "execution_count": 16,
   "metadata": {
    "collapsed": false
   },
   "outputs": [
    {
     "name": "stdout",
     "output_type": "stream",
     "text": [
      "DR-1,-49.85,-128.57\r\n",
      "DR-3,-47.15,-126.72\r\n",
      "MSK-4,-48.87,-123.4\r\n"
     ]
    }
   ],
   "source": [
    "cat site.csv"
   ]
  },
  {
   "cell_type": "code",
   "execution_count": 17,
   "metadata": {
    "collapsed": false
   },
   "outputs": [
    {
     "name": "stdout",
     "output_type": "stream",
     "text": [
      "619,DR-1,1927-02-08\r\n",
      "622,DR-1,1927-02-10\r\n",
      "734,DR-3,1930-01-07\r\n",
      "735,DR-3,1930-01-12\r\n",
      "751,DR-3,1930-02-26\r\n",
      "752,DR-3,\r\n",
      "837,MSK-4,1932-01-14\r\n",
      "844,DR-1,1932-03-22\r\n"
     ]
    }
   ],
   "source": [
    "cat visited.csv"
   ]
  },
  {
   "cell_type": "code",
   "execution_count": 18,
   "metadata": {
    "collapsed": false
   },
   "outputs": [
    {
     "name": "stdout",
     "output_type": "stream",
     "text": [
      "619,dyer,rad,9.82\r\n",
      "619,dyer,sal,0.13\r\n",
      "622,dyer,rad,7.8\r\n",
      "622,dyer,sal,0.09\r\n",
      "734,pb,rad,8.41\r\n",
      "734,lake,sal,0.05\r\n",
      "734,pb,temp,-21.5\r\n",
      "735,pb,rad,7.22\r\n",
      "735,,sal,0.06\r\n",
      "735,,temp,-26.0\r\n",
      "751,pb,rad,4.35\r\n",
      "751,pb,temp,-18.5\r\n",
      "751,lake,sal,0.1\r\n",
      "752,lake,rad,2.19\r\n",
      "752,lake,sal,0.09\r\n",
      "752,lake,temp,-16.0\r\n",
      "752,roe,sal,41.6\r\n",
      "837,lake,rad,1.46\r\n",
      "837,lake,sal,0.21\r\n",
      "837,roe,sal,22.5\r\n",
      "844,roe,rad,11.25\r\n"
     ]
    }
   ],
   "source": [
    "cat survey.csv"
   ]
  },
  {
   "cell_type": "markdown",
   "metadata": {},
   "source": [
    "Information about who collected what data, and where, and what the values of the measurements are, is spread out over the four files.  To answer questions like \"What is the average salinity reading in 1930?\", it is useful to have all the data entered into a database.  This can be accomplished with the following."
   ]
  },
  {
   "cell_type": "code",
   "execution_count": 33,
   "metadata": {
    "collapsed": false
   },
   "outputs": [
    {
     "name": "stdout",
     "output_type": "stream",
     "text": [
      "/Users/saika/ownCloud/CMSC6950/DATABASES\n"
     ]
    }
   ],
   "source": [
    "cd .."
   ]
  },
  {
   "cell_type": "code",
   "execution_count": 34,
   "metadata": {
    "collapsed": false
   },
   "outputs": [
    {
     "name": "stdout",
     "output_type": "stream",
     "text": [
      "Databases.ipynb                 \u001b[34msql-novice-survey-gh-pages\u001b[m\u001b[m/\r\n",
      "\u001b[34mbin\u001b[m\u001b[m/                            sql-novice-survey-gh-pages.zip\r\n",
      "\u001b[34mdata\u001b[m\u001b[m/\r\n"
     ]
    }
   ],
   "source": [
    "ls"
   ]
  },
  {
   "cell_type": "code",
   "execution_count": 38,
   "metadata": {
    "collapsed": false
   },
   "outputs": [
    {
     "name": "stdout",
     "output_type": "stream",
     "text": [
      "\r\n"
     ]
    }
   ],
   "source": [
    "!sqlite3 survey.db \".read bin/create-db.sql\""
   ]
  },
  {
   "cell_type": "code",
   "execution_count": 39,
   "metadata": {
    "collapsed": false
   },
   "outputs": [
    {
     "name": "stdout",
     "output_type": "stream",
     "text": [
      "Databases.ipynb  \u001b[34mbin\u001b[m\u001b[m/             \u001b[34mdata\u001b[m\u001b[m/            survey.db\r\n"
     ]
    }
   ],
   "source": [
    "ls"
   ]
  },
  {
   "cell_type": "markdown",
   "metadata": {},
   "source": [
    "We now have the data stored in SQLite database called **survey.db.**  The commands used to create the database are contained in the file **create-db.sql** in the **bin** directory."
   ]
  },
  {
   "cell_type": "code",
   "execution_count": 40,
   "metadata": {
    "collapsed": false
   },
   "outputs": [
    {
     "name": "stdout",
     "output_type": "stream",
     "text": [
      "-- Create database to be used for learners.\r\n",
      "-- The data for the database are available as CSV files.\r\n",
      "-- For more information, see https://www.sqlite.org/cli.html#csv\r\n",
      "\r\n",
      "-- Generate tables.\r\n",
      "create table Person (id text, personal text, family text);\r\n",
      "create table Site (name text, lat real, long real);\r\n",
      "create table Visited (id text, site text, dated text);\r\n",
      "create table Survey (taken integer, person text, quant text, reading real);\r\n",
      "\r\n",
      "-- Import data.\r\n",
      ".mode csv\r\n",
      ".import data/person.csv Person\r\n",
      ".import data/site.csv Site\r\n",
      ".import data/survey.csv Survey\r\n",
      ".import data/visited.csv Visited\r\n",
      "\r\n",
      "-- Convert empty strings to NULLs.\r\n",
      "UPDATE Visited SET dated = null WHERE dated = '';\r\n",
      "UPDATE Survey SET person = null WHERE person = '';\r\n"
     ]
    }
   ],
   "source": [
    "cat bin/create-db.sql"
   ]
  },
  {
   "cell_type": "markdown",
   "metadata": {},
   "source": [
    "From the file, we can infer that SQLite has imported our data files into *tables* called *Person*, *Site*, *Survey* and *Visited*, names chosen by the programmer to reflect the names of the data files and their contents.  The last part of the script has ensured that missing data in the csv format is represented as *null*.\n",
    "\n",
    "The columns have been given descriptive headers and an indication of the type of data the entries hold. For example, the first column of *Site* is called \"name\" and is interpreted as text, while the second column is called \"lat\" (for latitude) and contains real numbers."
   ]
  },
  {
   "cell_type": "markdown",
   "metadata": {},
   "source": [
    "# Selecting Data\n",
    "\n",
    "We would like to query our database. On the command line enter\n",
    "\n",
    "```\n",
    "$sqlite3 survey.db\n",
    "```\n",
    "\n",
    "You should see\n",
    "\n",
    "```\n",
    "SQLite version 3.13.0 2016-05-18 10:57:30\n",
    "Enter \".help\" for usage hints.\n",
    "Cannot read termcap database;\n",
    "using dumb terminal settings.\n",
    "sqlite>\n",
    "```\n",
    "\n",
    "which means we have an entered an interactive SQLite shell that is ready to receive commands from us.\n",
    "\n",
    ".quit or .exit or Ctrl-D should quit the program and return us to the bash prompt.\n",
    "\n",
    ".help will give us a list of SQLite commands\n",
    "\n",
    ".tables gives a list of data tables.  Try it.\n",
    "\n",
    "```\n",
    "sqlite> .tables\n",
    "Person   Site     Survey   Visited\n",
    "```\n",
    "\n",
    "**NOTE:** SQLite commands are specific to SQLite and begin with a \".\" (period). Regular SQL commands do not require a preceeding period, but do need to be terminated with a \";\" (semicolon)."
   ]
  },
  {
   "cell_type": "markdown",
   "metadata": {},
   "source": [
    "We will now use an SQL command to view the *personal* and *family* columns of the *Person* table\n",
    "\n",
    "(What happens if you forget the ; at the end?)\n",
    "\n",
    "\n",
    "```\n",
    "sqlite> SELECt perSonal, FamilY FrOM PersoN;\n",
    "William|Dyer\n",
    "Frank|Pabodie\n",
    "Anderson|Lake\n",
    "Valentina|Roerich\n",
    "Frank|Danforth\n",
    "```\n",
    "\n",
    "This illustrates that SQL is not case sensitive.  We can choose a convention for when capitals are used, e.g.\n",
    "\n",
    "```\n",
    "SELECT - capitals for SQL commands\n",
    "personal - lowercase for headers\n",
    "Person - first letter capitalized for tables\n",
    "```\n",
    "\n",
    "To make the output look nicer and to include head labels, enter\n",
    "```\n",
    ".mode column\n",
    ".header on\n",
    "```\n",
    "and try\n",
    "```\n",
    "sqlite> SELECT personal, family FROM Person;\n",
    "personal    family    \n",
    "----------  ----------\n",
    "William     Dyer      \n",
    "Frank       Pabodie   \n",
    "Anderson    Lake      \n",
    "Valentina   Roerich   \n",
    "Frank       Danforth\n",
    "```\n",
    "We can view all of the data with\n",
    "```\n",
    "sqlite> SELECT * FROM Person;\n",
    "id          personal    family    \n",
    "----------  ----------  ----------\n",
    "dyer        William     Dyer      \n",
    "pb          Frank       Pabodie   \n",
    "lake        Anderson    Lake      \n",
    "roe         Valentina   Roerich   \n",
    "danforth    Frank       Danforth \n",
    "```\n",
    "The number of times a column is listed is up to us.\n",
    "```\n",
    "sqlite> SELECT id, family, id, personal, id FROM Person;\n",
    "id          family      id          personal    id        \n",
    "----------  ----------  ----------  ----------  ----------\n",
    "dyer        Dyer        dyer        William     dyer      \n",
    "pb          Pabodie     pb          Frank       pb        \n",
    "lake        Lake        lake        Anderson    lake      \n",
    "roe         Roerich     roe         Valentina   roe       \n",
    "danforth    Danforth    danforth    Frank       danforth\n",
    "```\n",
    "\n",
    "### Key points\n",
    "\n",
    "\n",
    "*    A relational database stores information in tables, each of which has a fixed set of columns and a variable number of records.\n",
    "\n",
    "*    A database manager is a program that manipulates information stored in a database.\n",
    "\n",
    "*    We write queries in a specialized language called SQL to extract information from databases.\n",
    "\n",
    "*    Use SELECT… FROM… to get values from a database table.\n",
    "\n",
    "*    SQL is case-insensitive (but data is case-sensitive).\n",
    "\n",
    "\n",
    "### Exercises\n",
    "\n",
    "\n",
    "* Write a query that selects only site names from the Site table.\n",
    "\n",
    "* Confirm what the headings are from the *Survey* table and list the columns corresponding to the type of measurement and the corresponding value reported."
   ]
  },
  {
   "cell_type": "markdown",
   "metadata": {},
   "source": [
    "# Sorting and Removing Duplicates\n",
    "\n",
    "We wish to see all the different quanties measured.\n",
    "\n",
    "\n",
    "```\n",
    "sqlite> SELECT quant FROM Survey;        \n",
    "quant     \n",
    "----------\n",
    "rad       \n",
    "sal       \n",
    "rad       \n",
    "sal       \n",
    "rad       \n",
    "sal       \n",
    "temp      \n",
    "rad       \n",
    "sal       \n",
    "temp      \n",
    "rad       \n",
    "temp      \n",
    "sal       \n",
    "rad       \n",
    "sal       \n",
    "temp      \n",
    "sal       \n",
    "rad       \n",
    "sal       \n",
    "sal       \n",
    "rad \n",
    "```\n",
    "\n",
    "That's a little bit confusing.  Let's see only unique entries.\n",
    "\n",
    "\n",
    "```\n",
    "sqlite> SELECT DISTINCT quant FROM Survey;\n",
    "quant     \n",
    "----------\n",
    "rad       \n",
    "sal       \n",
    "temp\n",
    "```\n",
    "\n",
    "Ok, so indeed we only have radiation, salinity and temperature.\n",
    "\n",
    "\n",
    "We can also order the output.  For example, let's look at the *Person* table, sorting by *id*.  By default, if ORDER is used, sorting is ascending.\n",
    "\n",
    "```\n",
    "sqlite> SELECT * FROM Person ORDER BY id; \n",
    "id          personal    family    \n",
    "----------  ----------  ----------\n",
    "danforth    Frank       Danforth  \n",
    "dyer        William     Dyer      \n",
    "lake        Anderson    Lake      \n",
    "pb          Frank       Pabodie   \n",
    "roe         Valentina   Roerich \n",
    "```\n",
    "\n",
    "We can choose to display in descending order as well.\n",
    "\n",
    "```\n",
    "sqlite> SELECT * FROM Person ORDER BY id DESC;\n",
    "id          personal    family    \n",
    "----------  ----------  ----------\n",
    "roe         Valentina   Roerich   \n",
    "pb          Frank       Pabodie   \n",
    "lake        Anderson    Lake      \n",
    "dyer        William     Dyer      \n",
    "danforth    Frank       Danforth \n",
    "```\n",
    "\n",
    "We can sort by multiple columns, e.g., ascending first according to the *taken* column, and then (when the *taken* value is the same), descedning by the *person* column.\n",
    "\n",
    "```\n",
    "sqlite> SELECT taken, person, quant FROM Survey ORDER BY taken ASC, person DESC;\n",
    "taken       person      quant     \n",
    "----------  ----------  ----------\n",
    "619         dyer        rad       \n",
    "619         dyer        sal       \n",
    "622         dyer        rad       \n",
    "622         dyer        sal       \n",
    "734         pb          rad       \n",
    "734         pb          temp      \n",
    "734         lake        sal       \n",
    "735         pb          rad       \n",
    "735                     sal       \n",
    "735                     temp      \n",
    "751         pb          rad       \n",
    "751         pb          temp      \n",
    "751         lake        sal       \n",
    "752         roe         sal       \n",
    "752         lake        rad       \n",
    "752         lake        sal       \n",
    "752         lake        temp      \n",
    "837         roe         sal       \n",
    "837         lake        rad       \n",
    "837         lake        sal       \n",
    "844         roe         rad \n",
    "```\n",
    "\n",
    "Looking at the data, it is not immediately obvious which scientists were involved in the different kinds of measurement.  Let's select distinct measurement-scientist pairs, and sort first by measurement type and then by scientist.\n",
    "\n",
    "```\n",
    "sqlite> SELECT DISTINCT quant, person FROM Survey ORDER BY quant ASC, person ASC;\n",
    "quant       person    \n",
    "----------  ----------\n",
    "rad         dyer      \n",
    "rad         lake      \n",
    "rad         pb        \n",
    "rad         roe       \n",
    "sal                   \n",
    "sal         dyer      \n",
    "sal         lake      \n",
    "sal         roe       \n",
    "temp                  \n",
    "temp        lake      \n",
    "temp        pb \n",
    "```\n",
    "\n",
    "### Key points\n",
    "\n",
    "* The records in a database table are not intrinsically ordered: if we want to display them in some order, we must specify that explicitly with ORDER BY.\n",
    "\n",
    "* The values in a database are not guaranteed to be unique: if we want to eliminate duplicates, we must specify that explicitly as well using DISTINCT.\n",
    "\n",
    "\n",
    "### Exercises\n",
    "* Display all actual measurements taken (in the *Survey* table).  Order first by the quantity measured, and then by value recorded.\n",
    "\n",
    "* Write a query that selects distinct dates from the Visited table.\n",
    "\n",
    "* Write a query that displays the full names of the scientists in the Person table, ordered by family name."
   ]
  },
  {
   "cell_type": "markdown",
   "metadata": {},
   "source": [
    "# Filtering\n",
    "\n",
    "One feature of using databases is the ability to *filter* data.  Let's display the entries in the *Visited* table pertaining to the \"DR-1\" site.  We do this using the WHERE clause in our query. \n",
    "\n",
    "```\n",
    "sqlite> SELECT * FROM Visited WHERE site='DR-1';\n",
    "id          site        dated     \n",
    "----------  ----------  ----------\n",
    "619         DR-1        1927-02-08\n",
    "622         DR-1        1927-02-10\n",
    "844         DR-1        1932-03-22\n",
    "```\n",
    "\n",
    "SQLite first determines which rows match the WHERE clause (site='DR-1'), and then SELECTS the appropriate columns to display.  Thus, we do not need to display the column on which we are filtering, e.g.\n",
    "\n",
    "```\n",
    "sqlite> SELECT id FROM Visited WHERE site='DR-1';\n",
    "id        \n",
    "----------\n",
    "619       \n",
    "622       \n",
    "844 \n",
    "```\n",
    "\n",
    "As in an *if* statement, we can combine boolean operators to refine the filter.  Here, we select all the times site DR-1 was visited before 1932.  \n",
    "\n",
    "```\n",
    "sqlite> SELECT * FROM Visited WHERE site='DR-1' AND dated<'1932-01-01'; \n",
    "id          site        dated     \n",
    "----------  ----------  ----------\n",
    "619         DR-1        1927-02-08\n",
    "622         DR-1        1927-02-10\n",
    "```\n",
    "\n",
    "**Note**: Database managers in general have special data types to represent dates.  This is not the case for SQLight, for which dates can be expressed as text (in the ISO-8601 standard format “YYYY-MM-DD HH:MM:SS.SSSS”), real numbers (the number of days since November 24, 4714 BCE), or integers (the number of seconds since midnight, January 1, 1970).\n",
    "\n",
    "Let's say we want to find measurements take either by Anderson Lake or Valentina Roerich.\n",
    "\n",
    "```\n",
    "sqlite> SELECT * FROM Survey WHERE person='lake' OR person='roe';\n",
    "taken       person      quant       reading   \n",
    "----------  ----------  ----------  ----------\n",
    "734         lake        sal         0.05      \n",
    "751         lake        sal         0.1       \n",
    "752         lake        rad         2.19      \n",
    "752         lake        sal         0.09      \n",
    "752         lake        temp        -16.0     \n",
    "752         roe         sal         41.6      \n",
    "837         lake        rad         1.46      \n",
    "837         lake        sal         0.21      \n",
    "837         roe         sal         22.5      \n",
    "844         roe         rad         11.25 \n",
    "```\n",
    "\n",
    "Rather than using the OR, we can accomplish the same using IN.\n",
    "\n",
    "```\n",
    "sqlite> SELECT * FROM Survey WHERE person IN ('lake', 'roe');\n",
    "taken       person      quant       reading   \n",
    "----------  ----------  ----------  ----------\n",
    "734         lake        sal         0.05      \n",
    "751         lake        sal         0.1       \n",
    "752         lake        rad         2.19      \n",
    "752         lake        sal         0.09      \n",
    "752         lake        temp        -16.0     \n",
    "752         roe         sal         41.6      \n",
    "837         lake        rad         1.46      \n",
    "837         lake        sal         0.21      \n",
    "837         roe         sal         22.5      \n",
    "844         roe         rad         11.25 \n",
    "```\n",
    "\n",
    "We can combine AND and OR, but be mindful of order of operations.  The following means \"salinity measured by Lake\", or any measurement made by Roerich.\n",
    "\n",
    "```\n",
    "sqlite> SELECT * FROM Survey WHERE quant='sal' AND person='lake' OR person='roe';\n",
    "taken       person      quant       reading   \n",
    "----------  ----------  ----------  ----------\n",
    "734         lake        sal         0.05      \n",
    "751         lake        sal         0.1       \n",
    "752         lake        sal         0.09      \n",
    "752         roe         sal         41.6      \n",
    "837         lake        sal         0.21      \n",
    "837         roe         sal         22.5      \n",
    "844         roe         rad         11.25 \n",
    "```\n",
    "\n",
    "Compared to \"salinity measured by either Lake or Roerich\"\n",
    "\n",
    "```\n",
    "sqlite> SELECT * FROM Survey WHERE quant='sal' AND (person='lake' OR person='roe');\n",
    "taken       person      quant       reading   \n",
    "----------  ----------  ----------  ----------\n",
    "734         lake        sal         0.05      \n",
    "751         lake        sal         0.1       \n",
    "752         lake        sal         0.09      \n",
    "752         roe         sal         41.6      \n",
    "837         lake        sal         0.21      \n",
    "837         roe         sal         22.5  \n",
    "```\n",
    "\n",
    "Partial matching through wildcards can be done using LIKE. The following looks for any *site* that begins with DR.  The % character acts like * in the bash shell.\n",
    "\n",
    "```\n",
    "sqlite> SELECT * FROM Visited WHERE site LIKE 'DR%';\n",
    "id          site        dated     \n",
    "----------  ----------  ----------\n",
    "619         DR-1        1927-02-08\n",
    "622         DR-1        1927-02-10\n",
    "734         DR-3        1930-01-07\n",
    "735         DR-3        1930-01-12\n",
    "751         DR-3        1930-02-26\n",
    "752         DR-3                  \n",
    "844         DR-1        1932-03-22\n",
    "```\n",
    "\n",
    "We can also combine DISTINCT with WHERE.\n",
    "\n",
    "```\n",
    "sqlite> SELECT DISTINCT person, quant FROM Survey WHERE person='lake' OR person='roe';\n",
    "person      quant     \n",
    "----------  ----------\n",
    "lake        sal       \n",
    "lake        rad       \n",
    "lake        temp      \n",
    "roe         sal       \n",
    "roe         rad \n",
    "```\n",
    "\n",
    "**Remark**: We can see already how a query might grow to become difficult for a person to easily decipher.  This process of starting with simple queries and growing them into complex ones, making sure that the correct result occurs at each step, is **the** way to obtain working, complex queries.  For very large databases (millions of entries), this kind of development would take a long time, so it is best to work on a small subset of data.\n",
    "\n",
    "### Key points\n",
    "\n",
    "\n",
    "*   Use WHERE to specify conditions that records must meet in order to be included in a query’s results.\n",
    "\n",
    "*  Use AND, OR, and NOT to combine tests.\n",
    "\n",
    "*   Filtering is done on whole records, so conditions can use fields that are not actually displayed.\n",
    "\n",
    "*  Write queries incrementally.\n",
    "\n",
    "### Exercises\n",
    "\n",
    "* We want to find all sites within 48 degrees of the equator (equator has latitude zero).  How would you fix the following incorrect query?\n",
    "```\n",
    " SELECT * FROM Site WHERE (lat > -48) OR (lat < 48);\n",
    "```\n",
    "\n",
    "* Find all records in *Survey* with salinity lying outside the range of 0.0 to 1.0."
   ]
  },
  {
   "cell_type": "markdown",
   "metadata": {},
   "source": [
    "# Calculating New Values\n",
    "\n",
    "Let's say that after examining the data, you conclude that all the radiation levels need to be corrected up by 5%.  Rather than editing the data itself, calculations can be done \"on the fly\".  We can multiply the *reading* record from each row by 1.05 with the following query. \n",
    "\n",
    "```\n",
    "sqlite> SELECT 1.05 * reading FROM Survey WHERE quant='rad';\n",
    "1.05 * reading\n",
    "--------------\n",
    "10.311        \n",
    "8.19          \n",
    "8.8305        \n",
    "7.581         \n",
    "4.5675        \n",
    "2.2995        \n",
    "1.533         \n",
    "11.8125 \n",
    "```\n",
    "\n",
    "The usual arithmetical operations and some functions are available.  Functionality depends on database manager.  The following converts reported temperatures from Fahrenheit to Celsius, rounding to two decimal places.\n",
    "\n",
    "```\n",
    "sqlite> SELECT taken, round(5*(reading-32)/9, 2) FROM Survey WHERE quant='temp';         \n",
    "taken       round(5*(reading-32)/9, 2)\n",
    "----------  --------------------------\n",
    "734         -29.72                    \n",
    "735         -32.22                    \n",
    "751         -28.06                    \n",
    "752         -26.67  \n",
    "```\n",
    "\n",
    "The heading for the calculated column is a little clumsy.  This can be fixed with AS.\n",
    "\n",
    "```\n",
    "sqlite> SELECT taken, round(5*(reading-32)/9, 2) AS Celsius FROM Survey WHERE quant='temp';\n",
    "taken       Celsius   \n",
    "----------  ----------\n",
    "734         -29.72    \n",
    "735         -32.22    \n",
    "751         -28.06    \n",
    "752         -26.67  \n",
    "```\n",
    "\n",
    "Arithmetic using different records in the same rowcan be accomplished as in the following.  (Granted, this particular operation makes little sense.\n",
    "\n",
    "```\n",
    "sqlite> SELECT taken, reading, taken*reading FROM Survey WHERE quant='rad';\n",
    "taken       reading     taken*reading\n",
    "----------  ----------  -------------\n",
    "619         9.82        6078.58      \n",
    "622         7.8         4851.6       \n",
    "734         8.41        6172.94      \n",
    "735         7.22        5306.7       \n",
    "751         4.35        3266.85      \n",
    "752         2.19        1646.88      \n",
    "837         1.46        1222.02      \n",
    "844         11.25       9495.0\n",
    "```\n",
    "\n",
    "Strings (text) from different columns can also be \"added\" using the concatenation operator ||.\n",
    "\n",
    "```\n",
    "sqlite> SELECT personal, family FROM Person;\n",
    "...\n",
    "sqlite> SELECT personal || family FROM Person;\n",
    "...\n",
    "sqlite> SELECT personal || \" \" || family  FROM Person;\n",
    "personal || \" \" || family\n",
    "-------------------------\n",
    "William Dyer             \n",
    "Frank Pabodie            \n",
    "Anderson Lake            \n",
    "Valentina Roerich        \n",
    "Frank Danforth \n",
    "```\n",
    "\n",
    "Two useful functions for manipulating strings are \n",
    "* the \"in-string\" function instr(X, Y), which returns the 1-based index of the first occurrence of string Y in string X, or 0 if Y does not exist in X. \n",
    "* the substring function substr(X, I, [L]), which returns the substring of X starting at index I, with an optional length L.\n",
    "\n",
    "We will use these functions to change the names of locations DR-1 and DR-3 to reflect their longitude.\n",
    "\n",
    "```\n",
    "sqlite> SELECT name, long  FROM Site WHERE name LIKE \"DR%\";\n",
    "...\n",
    "SELECT name, instr(name,'-'), long  FROM Site WHERE name LIKE \"DR%\";\n",
    "...\n",
    "SELECT name, substr(name,1,instr(name,'-')), long  FROM Site WHERE name LIKE \"DR%\";\n",
    "...\n",
    "  as above with substr(name,1,instr(name,'-')-1)\n",
    "...\n",
    "  substr(name,1,instr(name,'-')-1)|| long\n",
    "...\n",
    "  substr(name,1,instr(name,'-')-1)||CAST(long AS INTEGER)\n",
    "name        substr(name,1,instr(name,'-')-1)||CAST(long AS INTEGER)  long      \n",
    "----------  -------------------------------------------------------  ----------\n",
    "DR-1        DR-128                                                   -128.57   \n",
    "DR-3        DR-126                                                   -126.72 \n",
    "```\n",
    "\n",
    "The UNION operator combines the results of two queries.\n",
    "\n",
    "```\n",
    "sqlite> SELECT * FROM Person WHERE id='dyer' UNION SELECT * FROM Person WHERE id='roe';\n",
    "id          personal    family    \n",
    "----------  ----------  ----------\n",
    "dyer        William     Dyer      \n",
    "roe         Valentina   Roerich \n",
    "```\n",
    "\n",
    "### Key points\n",
    "*  Queries can do the usual arithmetic operations on values.\n",
    "\n",
    "*  Use UNION to combine the results of two or more queries.\n",
    "\n",
    "### Exercises\n",
    "\n",
    "* It turns out that Valentina Roerich was reporting salinity as percentages. Write a query that returns all of her salinity measurements from the Survey table with the values divided by 100.\n",
    "\n",
    "* Use UNION and the above result to write a query that returns all the salinity readings, but with Roerich's readings corrected as above. (Not equal is \"!=\") The output should be as follows.\n",
    "\n",
    "```\n",
    "taken       reading   \n",
    "----------  ----------\n",
    "619         0.13      \n",
    "622         0.09      \n",
    "734         0.05      \n",
    "751         0.1       \n",
    "752         0.09      \n",
    "752         0.416     \n",
    "837         0.21      \n",
    "837         0.225  \n",
    "```\n",
    "\n",
    "* Write a query on the *Site* table that prints out all the sites, but where DR-1 and DR-3 appear simply as DR.\n"
   ]
  },
  {
   "cell_type": "markdown",
   "metadata": {},
   "source": [
    "# Missing Data and NULL\n",
    "\n",
    "Missing data in databases are represented as *null*, which means \"nothing here\".  *null* is not an empty string, False or zero.\n",
    "\n",
    "Let's look at the *Sites* table.  We see that the date in one of the dates is missing.\n",
    "\n",
    "```\n",
    "sqlite> SELECT * FROM Visited;\n",
    "id          site        dated     \n",
    "----------  ----------  ----------\n",
    "619         DR-1        1927-02-08\n",
    "622         DR-1        1927-02-10\n",
    "734         DR-3        1930-01-07\n",
    "735         DR-3        1930-01-12\n",
    "751         DR-3        1930-02-26\n",
    "752         DR-3                  \n",
    "837         MSK-4       1932-01-14\n",
    "844         DR-1        1932-03-22\n",
    "```\n",
    "\n",
    "If the *null* date had some sort of value, we might expect it to occur before 1930...\n",
    "\n",
    "```\n",
    "sqlite> SELECT * FROM Visited WHERE dated<'1930-01-01';\n",
    "id          site        dated     \n",
    "----------  ----------  ----------\n",
    "619         DR-1        1927-02-08\n",
    "622         DR-1        1927-02-10\n",
    "```\n",
    "\n",
    "or parhaps after 1930?  No again.  In the union of the above two results, record # 752 is missing.\n",
    "\n",
    "```\n",
    "sqlite> SELECT * FROM Visited WHERE dated>='1930-01-01';\n",
    "id          site        dated     \n",
    "----------  ----------  ----------\n",
    "734         DR-3        1930-01-07\n",
    "735         DR-3        1930-01-12\n",
    "751         DR-3        1930-02-26\n",
    "837         MSK-4       1932-01-14\n",
    "844         DR-1        1932-03-22\n",
    "```\n",
    "\n",
    "If *null* is \"don't know\", then \"don't know\" < 1930 is also \"don't know\" (*null*), and so is *null* >= 1930.  *null*+1 = *null* also.  In fact, null=null is also \"don't know\" (*null*), so neither is the following will work either.\n",
    "\n",
    "```\n",
    "sqlite> SELECT * FROM Visited WHERE dated=NULL;\n",
    "sqlite> SELECT * FROM Visited WHERE dated!=NULL; \n",
    "```\n",
    "\n",
    "So *null* is a special case that is handled with IS.\n",
    "\n",
    "```\n",
    "sqlite> SELECT * FROM Visited WHERE dated IS NULL;\n",
    "id          site        dated     \n",
    "----------  ----------  ----------\n",
    "752         DR-3  \n",
    "```\n",
    "\n",
    "and conversely,\n",
    "\n",
    "```\n",
    "sqlite> SELECT * FROM Visited WHERE dated IS NOT NULL;\n",
    "id          site        dated     \n",
    "----------  ----------  ----------\n",
    "619         DR-1        1927-02-08\n",
    "622         DR-1        1927-02-10\n",
    "734         DR-3        1930-01-07\n",
    "735         DR-3        1930-01-12\n",
    "751         DR-3        1930-02-26\n",
    "837         MSK-4       1932-01-14\n",
    "844         DR-1        1932-03-22\n",
    "```\n",
    "\n",
    "Now suppose we want to find all salinities that were not recorded by Anderson Lake.  We might write a query like,\n",
    "\n",
    "```\n",
    "sqlite> SELECT * FROM Survey WHERE quant='sal' AND person!='lake';\n",
    "taken       person      quant       reading   \n",
    "----------  ----------  ----------  ----------\n",
    "619         dyer        sal         0.13      \n",
    "622         dyer        sal         0.09      \n",
    "752         roe         sal         41.6      \n",
    "837         roe         sal         22.5  \n",
    "```\n",
    "\n",
    "but this omits the record where the *person* is *null*, i.e. unknown.  To include this record, we might write\n",
    "\n",
    "```\n",
    "sqlite> SELECT * FROM Survey WHERE quant='sal' AND (person!='lake' OR person IS NULL);\n",
    "taken       person      quant       reading   \n",
    "----------  ----------  ----------  ----------\n",
    "619         dyer        sal         0.13      \n",
    "622         dyer        sal         0.09      \n",
    "735                     sal         0.06      \n",
    "752         roe         sal         41.6      \n",
    "837         roe         sal         22.5  \n",
    "```\n",
    "\n",
    "### Key points\n",
    "*  Databases use a special value called NULL to represent missing information.\n",
    "*  Almost all operations on NULL produce NULL.\n",
    "*  Queries can test for NULLs using IS NULL and IS NOT NULL.\n",
    "\n",
    "### Exercises\n",
    "* What do you expect the following query to do?\n",
    "```\n",
    "SELECT * FROM Visited WHERE dated IN ('1927-02-08', NULL);\n",
    "```\n",
    "What does it do?\n",
    "* Some database designers prefer to use a sentinel value to mark missing data rather than null. For example, they will use the date “0000-00-00” to mark a missing date, or -1.0 to mark a missing salinity or radiation reading (since actual readings cannot be negative). What does this simplify? What burdens or risks does it introduce?  Maybe the next section will help inform this discussion."
   ]
  },
  {
   "cell_type": "markdown",
   "metadata": {},
   "source": [
    "# Aggregation\n",
    "\n",
    "Aggregation functions take a whole set of values as input.  For example, let's look at the dates of site visits.\n",
    "\n",
    "```\n",
    "sqlite> SELECT dated FROM Visited;\n",
    "dated     \n",
    "----------\n",
    "1927-02-08\n",
    "1927-02-10\n",
    "1930-01-07\n",
    "1930-01-12\n",
    "1930-02-26\n",
    "          \n",
    "1932-01-14\n",
    "1932-03-22\n",
    "```\n",
    "\n",
    "To find the earliest date, we use the min() function.  It considers all dates selected from Visited.\n",
    "```\n",
    "sqlite> SELECT min(dated) FROM Visited;\n",
    "min(dated)\n",
    "----------\n",
    "1927-02-08\n",
    "```\n",
    "\n",
    "...similarly for the latest date.\n",
    "```\n",
    "sqlite> SELECT max(dated) FROM Visited;\n",
    "max(dated)\n",
    "----------\n",
    "1932-03-22\n",
    "```\n",
    "\n",
    "The avg() function returns the mean of a set of values, in this case all salinities.\n",
    "```\n",
    "sqlite> SELECT avg(reading) FROM Survey WHERE quant='sal';\n",
    "avg(reading)    \n",
    "----------------\n",
    "7.20333333333333\n",
    "```\n",
    "\n",
    "count() gives us the number of values considered.\n",
    "```\n",
    "sqlite> SELECT count(reading) FROM Survey WHERE quant='sal';\n",
    "count(reading)\n",
    "--------------\n",
    "9 \n",
    "```\n",
    "\n",
    "sum() gives the sum of values\n",
    "```\n",
    "sqlite> SELECT sum(reading) FROM Survey WHERE quant='sal';\n",
    "sum(reading)\n",
    "------------\n",
    "64.83 \n",
    "```\n",
    "\n",
    "We know that (the two) salinity readings greater than 1 are improperly recorded, so we can filter them out.\n",
    "```\n",
    "sqlite> SELECT min(reading), max(reading) FROM Survey WHERE quant='sal' AND reading<=1.0;\n",
    "min(reading)  max(reading)\n",
    "------------  ------------\n",
    "0.05          0.21 \n",
    "```\n",
    "\n",
    "Let's confirm how many good readings we have.\n",
    "```\n",
    "sqlite> SELECT person, count(*) FROM Survey WHERE quant='sal' AND reading<=1.0;\n",
    "person      count(*)  \n",
    "----------  ----------\n",
    "lake        7   \n",
    "```\n",
    "\n",
    "If these functions are called when there is no data, they return *null*.  In the following case, there is no quantity measured called 'missing', so no data is passed on to the aggregation functions.\n",
    "```\n",
    "sqlite> SELECT person, max(reading), sum(reading) FROM Survey WHERE quant='missing';\n",
    "person      max(reading)  sum(reading)\n",
    "----------  ------------  ------------\n",
    "                                      \n",
    "```\n",
    "\n",
    "*null* values are ingored by aggregation functions.  Passing *null* to these functions does not cause an error.\n",
    "```\n",
    "sqlite> SELECT min(dated) FROM Visited;\n",
    "min(dated)\n",
    "----------\n",
    "1927-02-08\n",
    "```\n",
    "\n",
    "This is handy, because otherwise we would have to always be careful to filter out *null* records, as in the following.\n",
    "```\n",
    "sqlite> SELECT min(dated) FROM Visited WHERE dated IS NOT NULL;\n",
    "min(dated)\n",
    "----------\n",
    "1927-02-08\n",
    "```\n",
    "\n",
    "Suppose we want to find the average radiation reading from each person.  The query below may not produce what we desire.\n",
    "```\n",
    "sqlite> SELECT person, count(reading), round(avg(reading), 2)\n",
    "   ...> FROM  Survey\n",
    "   ...> WHERE quant='rad';\n",
    "person      count(reading)  round(avg(reading), 2)\n",
    "----------  --------------  ----------------------\n",
    "roe         8               6.56   \n",
    "```\n",
    "It reports the average over all radiation measurements, and reports 'roe' as the associated person... likely because 'roe' was the last person queried.\n",
    "\n",
    "Instead, we can specify the person as follows,\n",
    "\n",
    "```\n",
    "sqlite> SELECT person, count(reading), round(avg(reading), 2)\n",
    "   ...> FROM  Survey\n",
    "   ...> WHERE quant='rad'\n",
    "   ...> AND   person='dyer';\n",
    "person      count(reading)  round(avg(reading), 2)\n",
    "----------  --------------  ----------------------\n",
    "dyer        2               8.81 \n",
    "```\n",
    "\n",
    "but we would need to this for every person individually.  This would be tedious.  Instead, we can use the feature GROUP BY, which accomplishes what we want.\n",
    "\n",
    "```\n",
    "sqlite> SELECT   person, count(reading), round(avg(reading), 2)\n",
    "   ...> FROM     Survey\n",
    "   ...> WHERE    quant='rad'\n",
    "   ...> GROUP BY person;\n",
    "person      count(reading)  round(avg(reading), 2)\n",
    "----------  --------------  ----------------------\n",
    "dyer        2               8.81                  \n",
    "lake        2               1.82                  \n",
    "pb          3               6.66                  \n",
    "roe         1               11.25     \n",
    "```\n",
    "\n",
    "We can group results by more than one field.  E.g. by person and by measured quantity.\n",
    "```\n",
    "sqlite> SELECT   person, quant, count(reading), round(avg(reading), 2)\n",
    "   ...> FROM     Survey\n",
    "   ...> GROUP BY person, quant;\n",
    "person      quant       count(reading)  round(avg(reading), 2)\n",
    "----------  ----------  --------------  ----------------------\n",
    "            sal         1               0.06                  \n",
    "            temp        1               -26.0                 \n",
    "dyer        rad         2               8.81                  \n",
    "dyer        sal         2               0.11                  \n",
    "lake        rad         2               1.82                  \n",
    "lake        sal         4               0.11                  \n",
    "lake        temp        1               -16.0                 \n",
    "pb          rad         3               6.66                  \n",
    "pb          temp        2               -20.0                 \n",
    "roe         rad         1               11.25                 \n",
    "roe         sal         2               32.05 \n",
    "```\n",
    "\n",
    "And to make things even nicer, we can sort by multiple fields as well.\n",
    "```\n",
    "sqlite> SELECT   person, quant, count(reading), round(avg(reading), 2)\n",
    "   ...> FROM     Survey\n",
    "   ...> WHERE    person IS NOT NULL\n",
    "   ...> GROUP BY person, quant\n",
    "   ...> ORDER BY person, quant;\n",
    "person      quant       count(reading)  round(avg(reading), 2)\n",
    "----------  ----------  --------------  ----------------------\n",
    "dyer        rad         2               8.81                  \n",
    "dyer        sal         2               0.11                  \n",
    "lake        rad         2               1.82                  \n",
    "lake        sal         4               0.11                  \n",
    "lake        temp        1               -16.0                 \n",
    "pb          rad         3               6.66                  \n",
    "pb          temp        2               -20.0                 \n",
    "roe         rad         1               11.25                 \n",
    "roe         sal         2               32.05 \n",
    "```\n",
    "\n",
    "Looking more closely, this query:\n",
    "\n",
    "*   selected records from the Survey table where the person field was not null;\n",
    "*   grouped those records into subsets so that the person and quant values in each subset were the same;\n",
    "*   ordered those subsets first by person, and then within each sub-group by quant; and\n",
    "*   counted the number of records in each subset, calculated the average reading in each, and chose a person and quant value from each (it doesn’t matter which ones, since they’re all equal).\n",
    "\n",
    "\n",
    "### Key points\n",
    "\n",
    "*   Use aggregation functions to combine multiple values.\n",
    "*  Aggregation functions ignore null values.\n",
    "*   Aggregation happens after filtering.\n",
    "*   Use GROUP BY to combine subsets separately.\n",
    "*   If no aggregation function is specified for a field, the query may return an arbitrary value for that field.\n",
    "\n",
    "### Exercises\n",
    "\n",
    "* How many temperature readings did Frank Pabodie record, and what was their average value?\n",
    "* The average of a set of values is the sum of the values divided by the number of values. Does this mean that the avg function returns 2.0 or 3.0 when given the values 1.0, null, and 5.0?\n",
    "* We want to get the deviation of each radiation reading from the average radiation reading.  We try the following.\n",
    "```\n",
    "SELECT reading - avg(reading) FROM Survey WHERE quant='rad';\n",
    "```\n",
    "What actually happens and why?"
   ]
  },
  {
   "cell_type": "markdown",
   "metadata": {},
   "source": [
    "# Combining Data\n",
    "\n",
    "As it stands, all our data is held in four separate tables.  This is more efficient in general than having a single big table with all fields, because we avoid repeating facts in our database.  For example, once we have estabished the location of a site (latitude and longitude) in the *Site* table, there is no real need to record the location for every record in *Survey*.\n",
    "\n",
    "But what if we require, for example, that each reported measurement be accompanied by the date, longitude and latitude?\n",
    "\n",
    "\n",
    "We need to combine records in *Site* and *Visited* with those in *Survey*.  This can be accomplished with JOIN.  Let's explore how this works by considering the *Site* and *Visited* tables.\n",
    "\n",
    "```\n",
    "sqlite> SELECT * FROM Site;\n",
    "name        lat         long      \n",
    "----------  ----------  ----------\n",
    "DR-1        -49.85      -128.57   \n",
    "DR-3        -47.15      -126.72   \n",
    "MSK-4       -48.87      -123.4  \n",
    "```\n",
    "\n",
    "```\n",
    "sqlite> SELECT * FROM Visited;\n",
    "id          site        dated     \n",
    "----------  ----------  ----------\n",
    "619         DR-1        1927-02-08\n",
    "622         DR-1        1927-02-10\n",
    "734         DR-3        1930-01-07\n",
    "735         DR-3        1930-01-12\n",
    "751         DR-3        1930-02-26\n",
    "752         DR-3                  \n",
    "837         MSK-4       1932-01-14\n",
    "844         DR-1        1932-03-22\n",
    "```\n",
    "\n",
    "We see that there are 3 sites and 8 different visits to these sites.  We want to write a query that will report the longitude and latitude for each entry in *Visited*. Notice that both *name* in *Site* and *site* in *Visited* both correspond to the name of the sampling site.  \n",
    "\n",
    "The JOIN operation will take each record (row) in *Site* and combine it with each record (row) in *Visited*, yielding 3\\*8 = 24 records.  That's not what we want, but it is a step in the right direction.\n",
    "\n",
    "```\n",
    "sqlite> SELECT * FROM Site JOIN Visited;\n",
    "name        lat         long        id          site        dated     \n",
    "----------  ----------  ----------  ----------  ----------  ----------\n",
    "DR-1        -49.85      -128.57     619         DR-1        1927-02-08\n",
    "DR-1        -49.85      -128.57     622         DR-1        1927-02-10\n",
    "DR-1        -49.85      -128.57     734         DR-3        1930-01-07\n",
    "DR-1        -49.85      -128.57     735         DR-3        1930-01-12\n",
    "DR-1        -49.85      -128.57     751         DR-3        1930-02-26\n",
    "DR-1        -49.85      -128.57     752         DR-3                  \n",
    "DR-1        -49.85      -128.57     837         MSK-4       1932-01-14\n",
    "DR-1        -49.85      -128.57     844         DR-1        1932-03-22\n",
    "DR-3        -47.15      -126.72     619         DR-1        1927-02-08\n",
    "DR-3        -47.15      -126.72     622         DR-1        1927-02-10\n",
    "DR-3        -47.15      -126.72     734         DR-3        1930-01-07\n",
    "DR-3        -47.15      -126.72     735         DR-3        1930-01-12\n",
    "DR-3        -47.15      -126.72     751         DR-3        1930-02-26\n",
    "DR-3        -47.15      -126.72     752         DR-3                  \n",
    "DR-3        -47.15      -126.72     837         MSK-4       1932-01-14\n",
    "DR-3        -47.15      -126.72     844         DR-1        1932-03-22\n",
    "MSK-4       -48.87      -123.4      619         DR-1        1927-02-08\n",
    "MSK-4       -48.87      -123.4      622         DR-1        1927-02-10\n",
    "MSK-4       -48.87      -123.4      734         DR-3        1930-01-07\n",
    "MSK-4       -48.87      -123.4      735         DR-3        1930-01-12\n",
    "MSK-4       -48.87      -123.4      751         DR-3        1930-02-26\n",
    "MSK-4       -48.87      -123.4      752         DR-3                  \n",
    "MSK-4       -48.87      -123.4      837         MSK-4       1932-01-14\n",
    "MSK-4       -48.87      -123.4      844         DR-1        1932-03-22\n",
    "```\n",
    "\n",
    "Many records in this joined set of tables do not make sense.  We only want to keep records where *name* is the same as *site*.  Records with information about two different sites need to be filtered out.  This we do using ON instead of WHERE.\n",
    "\n",
    "```\n",
    "sqlite> SELECT * FROM Site JOIN Visited ON Site.name=Visited.site;\n",
    "name        lat         long        id          site        dated     \n",
    "----------  ----------  ----------  ----------  ----------  ----------\n",
    "DR-1        -49.85      -128.57     619         DR-1        1927-02-08\n",
    "DR-1        -49.85      -128.57     622         DR-1        1927-02-10\n",
    "DR-1        -49.85      -128.57     844         DR-1        1932-03-22\n",
    "DR-3        -47.15      -126.72     734         DR-3        1930-01-07\n",
    "DR-3        -47.15      -126.72     735         DR-3        1930-01-12\n",
    "DR-3        -47.15      -126.72     751         DR-3        1930-02-26\n",
    "DR-3        -47.15      -126.72     752         DR-3                  \n",
    "MSK-4       -48.87      -123.4      837         MSK-4       1932-01-14\n",
    "```\n",
    "\n",
    "The notation used in *Site.name* allows us to refer to fields in different tables unambiguously.\n",
    "\n",
    "Now let's say we want to report latitude, longitude and date.  We can use the . notation.\n",
    "\n",
    "```\n",
    "sqlite> SELECT Site.lat, Site.long, Visited.dated\n",
    "   ...> FROM   Site JOIN Visited\n",
    "   ...> ON     Site.name=Visited.site;\n",
    "lat         long        dated     \n",
    "----------  ----------  ----------\n",
    "-49.85      -128.57     1927-02-08\n",
    "-49.85      -128.57     1927-02-10\n",
    "-49.85      -128.57     1932-03-22\n",
    "-47.15      -126.72               \n",
    "-47.15      -126.72     1930-01-07\n",
    "-47.15      -126.72     1930-01-12\n",
    "-47.15      -126.72     1930-02-26\n",
    "-48.87      -123.4      1932-01-14\n",
    "```\n",
    "\n",
    "\n",
    "JOIN allows us to combine data from more than two tables.  The following takes data from three.\n",
    "\n",
    "```\n",
    "sqlite> SELECT Site.lat, Site.long, Visited.dated, Survey.quant, Survey.reading\n",
    "   ...> FROM   Site JOIN Visited JOIN Survey\n",
    "   ...> ON     Site.name=Visited.site\n",
    "   ...> AND    Visited.id=Survey.taken\n",
    "   ...> AND    Visited.dated IS NOT NULL;\n",
    "lat         long        dated       quant       reading   \n",
    "----------  ----------  ----------  ----------  ----------\n",
    "-49.85      -128.57     1927-02-08  rad         9.82      \n",
    "-49.85      -128.57     1927-02-08  sal         0.13      \n",
    "-49.85      -128.57     1927-02-10  rad         7.8       \n",
    "-49.85      -128.57     1927-02-10  sal         0.09      \n",
    "-47.15      -126.72     1930-01-07  rad         8.41      \n",
    "-47.15      -126.72     1930-01-07  sal         0.05      \n",
    "-47.15      -126.72     1930-01-07  temp        -21.5     \n",
    "-47.15      -126.72     1930-01-12  rad         7.22      \n",
    "-47.15      -126.72     1930-01-12  sal         0.06      \n",
    "-47.15      -126.72     1930-01-12  temp        -26.0     \n",
    "-47.15      -126.72     1930-02-26  rad         4.35      \n",
    "-47.15      -126.72     1930-02-26  sal         0.1       \n",
    "-47.15      -126.72     1930-02-26  temp        -18.5     \n",
    "-48.87      -123.4      1932-01-14  rad         1.46      \n",
    "-48.87      -123.4      1932-01-14  sal         0.21      \n",
    "-48.87      -123.4      1932-01-14  sal         22.5      \n",
    "-49.85      -128.57     1932-03-22  rad         11.25 \n",
    "```\n",
    "\n",
    "We can successfully combine corresponding records in different tables because of *primary keys* and *foreign keys*.\n",
    "\n",
    "A *primary key* is a value, or combination of values, that uniquely identify a record. For the *Person* table, any field, even the row number, could be a primary key because all the first and family names are unique.\n",
    "\n",
    "```\n",
    "sqlite> SELECT rowid, * FROM Person;\n",
    "rowid       id          personal    family    \n",
    "----------  ----------  ----------  ----------\n",
    "1           dyer        William     Dyer      \n",
    "2           pb          Frank       Pabodie   \n",
    "3           lake        Anderson    Lake      \n",
    "4           roe         Valentina   Roerich   \n",
    "5           danforth    Frank       Danforth\n",
    "```\n",
    "\n",
    "Your student number is a primary key in MUN's student database!\n",
    "\n",
    "A *foreign key* is a value, or combination of values, that uniquely identifies records in another table.  E.g.,\n",
    "```\n",
    "sqlite> SELECT * FROM Survey;\n",
    "taken       person      quant       reading   \n",
    "----------  ----------  ----------  ----------\n",
    "619         dyer        rad         9.82      \n",
    "619         dyer        sal         0.13      \n",
    "622         dyer        rad         7.8       \n",
    "622         dyer        sal         0.09      \n",
    "734         pb          rad         8.41      \n",
    "734         lake        sal         0.05      \n",
    "734         pb          temp        -21.5     \n",
    "735         pb          rad         7.22      \n",
    "735                     sal         0.06      \n",
    "735                     temp        -26.0     \n",
    "751         pb          rad         4.35      \n",
    "751         pb          temp        -18.5     \n",
    "751         lake        sal         0.1       \n",
    "752         lake        rad         2.19      \n",
    "752         lake        sal         0.09      \n",
    "752         lake        temp        -16.0     \n",
    "752         roe         sal         41.6      \n",
    "837         lake        rad         1.46      \n",
    "837         lake        sal         0.21      \n",
    "837         roe         sal         22.5      \n",
    "844         roe         rad         11.25  \n",
    "```\n",
    "*Survey.person* is a foreign key linking records in *Survey* to records in *Person*.\n",
    "\n",
    "### Key points\n",
    "\n",
    "*   Use JOIN to combine data from two tables.\n",
    "*   Use table.field notation to refer to fields when doing joins.\n",
    "*   Every fact should be represented in a database exactly once.\n",
    "*   A join produces all combinations of records from one table with records from another.\n",
    "*   A primary key is a field (or set of fields) whose values uniquely identify the records in a table.\n",
    "*   A foreign key is a field (or set of fields) in one table whose values are a primary key in another table.\n",
    "*   We can eliminate meaningless combinations of records by matching primary keys and foreign keys between tables.\n",
    "*    The most common join condition is matching keys.\n",
    "\n",
    "### Exercises\n",
    "* Write a query that lists all radiation readings from the DR-1 site.\n",
    "* Describe in your own words what the following query produces:\n",
    "```\n",
    "SELECT Site.name FROM Site JOIN Visited\n",
    "ON Site.lat<-49.0 AND Site.name=Visited.site AND Visited.dated>='1932-01-01';\n",
    "```"
   ]
  },
  {
   "cell_type": "markdown",
   "metadata": {},
   "source": [
    "# Data Hygiene\n",
    "\n",
    "The relational model together with JOIN allows us to store access data efficiently.  There are 4 rules on how to best store data.\n",
    "\n",
    "1. Every value should be atomic.  This means that values should not be composed of parts that we might want to use separately.  For example, first and family names should be stored separately.  If we were to store a name like Eloise St. Cyr as a single value, we might run into trouble trying to extract the family name.\n",
    "\n",
    "2. Every record (row) should have a unique primary key.  This could be a serial number that otherwsie has no meaning, a unique field (like *id* in *Person*) or a combination of fields (*taken*, *person*, *quant*) for *Survey* records.\n",
    "\n",
    "3. No redundant information.  For example, we could elimate the *Site* table and rewrite *Visited* as below.  \n",
    "\n",
    " Here the latitudes and longitudes are needlessly repeated when measurements are taken at the same location.  Problem is, if we needed to update one of the location's latitude, we would need to make corrections in a number of places, and we might not be able to determine unambiguously where to make the changes.\n",
    "\n",
    "    ```\n",
    "    sqlite> SELECT id, lat, long, dated  FROM Visited JOIN Site ON Visited.site=Site.name;\n",
    "    id          lat         long        dated     \n",
    "    ----------  ----------  ----------  ----------\n",
    "    619         -49.85      -128.57     1927-02-08\n",
    "    622         -49.85      -128.57     1927-02-10\n",
    "    734         -47.15      -126.72     1930-01-07\n",
    "    735         -47.15      -126.72     1930-01-12\n",
    "    751         -47.15      -126.72     1930-02-26\n",
    "    752         -47.15      -126.72               \n",
    "    837         -48.87      -123.4      1932-01-14\n",
    "    844         -49.85      -128.57     1932-03-22\n",
    "    ```\n",
    "    \n",
    "4. Store units of values.  For example, some salinities were expressed as percentage and thus appeared to be erroneous.\n",
    "\n",
    "\n",
    "### Key points\n",
    "\n",
    "*  Every value in a database should be atomic.\n",
    "*  Every record should have a unique primary key.\n",
    "*  A database should not contain redundant information.\n",
    "*  Units and similar metadata should be storedwith the data.\n",
    "\n",
    "### Exercises\n",
    "\n",
    "* Which of the following are atomic values? Which are not? Why?\n",
    "\n",
    "    * New Zealand\n",
    "    * 87 Turing Avenue\n",
    "    * January 25, 1971\n",
    "    * the XY coordinate (0.5, 3.3)\n",
    "* What is the primary key in this table? I.e., what value or combination of values uniquely identifies a record?\n",
    "\n",
    "| latitude   |longitude  |  date    |   temperature |\n",
    "|----------- | :------: | :-------: | ------------: |\n",
    "| 57.3        | -22.5   | 2015-01-09  | -14.2 |\n"
   ]
  },
  {
   "cell_type": "markdown",
   "metadata": {},
   "source": [
    "# Creating and Modifying Data\n",
    "\n",
    "We have been so far querying existing data.  Now we will create, delete and modify data.\n",
    "\n",
    "The first command to learn is CREATE TABLE.  It's argument is the table name and the name and types of its columns.  The commands used to create the tables in our data base were.\n",
    "\n",
    "```\n",
    "CREATE TABLE Person(id text, personal text, family text);\n",
    "CREATE TABLE Site(name text, lat real, long real);\n",
    "CREATE TABLE Visited(id integer, site text, dated text);\n",
    "CREATE TABLE Survey(taken integer, person text, quant real, reading real);\n",
    "```\n",
    "SQLite types include\n",
    "* INTEGER a signed integer \n",
    "* REAL a floating point number \n",
    "* TEXT a character string \n",
    "* BLOB a “binary large object”, such as an image\n",
    "\n",
    "Booleans are represented by 0 (False) and 1 (True).\n",
    "\n",
    "Other database managers may have special types for geographic location, time, Booleans, etc.\n",
    "\n",
    "\n",
    "A more thorough table creation might include restriction on values, and information about keys,\n",
    "```\n",
    "CREATE TABLE Survey(\n",
    "    taken   integer not null, -- where reading taken\n",
    "    person  text,             -- may not know who took it\n",
    "    quant   real not null,    -- the quantity measured\n",
    "    reading real not null,    -- the actual reading\n",
    "    primary key(taken, quant),\n",
    "    foreign key(taken) references Visited(id),\n",
    "    foreign key(person) references Person(id)\n",
    ");\n",
    "```\n",
    "\n",
    "\n",
    "\n",
    "To delete a table, use DROP TABLE.  E.g. to delete the *Survey* table:\n",
    "```\n",
    "DROP TABLE Survey;\n",
    "```\n",
    "\n",
    "Once a table exists, we can insert data into it.  Let's insert some data into the *Site* table.\n",
    "\n",
    "```\n",
    "sqlite> SELECT * FROM Site;\n",
    "name        lat         long      \n",
    "----------  ----------  ----------\n",
    "DR-1        -49.85      -128.57   \n",
    "DR-3        -47.15      -126.72   \n",
    "MSK-4       -48.87      -123.4 \n",
    "sqlite> DROP TABLE Site;\n",
    "sqlite> DROP TABLE Site;\n",
    "Error: no such table: Site\n",
    "sqlite> CREATE TABLE Site(name text, lat real, long real);\n",
    "sqlite> SELECT * FROM Site;\n",
    "sqlite> INSERT INTO Site values('DR-1', -49.85, -128.57);\n",
    "sqlite> INSERT INTO Site values('DR-3', -47.15, -126.72);\n",
    "sqlite> INSERT INTO Site values('MSK-4', -48.87, -123.40);\n",
    "sqlite> SELECT * FROM Site;                               \n",
    "name        lat         long      \n",
    "----------  ----------  ----------\n",
    "DR-1        -49.85      -128.57   \n",
    "DR-3        -47.15      -126.72   \n",
    "MSK-4       -48.87      -123.4\n",
    "```\n",
    "\n",
    "We can also insert values into tables from existing tables.\n",
    "\n",
    "```\n",
    "sqlite> CREATE TABLE JustLatLong(lat text, long text);\n",
    "sqlite> SELECT lat, long FROM Site;\n",
    "lat         long      \n",
    "----------  ----------\n",
    "-49.85      -128.57   \n",
    "-47.15      -126.72   \n",
    "-48.87      -123.4    \n",
    "sqlite> INSERT INTO JustLatLong SELECT lat, long FROM Site;\n",
    "sqlite> SELECT *  FROM JustLatLong;    \n",
    "lat         long      \n",
    "----------  ----------\n",
    "-49.85      -128.57   \n",
    "-47.15      -126.72   \n",
    "-48.87      -123.4    \n",
    "sqlite> \n",
    "sqlite> .tables\n",
    "JustLatLong  Person       Site         Survey       Visited \n",
    "```\n",
    "\n",
    "We can also change existing values.\n",
    "\n",
    "```\n",
    "sqlite> UPDATE Site SET lat=-47.87, long=-122.40 WHERE name='MSK-4';\n",
    "sqlite> SELECT * FROM Site;\n",
    "name        lat         long      \n",
    "----------  ----------  ----------\n",
    "DR-1        -49.85      -128.57   \n",
    "DR-3        -47.15      -126.72   \n",
    "MSK-4       -47.87      -122.4\n",
    "```\n",
    "\n",
    "Deleting an entry is also possible, but must be done with caution.  For example, we can delete Frank Danforth form the *Person* table easily enough (he did not take any data).\n",
    "```\n",
    "sqlite> SELECT * FROM Person;\n",
    "id          personal    family    \n",
    "----------  ----------  ----------\n",
    "dyer        William     Dyer      \n",
    "pb          Frank       Pabodie   \n",
    "lake        Anderson    Lake      \n",
    "roe         Valentina   Roerich   \n",
    "danforth    Frank       Danforth \n",
    "sqlite> DELETE FROM Person WHERE id = 'danforth';\n",
    "sqlite> SELECT * FROM Person;                    \n",
    "id          personal    family    \n",
    "----------  ----------  ----------\n",
    "dyer        William     Dyer      \n",
    "pb          Frank       Pabodie   \n",
    "lake        Anderson    Lake      \n",
    "roe         Valentina   Roerich \n",
    "```\n",
    "\n",
    "However, deleting from the *Person* table someone who took data, like Anderson Lake, would render the database inconsistent, since the *Survey* table would contain entries referring to him, when he no longer exists!\n",
    "\n",
    "This problem is called referential integrity: we need to ensure that all references between tables can always be resolved correctly. One way to do this is to delete all the records that use 'lake' as a foreign key before deleting the record that uses it as a primary key. If our database manager supports it, we can automate this using cascading delete. However, this technique is outside the scope of this lecture.\n",
    "\n",
    "#### Hybrid Storage\n",
    "\n",
    "Many applications use a hybrid storage model instead of putting everything into a database: the actual data (such as astronomical images) is stored in files, while the database stores the files’ names, their modification dates, the region of the sky they cover, their spectral characteristics, and so on. This is also how most music player software is built: the database inside the application keeps track of the MP3 files, but the files themselves live on disk.\n",
    "\n",
    "### Key points\n",
    "\n",
    "*  Use CREATE and DROP to create and delete tables.\n",
    "*  Use INSERT to add data.\n",
    "*  Use UPDATE to modify existing data.\n",
    "*  Use DELETE to remove data.\n",
    "*  It is simpler and safer to modify data when every record has a unique primary key.\n",
    "*  Do not create dangling references by deleting records that other records refer to.\n",
    "\n",
    "### Exercise\n",
    "* Write an SQL statement to replace all uses of *null* in Survey.person with the string 'unknown'."
   ]
  },
  {
   "cell_type": "markdown",
   "metadata": {},
   "source": [
    "# Writing Out Query Results to Files\n",
    "\n",
    "So far we have just watched the output from our queries scroll down our screen.  What if we wish to save them to a file? There are a number of ways to do this.\n",
    "\n",
    "Let's start with the query\n",
    "```\n",
    "sqlite> SELECT id, site FROM Visited WHERE dated IS NOT NULL;\n",
    "id          site      \n",
    "----------  ----------\n",
    "619         DR-1      \n",
    "622         DR-1      \n",
    "734         DR-3      \n",
    "735         DR-3      \n",
    "751         DR-3      \n",
    "837         MSK-4     \n",
    "844         DR-1 \n",
    "```\n",
    "\n",
    "The output, as usual, is to the screen.  We can change the output to a file via, run the query again, and change the output back to the screen (standard output) using the SQLite command *.output* as follows.\n",
    "```\n",
    "sqlite> .output visitsWithDates.dat\n",
    "sqlite> SELECT id, site FROM Visited WHERE dated IS NOT NULL;\n",
    "sqlite> .output stdout \n",
    "sqlite> SELECT id, site FROM Visited WHERE dated IS NOT NULL;\n",
    "id          site      \n",
    "----------  ----------\n",
    "619         DR-1      \n",
    "622         DR-1      \n",
    "734         DR-3      \n",
    "735         DR-3      \n",
    "751         DR-3      \n",
    "837         MSK-4     \n",
    "844         DR-1 \n",
    "```\n",
    "\n",
    "We should see the file *visitsWithDates.dat* now in the current directory."
   ]
  },
  {
   "cell_type": "code",
   "execution_count": 1,
   "metadata": {
    "collapsed": false
   },
   "outputs": [
    {
     "name": "stdout",
     "output_type": "stream",
     "text": [
      "Databases.ipynb      file.txt             visitsWithDates.dat\r\n",
      "\u001b[34mbin\u001b[m\u001b[m/                 someAnswers.txt\r\n",
      "\u001b[34mdata\u001b[m\u001b[m/                survey.db\r\n"
     ]
    }
   ],
   "source": [
    "ls"
   ]
  },
  {
   "cell_type": "code",
   "execution_count": 2,
   "metadata": {
    "collapsed": false
   },
   "outputs": [
    {
     "name": "stdout",
     "output_type": "stream",
     "text": [
      "id          site      \r\n",
      "----------  ----------\r\n",
      "619         DR-1      \r\n",
      "622         DR-1      \r\n",
      "734         DR-3      \r\n",
      "735         DR-3      \r\n",
      "751         DR-3      \r\n",
      "837         MSK-4     \r\n",
      "844         DR-1      \r\n"
     ]
    }
   ],
   "source": [
    "!cat visitsWithDates.dat"
   ]
  },
  {
   "cell_type": "markdown",
   "metadata": {},
   "source": [
    "Another way to do this is to run the query through sqlite3 form the command line."
   ]
  },
  {
   "cell_type": "code",
   "execution_count": 49,
   "metadata": {
    "collapsed": false
   },
   "outputs": [
    {
     "name": "stdout",
     "output_type": "stream",
     "text": [
      "619|DR-1\r\n",
      "622|DR-1\r\n",
      "734|DR-3\r\n",
      "735|DR-3\r\n",
      "751|DR-3\r\n",
      "837|MSK-4\r\n",
      "844|DR-1\r\n"
     ]
    }
   ],
   "source": [
    "!sqlite3 survey.db \"SELECT id, site FROM Visited WHERE dated IS NOT NULL;\""
   ]
  },
  {
   "cell_type": "markdown",
   "metadata": {},
   "source": [
    "The formating isn't quite what we are used to.  We can add flags to fix that. Let's also redirect output to a file.  [Remember, ! means that what follows is executed in the bash shell, so we could do all this directly on the command line.]"
   ]
  },
  {
   "cell_type": "code",
   "execution_count": 9,
   "metadata": {
    "collapsed": false
   },
   "outputs": [],
   "source": [
    "!sqlite3 survey.db -column -header \"SELECT id, site FROM Visited WHERE dated IS NOT NULL;\" > visitsWithDates2.dat"
   ]
  },
  {
   "cell_type": "code",
   "execution_count": 10,
   "metadata": {
    "collapsed": false
   },
   "outputs": [
    {
     "name": "stdout",
     "output_type": "stream",
     "text": [
      "id          site      \r\n",
      "----------  ----------\r\n",
      "619         DR-1      \r\n",
      "622         DR-1      \r\n",
      "734         DR-3      \r\n",
      "735         DR-3      \r\n",
      "751         DR-3      \r\n",
      "837         MSK-4     \r\n",
      "844         DR-1      \r\n"
     ]
    }
   ],
   "source": [
    "cat visitsWithDates2.dat"
   ]
  },
  {
   "cell_type": "markdown",
   "metadata": {},
   "source": [
    "Or we can save all of our commands in a file.  Let's use an editor to put the following into a file into a file called query.txt.\n",
    "```\n",
    ".mod column\n",
    ".headers on\n",
    "\n",
    "SELECT id, site FROM Visited WHERE dated IS NOT NULL;\n",
    "```"
   ]
  },
  {
   "cell_type": "code",
   "execution_count": 11,
   "metadata": {
    "collapsed": false
   },
   "outputs": [],
   "source": [
    "!sqlite3 survey.db \".read query.txt\" > visitsWithDates3.dat"
   ]
  },
  {
   "cell_type": "code",
   "execution_count": 12,
   "metadata": {
    "collapsed": false
   },
   "outputs": [
    {
     "name": "stdout",
     "output_type": "stream",
     "text": [
      "id          site      \r\n",
      "----------  ----------\r\n",
      "619         DR-1      \r\n",
      "622         DR-1      \r\n",
      "734         DR-3      \r\n",
      "735         DR-3      \r\n",
      "751         DR-3      \r\n",
      "837         MSK-4     \r\n",
      "844         DR-1      \r\n",
      "\r\n"
     ]
    }
   ],
   "source": [
    "cat visitsWithDates3.dat"
   ]
  },
  {
   "cell_type": "markdown",
   "metadata": {},
   "source": [
    "# Python and Databases\n",
    "\n",
    "Finally, we'll take a look at how we can interact with an SQLite database from python.  Of course, there is a library we will have to import, but the steps are fairly self explanatory."
   ]
  },
  {
   "cell_type": "code",
   "execution_count": 13,
   "metadata": {
    "collapsed": true
   },
   "outputs": [],
   "source": [
    "import sqlite3"
   ]
  },
  {
   "cell_type": "code",
   "execution_count": 14,
   "metadata": {
    "collapsed": true
   },
   "outputs": [],
   "source": [
    "connection = sqlite3.connect(\"survey.db\")"
   ]
  },
  {
   "cell_type": "code",
   "execution_count": 15,
   "metadata": {
    "collapsed": true
   },
   "outputs": [],
   "source": [
    "cursor = connection.cursor() # The cursor lets us act as though we are at the sqlite3 prompt"
   ]
  },
  {
   "cell_type": "code",
   "execution_count": 16,
   "metadata": {
    "collapsed": false
   },
   "outputs": [
    {
     "data": {
      "text/plain": [
       "<sqlite3.Cursor at 0x102f96a40>"
      ]
     },
     "execution_count": 16,
     "metadata": {},
     "output_type": "execute_result"
    }
   ],
   "source": [
    "cursor.execute(\"SELECT Site.lat, Site.long FROM Site;\")"
   ]
  },
  {
   "cell_type": "code",
   "execution_count": 17,
   "metadata": {
    "collapsed": true
   },
   "outputs": [],
   "source": [
    "results = cursor.fetchall()"
   ]
  },
  {
   "cell_type": "code",
   "execution_count": 19,
   "metadata": {
    "collapsed": false
   },
   "outputs": [
    {
     "name": "stdout",
     "output_type": "stream",
     "text": [
      "(-49.85, -128.57)\n",
      "(-47.15, -126.72)\n",
      "(-47.87, -122.4)\n"
     ]
    }
   ],
   "source": [
    "for r in results:\n",
    "    print(r)"
   ]
  },
  {
   "cell_type": "code",
   "execution_count": 20,
   "metadata": {
    "collapsed": true
   },
   "outputs": [],
   "source": [
    "cursor.close()\n",
    "connection.close()"
   ]
  },
  {
   "cell_type": "code",
   "execution_count": 21,
   "metadata": {
    "collapsed": false
   },
   "outputs": [
    {
     "name": "stdout",
     "output_type": "stream",
     "text": [
      "[(-49.85, -128.57), (-47.15, -126.72), (-47.87, -122.4)]\n"
     ]
    }
   ],
   "source": [
    "print(results)"
   ]
  },
  {
   "cell_type": "markdown",
   "metadata": {},
   "source": [
    "Queries in real applications will often depend on values provided by users. For example, this function takes a user’s ID as a parameter and returns the corresponding name."
   ]
  },
  {
   "cell_type": "code",
   "execution_count": 22,
   "metadata": {
    "collapsed": true
   },
   "outputs": [],
   "source": [
    "def get_name(database_file, person_id):\n",
    "    query = \"SELECT personal || ' ' || family FROM Person WHERE id='\" + person_id + \"';\"\n",
    "\n",
    "    connection = sqlite3.connect(database_file)\n",
    "    cursor = connection.cursor()\n",
    "    cursor.execute(query)\n",
    "    results = cursor.fetchall()\n",
    "    cursor.close()\n",
    "    connection.close()\n",
    "\n",
    "    return results[0][0]"
   ]
  },
  {
   "cell_type": "code",
   "execution_count": 23,
   "metadata": {
    "collapsed": false
   },
   "outputs": [
    {
     "data": {
      "text/plain": [
       "'Frank Pabodie'"
      ]
     },
     "execution_count": 23,
     "metadata": {},
     "output_type": "execute_result"
    }
   ],
   "source": [
    "get_name('survey.db','pb')"
   ]
  },
  {
   "cell_type": "code",
   "execution_count": 25,
   "metadata": {
    "collapsed": false
   },
   "outputs": [
    {
     "name": "stdout",
     "output_type": "stream",
     "text": [
      "full name for dyer: William Dyer\n"
     ]
    }
   ],
   "source": [
    "print(\"full name for dyer:\", get_name('survey.db', 'dyer'))"
   ]
  },
  {
   "cell_type": "markdown",
   "metadata": {},
   "source": [
    "We use string concatenation on the first line of this function to construct a query containing the user ID we have been given. This seems simple enough, but it is possible for malicious strings to be passed in that may damage the database, a so-called \"SQL injection attack\".\n",
    "\n",
    "An alternative to string concatenation is to use a *prepared statement*, which is just a SQL query template."
   ]
  },
  {
   "cell_type": "code",
   "execution_count": 35,
   "metadata": {
    "collapsed": true
   },
   "outputs": [],
   "source": [
    "def get_name(database_file, person_id):\n",
    "    query = \"SELECT personal || ' ' || family FROM Person WHERE id=?;\"\n",
    "\n",
    "    connection = sqlite3.connect(database_file)\n",
    "    cursor = connection.cursor()\n",
    "    cursor.execute(query, [person_id])\n",
    "    results = cursor.fetchall()\n",
    "    cursor.close()\n",
    "    connection.close()\n",
    "\n",
    "    return results[0][0]"
   ]
  },
  {
   "cell_type": "code",
   "execution_count": 38,
   "metadata": {
    "collapsed": false
   },
   "outputs": [
    {
     "name": "stdout",
     "output_type": "stream",
     "text": [
      "full name for dyer: William Dyer\n"
     ]
    }
   ],
   "source": [
    "print(\"full name for dyer:\", get_name('survey.db', 'dyer'))"
   ]
  },
  {
   "cell_type": "markdown",
   "metadata": {},
   "source": [
    "### Key points\n",
    "\n",
    "*  General-purpose languages have libraries for accessing databases.\n",
    "*  To connect to a database, a program must use a library specific to that database manager.\n",
    "*  These libraries use a connection-and-cursor model.\n",
    "*  Programs can read query results in batches or all at once.\n",
    "*  Queries should be written using parameter substitution, not string formatting.\n",
    "\n",
    "### Exercises\n",
    "* Write a Python program that creates a new database in a file called original.db containing a single table called Pressure, with a single field called reading, and inserts 100,000 random numbers between 10.0 and 25.0. How long does it take this program to run? How long does it take to run a program that simply writes those random numbers to a file?\n",
    "* Write a Python program that creates a new database called backup.db with the same structure as original.db and copies all the values greater than 20.0 from original.db to backup.db. Which is faster: filtering values in the query, or reading everything into memory and filtering in Python?\n"
   ]
  },
  {
   "cell_type": "code",
   "execution_count": 153,
   "metadata": {
    "collapsed": false
   },
   "outputs": [
    {
     "name": "stdout",
     "output_type": "stream",
     "text": [
      "0.8332860469818115\n"
     ]
    }
   ],
   "source": [
    "import random\n",
    "import time\n",
    "!rm original.db\n",
    "\n",
    "n=100000\n",
    "s1=time.time()\n",
    "connection = sqlite3.connect('original.db')\n",
    "cursor = connection.cursor()\n",
    "cursor.execute(\"CREATE TABLE Pressure(reading real)\")\n",
    "for i in range(1,n+1):\n",
    "    x=random.uniform(10.0,25.0)\n",
    "    cursor.execute(\"INSERT INTO Pressure values(?);\",[x])\n",
    "cursor.close()\n",
    "connection.commit() #saves changes (all those insertions)\n",
    "connection.close()\n",
    "s2=time.time()\n",
    "print(s2-s1)\n"
   ]
  },
  {
   "cell_type": "code",
   "execution_count": 154,
   "metadata": {
    "collapsed": false
   },
   "outputs": [
    {
     "name": "stdout",
     "output_type": "stream",
     "text": [
      "0.3808920383453369\n"
     ]
    }
   ],
   "source": [
    "n=100000\n",
    "s1=time.time()\n",
    "f = open('workfile.txt', 'w')\n",
    "for i in range(1,n+1):\n",
    "    x=random.uniform(10.0,25.0)\n",
    "    f.write(str(x)+'\\n')\n",
    "f.close()\n",
    "s2=time.time()\n",
    "print(s2-s1)"
   ]
  },
  {
   "cell_type": "code",
   "execution_count": 155,
   "metadata": {
    "collapsed": false
   },
   "outputs": [
    {
     "name": "stdout",
     "output_type": "stream",
     "text": [
      "0.2688448429107666\n"
     ]
    }
   ],
   "source": [
    "!rm backup.db\n",
    "\n",
    "s1=time.time()\n",
    "connection_b = sqlite3.connect('backup.db')\n",
    "cursor_b = connection_b.cursor()\n",
    "cursor_b.execute(\"CREATE TABLE Pressure(reading real)\")\n",
    "\n",
    "connection = sqlite3.connect('original.db')\n",
    "cursor = connection.cursor()\n",
    "\n",
    "cursor.execute(\"SELECT reading FROM Pressure WHERE reading>20.0;\")\n",
    "result = cursor.fetchall()\n",
    "\n",
    "for r in result:\n",
    "    cursor_b.execute(\"INSERT INTO Pressure values(?);\",[r[0]])\n",
    "\n",
    "cursor.close()\n",
    "connection.close()\n",
    "cursor_b.close()\n",
    "connection_b.commit() #saves changes (all those insertions)\n",
    "connection_b.close()\n",
    "s2=time.time()\n",
    "print(s2-s1)"
   ]
  },
  {
   "cell_type": "code",
   "execution_count": 156,
   "metadata": {
    "collapsed": false
   },
   "outputs": [
    {
     "name": "stdout",
     "output_type": "stream",
     "text": [
      "0.17868304252624512\n"
     ]
    }
   ],
   "source": [
    "s1=time.time()\n",
    "f = open('workfile-backup.txt', 'w')\n",
    "g = open('workfile.txt','r')\n",
    "\n",
    "lines=g.readlines()\n",
    "for s in lines:\n",
    "    x=float(s)\n",
    "    if (x>20.0):\n",
    "        f.write(str(x)+'\\n')\n",
    "f.close()\n",
    "g.close()\n",
    "s2=time.time()\n",
    "print(s2-s1)"
   ]
  },
  {
   "cell_type": "code",
   "execution_count": 162,
   "metadata": {
    "collapsed": false
   },
   "outputs": [
    {
     "name": "stdout",
     "output_type": "stream",
     "text": [
      "0.16982293128967285\n"
     ]
    }
   ],
   "source": [
    "# This code uses executemany to write to the backup database... hopefully it is faster.\n",
    "!rm backup.db\n",
    "\n",
    "s1=time.time()\n",
    "connection_b = sqlite3.connect('backup.db')\n",
    "cursor_b = connection_b.cursor()\n",
    "cursor_b.execute(\"CREATE TABLE Pressure(reading real)\")\n",
    "\n",
    "connection = sqlite3.connect('original.db')\n",
    "cursor = connection.cursor()\n",
    "\n",
    "cursor.execute(\"SELECT reading FROM Pressure WHERE reading>20.0;\")\n",
    "result = cursor.fetchall()\n",
    "\n",
    "cursor_b.executemany(\"INSERT INTO Pressure values(?);\",result)\n",
    "\n",
    "cursor.close()\n",
    "connection.close()\n",
    "cursor_b.close()\n",
    "connection_b.commit() #saves changes (all those insertions)\n",
    "connection_b.close()\n",
    "s2=time.time()\n",
    "print(s2-s1)"
   ]
  },
  {
   "cell_type": "code",
   "execution_count": null,
   "metadata": {
    "collapsed": true
   },
   "outputs": [],
   "source": []
  }
 ],
 "metadata": {
  "anaconda-cloud": {},
  "kernelspec": {
   "display_name": "Python 3",
   "language": "python",
   "name": "python3"
  },
  "language_info": {
   "codemirror_mode": {
    "name": "ipython",
    "version": 3
   },
   "file_extension": ".py",
   "mimetype": "text/x-python",
   "name": "python",
   "nbconvert_exporter": "python",
   "pygments_lexer": "ipython3",
   "version": "3.5.2"
  }
 },
 "nbformat": 4,
 "nbformat_minor": 1
}
