{
 "cells": [
  {
   "cell_type": "markdown",
   "metadata": {
    "deletable": true,
    "editable": true
   },
   "source": [
    "<strong>What are regular expression?</strong>\n",
    "\n",
    "- A formal notation for describing text patterns and operations on those patters\n",
    "\n",
    "\n",
    "- Implemented as a part of many languages\n",
    "\n",
    "\n",
    "- Extremely powerful and express a wide class of sting manipulationa"
   ]
  },
  {
   "cell_type": "markdown",
   "metadata": {
    "deletable": true,
    "editable": true
   },
   "source": [
    "<strong>What are they used for?</strong>\n",
    "\n",
    "- Search and replace\n",
    "- Reforming one file format or layout to another \n",
    "- Confirming that strings have a required format\n",
    "- Parsing strings into tokens. \n",
    "- Example: username, hostname from email address\n",
    "- And many more"
   ]
  },
  {
   "cell_type": "markdown",
   "metadata": {
    "deletable": true,
    "editable": true
   },
   "source": [
    "<strong>Examples of patterns (highlighted is the matched string using pattern):</strong> \n",
    "\n",
    "- Match the string \"Hi, <strong>Hello</strong> World\"\n",
    "\n",
    "`hello`\n",
    "\n",
    "\n",
    "- Match the string \"<strong>Hello</strong>\" on a line by itself \n",
    "\n",
    "`^Hello$`\n",
    "\n",
    "\n",
    "- Match a number in a string \"This is number <strong>2</strong>\" \n",
    "\n",
    "`[0-9]`\n",
    "\n",
    "\n",
    "<strong>How can we apply regular expressions?</strong>\n",
    "\n",
    "- `find`\n",
    "- `grep`\n",
    "- `sed`\n",
    "- `awk`\n",
    "\n",
    "\n",
    "### Globally Finding Filenames with Patterns (`find`)\n",
    "\n",
    "`DATA` directory has files with extensions `.DAT` and `.dat`.\n",
    "\n",
    "How can we show only `.dat` files?\n"
   ]
  },
  {
   "cell_type": "code",
   "execution_count": 24,
   "metadata": {
    "collapsed": false,
    "deletable": true,
    "editable": true
   },
   "outputs": [
    {
     "name": "stdout",
     "output_type": "stream",
     "text": [
      "Icon?                 embryodis_c12_n1.dat  embryodis_c17_n1.dat\r\n",
      "\u001b[34mSIZE-1440\u001b[m\u001b[m/            embryodis_c13_n1.dat  embryodis_c18_n1.dat\r\n",
      "avg_embryo_dist.DAT   embryodis_c14_n1.dat  embryodis_c19_n1.dat\r\n",
      "embryodis_c10_n1.DAT  embryodis_c15_n1.dat\r\n",
      "embryodis_c11_n1.dat  embryodis_c16_n1.dat\r\n"
     ]
    }
   ],
   "source": [
    "# Lets check what is in DATA\n",
    "!ls -F DATA/\n"
   ]
  },
  {
   "cell_type": "code",
   "execution_count": 25,
   "metadata": {
    "collapsed": false,
    "deletable": true,
    "editable": true
   },
   "outputs": [
    {
     "name": "stdout",
     "output_type": "stream",
     "text": [
      "DATA/embryodis_c11_n1.dat DATA/embryodis_c14_n1.dat DATA/embryodis_c17_n1.dat\r\n",
      "DATA/embryodis_c12_n1.dat DATA/embryodis_c15_n1.dat DATA/embryodis_c18_n1.dat\r\n",
      "DATA/embryodis_c13_n1.dat DATA/embryodis_c16_n1.dat DATA/embryodis_c19_n1.dat\r\n"
     ]
    }
   ],
   "source": [
    "# At the command line -- use the wildcard (*)\n",
    "# List all files beginning with zero or more \n",
    "# of any character, followed by the .dat string.\n",
    "\n",
    "! ls DATA/*.dat"
   ]
  },
  {
   "cell_type": "code",
   "execution_count": 26,
   "metadata": {
    "collapsed": false,
    "deletable": true,
    "editable": true
   },
   "outputs": [
    {
     "name": "stdout",
     "output_type": "stream",
     "text": [
      "DATA/avg_embryo_dist.DAT  DATA/embryodis_c10_n1.DAT\r\n"
     ]
    }
   ],
   "source": [
    "# For .DAT files\n",
    "! ls DATA/*.DAT"
   ]
  },
  {
   "cell_type": "markdown",
   "metadata": {
    "deletable": true,
    "editable": true
   },
   "source": [
    "<strong>NOTE</strong>:\n",
    "`ls` does not show what is in the subdirectories"
   ]
  },
  {
   "cell_type": "markdown",
   "metadata": {
    "deletable": true,
    "editable": true
   },
   "source": [
    "### Globally Finding Filenames with Patterns (`find`)\n",
    "`find` command can recursively search a lot of directories at once. One option is to use it with regular expressions. The syntax is:\n",
    "```\n",
    "find [path] -regex \"<expression>\"\n",
    "```\n",
    "With this syntax, the top level of the search will be the indicated . `find` will begin at that location and recursively parse filenames using regular expressions (`-regex`). The expression for which it will seek matches is provided between the double quotes."
   ]
  },
  {
   "cell_type": "code",
   "execution_count": 33,
   "metadata": {
    "collapsed": false,
    "deletable": true,
    "editable": true
   },
   "outputs": [
    {
     "name": "stdout",
     "output_type": "stream",
     "text": [
      "DATA/embryodis_c11_n1.dat\r\n",
      "DATA/embryodis_c12_n1.dat\r\n",
      "DATA/embryodis_c13_n1.dat\r\n",
      "DATA/embryodis_c14_n1.dat\r\n",
      "DATA/embryodis_c15_n1.dat\r\n",
      "DATA/embryodis_c16_n1.dat\r\n",
      "DATA/embryodis_c17_n1.dat\r\n",
      "DATA/embryodis_c18_n1.dat\r\n",
      "DATA/embryodis_c19_n1.dat\r\n",
      "DATA/SIZE-1440/embryodis_n1.dat\r\n",
      "DATA/SIZE-1440/embryodis_n10.dat\r\n",
      "DATA/SIZE-1440/embryodis_n11.dat\r\n",
      "DATA/SIZE-1440/embryodis_n12.dat\r\n",
      "DATA/SIZE-1440/embryodis_n13.dat\r\n",
      "DATA/SIZE-1440/embryodis_n14.dat\r\n",
      "DATA/SIZE-1440/embryodis_n15.dat\r\n",
      "DATA/SIZE-1440/embryodis_n16.dat\r\n",
      "DATA/SIZE-1440/embryodis_n17.dat\r\n",
      "DATA/SIZE-1440/embryodis_n18.dat\r\n",
      "DATA/SIZE-1440/embryodis_n19.dat\r\n"
     ]
    }
   ],
   "source": [
    "# find .dat files\n",
    "! find DATA -regex \".*\\.dat\"\n",
    "# Note that it shoes all the files in DATA and \n",
    "# its subdirectory SIZE-1440 "
   ]
  },
  {
   "cell_type": "markdown",
   "metadata": {
    "deletable": true,
    "editable": true
   },
   "source": [
    "<strong>NOTE</strong>: While the wildcard is available on the command line, it doesn’t mean the same thing on the command line that it does in proper regular expression syntax. On the command line, .* means “one dot (.), then zero or more of any character.” In a regex, it means “zero or more of any character (.).”\n",
    "\n",
    "The dot character (`.`) is a metacharacter in proper regular expressions. For this reason, the backslash is used before the real dot in “.dat” to indicate it should be taken literally. \n",
    "\n",
    "- (`.`) Match any character\n",
    "- (`*`) Match zero or more preceding"
   ]
  },
  {
   "cell_type": "code",
   "execution_count": 34,
   "metadata": {
    "collapsed": false,
    "deletable": true,
    "editable": true
   },
   "outputs": [
    {
     "name": "stdout",
     "output_type": "stream",
     "text": [
      "DATA/avg_embryo_dist.DAT\r\n",
      "DATA/embryodis_c10_n1.DAT\r\n",
      "DATA/SIZE-1440/embryodis_n10 (1).DAT\r\n"
     ]
    }
   ],
   "source": [
    "# find .DAT files\n",
    "! find DATA -regex \".*\\.DAT\"\n",
    "# Note that it shoes all the files in DATA and \n",
    "# its subdirectory SIZE-1440 "
   ]
  },
  {
   "cell_type": "code",
   "execution_count": 1,
   "metadata": {
    "collapsed": false,
    "deletable": true,
    "editable": true
   },
   "outputs": [
    {
     "name": "stdout",
     "output_type": "stream",
     "text": [
      "DATA/SIZE-1440/embryodis_n1.dat\r\n",
      "DATA/SIZE-1440/embryodis_n10.dat\r\n",
      "DATA/SIZE-1440/embryodis_n11.dat\r\n",
      "DATA/SIZE-1440/embryodis_n12.dat\r\n",
      "DATA/SIZE-1440/embryodis_n13.dat\r\n",
      "DATA/SIZE-1440/embryodis_n14.dat\r\n",
      "DATA/SIZE-1440/embryodis_n15.dat\r\n",
      "DATA/SIZE-1440/embryodis_n16.dat\r\n",
      "DATA/SIZE-1440/embryodis_n17.dat\r\n",
      "DATA/SIZE-1440/embryodis_n18.dat\r\n",
      "DATA/SIZE-1440/embryodis_n19.dat\r\n"
     ]
    }
   ],
   "source": [
    "# find specific .dat files (Not all)\n",
    "# Say you want to show files start with embryodis_n \n",
    "\n",
    "! find DATA -regex \".*embryodis_n.*\\.dat\""
   ]
  },
  {
   "cell_type": "code",
   "execution_count": 3,
   "metadata": {
    "collapsed": false,
    "deletable": true,
    "editable": true
   },
   "outputs": [
    {
     "name": "stdout",
     "output_type": "stream",
     "text": [
      "DATA/SIZE-1440/embryodis_n1.dat\r\n",
      "DATA/SIZE-1440/embryodis_n10.DAT\r\n",
      "DATA/SIZE-1440/embryodis_n11.dat\r\n",
      "DATA/SIZE-1440/embryodis_n12.dat\r\n",
      "DATA/SIZE-1440/embryodis_n13.dat\r\n",
      "DATA/SIZE-1440/embryodis_n14.dat\r\n",
      "DATA/SIZE-1440/embryodis_n15.dat\r\n",
      "DATA/SIZE-1440/embryodis_n16.dat\r\n",
      "DATA/SIZE-1440/embryodis_n17.dat\r\n",
      "DATA/SIZE-1440/embryodis_n18.dat\r\n",
      "DATA/SIZE-1440/embryodis_n19.dat\r\n"
     ]
    }
   ],
   "source": [
    "# find all files start with embryodis_n and ends with either .dat or .DAT\n",
    "\n",
    "! find DATA -regex \".*embryodis_n.*\\.[Dd][Aa][Tt]\"\n",
    "\n",
    "# [Dd] means either D or d"
   ]
  },
  {
   "cell_type": "code",
   "execution_count": 8,
   "metadata": {
    "collapsed": false,
    "deletable": true,
    "editable": true
   },
   "outputs": [
    {
     "name": "stdout",
     "output_type": "stream",
     "text": [
      "DATA/SIZE-1440/embryodis_n13.dat\r\n",
      "DATA/SIZE-1440/embryodis_n14.dat\r\n",
      "DATA/SIZE-1440/embryodis_n15.dat\r\n",
      "DATA/SIZE-1440/embryodis_n16.dat\r\n",
      "DATA/SIZE-1440/embryodis_n17.dat\r\n"
     ]
    }
   ],
   "source": [
    "# find all files start with embryodis_n and ends with either .dat or .DAT\n",
    "# and the number in the filename in the range 13-17\n",
    "# Note that the second digit (1) in 13 and 17 is common \n",
    "\n",
    "! find DATA -regex \".*embryodis_n1[3-7]\\.[Dd][Aa][Tt]\"\n",
    "\n",
    "# [3-7] means the rangr from 3 to 7"
   ]
  },
  {
   "cell_type": "code",
   "execution_count": 95,
   "metadata": {
    "collapsed": false,
    "deletable": true,
    "editable": true
   },
   "outputs": [
    {
     "name": "stdout",
     "output_type": "stream",
     "text": [
      "./DATA/SIZE-1440/embryodis_n13.dat\r\n",
      "./DATA/SIZE-1440/embryodis_n17.dat\r\n"
     ]
    }
   ],
   "source": [
    "# find all files start with embryodis_n and ends with either .dat or .DAT\n",
    "# and the number in the filename is either 13 or 17\n",
    "# Note that the second digit (1) in 13 and 17 is common \n",
    "\n",
    "!find . -regex \".*.embryodis_n1[3,7]\\.[a-zA-Z].*\""
   ]
  },
  {
   "cell_type": "markdown",
   "metadata": {
    "deletable": true,
    "editable": true
   },
   "source": [
    "### `grep`, `sed`, and `awk`\n",
    "\n",
    "`grep`, `sed`, and `awk` are a family of tools that use regular expressions and are available on the command line. They each have different capabilities:\n",
    "\n",
    "The `grep` command has the basic syntax `grep` . `grep` grabs matched patterns and prints them.\n",
    "The `sed` command has the basic syntax sed `\"s///\"` . Sed combines grep with a substitution command.\n",
    "The `awk` command has the basic syntax `awk pattern [action]`. `awk` handles columns."
   ]
  },
  {
   "cell_type": "markdown",
   "metadata": {
    "deletable": true,
    "editable": true
   },
   "source": [
    "#### Finding Patterns in Files (`grep`)\n",
    "\n",
    "`grep` searches, globally, for regular expressions inside files, based on their content. For example, assume you want to see which of the ipynb files talks about sed, then you type:"
   ]
  },
  {
   "cell_type": "markdown",
   "metadata": {
    "deletable": true,
    "editable": true
   },
   "source": [
    "## Example"
   ]
  },
  {
   "cell_type": "code",
   "execution_count": 24,
   "metadata": {
    "collapsed": false,
    "deletable": true,
    "editable": true
   },
   "outputs": [
    {
     "name": "stdout",
     "output_type": "stream",
     "text": [
      "Hi\r\n",
      "\r\n",
      "Hello World\r\n",
      "\r\n",
      "May 16, 2017\r\n",
      "\r\n",
      "20:36:17\r\n"
     ]
    }
   ],
   "source": [
    "! cat DATA/regexp.dat"
   ]
  },
  {
   "cell_type": "code",
   "execution_count": 25,
   "metadata": {
    "collapsed": false,
    "deletable": true,
    "editable": true
   },
   "outputs": [
    {
     "name": "stdout",
     "output_type": "stream",
     "text": [
      "Hi\r\n"
     ]
    }
   ],
   "source": [
    "! grep \"Hi\" DATA/regexp.dat"
   ]
  },
  {
   "cell_type": "code",
   "execution_count": 26,
   "metadata": {
    "collapsed": false,
    "deletable": true,
    "editable": true
   },
   "outputs": [
    {
     "name": "stdout",
     "output_type": "stream",
     "text": [
      "Hello World\r\n"
     ]
    }
   ],
   "source": [
    "! grep \"Hello\" DATA/regexp.dat"
   ]
  },
  {
   "cell_type": "code",
   "execution_count": 27,
   "metadata": {
    "collapsed": false,
    "deletable": true,
    "editable": true
   },
   "outputs": [
    {
     "name": "stdout",
     "output_type": "stream",
     "text": [
      "May 16, 2017\r\n",
      "20:36:17\r\n"
     ]
    }
   ],
   "source": [
    "# Use regexp using pattern\n",
    "# grep line that contains a number\n",
    "! grep \".*[0-9].*\" DATA/regexp.dat"
   ]
  },
  {
   "cell_type": "code",
   "execution_count": 28,
   "metadata": {
    "collapsed": false,
    "deletable": true,
    "editable": true
   },
   "outputs": [
    {
     "name": "stdout",
     "output_type": "stream",
     "text": [
      "20:36:17\r\n"
     ]
    }
   ],
   "source": [
    "# Use regexp using pattern\n",
    "# grep line that starts a number \n",
    "! grep \"^[0-9].*\" DATA/regexp.dat"
   ]
  },
  {
   "cell_type": "markdown",
   "metadata": {
    "deletable": true,
    "editable": true
   },
   "source": [
    "## Anothe Example"
   ]
  },
  {
   "cell_type": "code",
   "execution_count": 38,
   "metadata": {
    "collapsed": false,
    "deletable": true,
    "editable": true
   },
   "outputs": [
    {
     "name": "stdout",
     "output_type": "stream",
     "text": [
      "390/234/3128 Tel\r\n",
      "343-344-2425\r\n",
      "342.234.4543\r\n",
      "phone: 442.234.4543\r\n"
     ]
    }
   ],
   "source": [
    "! cat DATA/phone.txt"
   ]
  },
  {
   "cell_type": "code",
   "execution_count": 39,
   "metadata": {
    "collapsed": false,
    "deletable": true,
    "editable": true
   },
   "outputs": [
    {
     "name": "stdout",
     "output_type": "stream",
     "text": [
      "342.234.4543\r\n",
      "phone: 442.234.4543\r\n"
     ]
    }
   ],
   "source": [
    "# grep the lines that contains the character (.) \n",
    "! grep \"\\.\" DATA/phone.txt"
   ]
  },
  {
   "cell_type": "code",
   "execution_count": 40,
   "metadata": {
    "collapsed": false,
    "deletable": true,
    "editable": true
   },
   "outputs": [
    {
     "name": "stdout",
     "output_type": "stream",
     "text": [
      "390/234/3128 Tel\r\n",
      "phone: 442.234.4543\r\n"
     ]
    }
   ],
   "source": [
    "# grep the lines that contains letters\n",
    "! grep \"[a-z]\" DATA/phone.txt"
   ]
  },
  {
   "cell_type": "code",
   "execution_count": 42,
   "metadata": {
    "collapsed": false,
    "deletable": true,
    "editable": true
   },
   "outputs": [
    {
     "name": "stdout",
     "output_type": "stream",
     "text": [
      "phone: 442.234.4543\r\n"
     ]
    }
   ],
   "source": [
    "# grep the lines that starts with letters\n",
    "! grep \"^[a-z]\" DATA/phone.txt"
   ]
  },
  {
   "cell_type": "code",
   "execution_count": 43,
   "metadata": {
    "collapsed": false,
    "deletable": true,
    "editable": true
   },
   "outputs": [
    {
     "name": "stdout",
     "output_type": "stream",
     "text": [
      "390/234/3128 Tel\r\n"
     ]
    }
   ],
   "source": [
    "# grep the lines that ends with letters\n",
    "! grep \"[a-z]$\" DATA/phone.txt"
   ]
  },
  {
   "cell_type": "markdown",
   "metadata": {
    "deletable": true,
    "editable": true
   },
   "source": [
    "### Finding and Replacing a Complex Pattern\n",
    "\n",
    "Since, sometimes, you’ll need to reuse part of the pattern you matched, `sed` has syntax to hold the match in memory. It uses parentheses. Specifically, the following syntax matches x and remembers the match:\n",
    "\n",
    "```\n",
    "\\(x\\)\n",
    "```\n"
   ]
  },
  {
   "cell_type": "markdown",
   "metadata": {
    "deletable": true,
    "editable": true
   },
   "source": [
    "## Example :"
   ]
  },
  {
   "cell_type": "code",
   "execution_count": 49,
   "metadata": {
    "collapsed": false,
    "deletable": true,
    "editable": true
   },
   "outputs": [
    {
     "name": "stdout",
     "output_type": "stream",
     "text": [
      "HI\r\n",
      "\r\n",
      "Hello World\r\n",
      "\r\n",
      "May 16, 2017\r\n",
      "\r\n",
      "20:36:17\r\n"
     ]
    }
   ],
   "source": [
    "# Replace Hi with HI in DATA/regexp.dat file\n",
    "# syntax is \"s/pattern/replace/g\"\n",
    "\n",
    "! sed \"s/Hi/HI/g\" DATA/regexp.dat\n",
    "\n",
    "# Note that sed does not change the original file \n",
    "# unless you asked with the flag -i"
   ]
  },
  {
   "cell_type": "code",
   "execution_count": 54,
   "metadata": {
    "collapsed": false,
    "deletable": true,
    "editable": true
   },
   "outputs": [
    {
     "name": "stdout",
     "output_type": "stream",
     "text": [
      "Hi\r\n",
      "\r\n",
      "Hello World\r\n",
      "\r\n",
      "May 16, 2017\r\n",
      "\r\n",
      "Date: 20:36:17\r\n"
     ]
    }
   ],
   "source": [
    "# Replace last line by Date: ... in DATA/regexp.dat file\n",
    "# syntax is \"s/pattern/replace/g\"\n",
    "\n",
    "! sed \"s/\\([0-9][0-9]:[0-9][0-9]:[0-9][0-9]\\)/Date: \\1/g\" DATA/regexp.dat\n"
   ]
  },
  {
   "cell_type": "code",
   "execution_count": 55,
   "metadata": {
    "collapsed": false,
    "deletable": true,
    "editable": true
   },
   "outputs": [
    {
     "name": "stdout",
     "output_type": "stream",
     "text": [
      "Hi\r\n",
      "\r\n",
      "Hello World\r\n",
      "\r\n",
      "May 16, 2017\r\n",
      "\r\n",
      "Date: 20:36:17\r\n"
     ]
    }
   ],
   "source": [
    "# OR\n",
    "\n",
    "! sed \"s/\\([0-9]\\{2\\}:[0-9]\\{2\\}:[0-9]\\{2\\}\\)/Date: \\1/g\" DATA/regexp.dat\n"
   ]
  },
  {
   "cell_type": "code",
   "execution_count": 89,
   "metadata": {
    "collapsed": false,
    "deletable": true,
    "editable": true
   },
   "outputs": [
    {
     "name": "stdout",
     "output_type": "stream",
     "text": [
      "Hi\r\n",
      "\r\n",
      "Hello World\r\n",
      "\r\n",
      "Day: 16 Moth: May Year: 2017\r\n",
      "\r\n",
      "20:36:17\r\n"
     ]
    }
   ],
   "source": [
    "# Replace May 16, 2017 by\n",
    "# Day: 16 Month: May Year: 2017\n",
    "\n",
    "! sed \"s/\\([a-zA-Z]\\{3\\}\\)\\ \\([0-9]\\{2\\}\\).*\\([0-9]\\{4\\}\\)/Day: \\2 Moth: \\1 Year: \\3/g\" DATA/regexp.dat\n"
   ]
  },
  {
   "cell_type": "markdown",
   "metadata": {
    "deletable": true,
    "editable": true
   },
   "source": [
    "## Another Example (DATA/dates.dat): "
   ]
  },
  {
   "cell_type": "code",
   "execution_count": 90,
   "metadata": {
    "collapsed": false,
    "deletable": true,
    "editable": true
   },
   "outputs": [
    {
     "name": "stdout",
     "output_type": "stream",
     "text": [
      "2014-05-01\r\n",
      "2014-09-10\r\n",
      "2015-10-30\r\n",
      "2014.06.24\r\n",
      "2014/09/23\r\n",
      "2010/12/29\r\n",
      "2009/10/05\r\n"
     ]
    }
   ],
   "source": [
    "# cat the file DATA/dates.dat\n",
    "! cat DATA/dates.dat\n",
    "# Note that the date format is different from line to line"
   ]
  },
  {
   "cell_type": "code",
   "execution_count": 92,
   "metadata": {
    "collapsed": false,
    "deletable": true,
    "editable": true
   },
   "outputs": [
    {
     "name": "stdout",
     "output_type": "stream",
     "text": [
      "2014-05-01\r\n",
      "2014-09-10\r\n",
      "2015-10-30\r\n",
      "2014-06-24\r\n",
      "2014-09-23\r\n",
      "2010-12-29\r\n",
      "2009-10-05\r\n"
     ]
    }
   ],
   "source": [
    "# we want to have year-month-day format\n",
    "# First we have to match all the dates with\n",
    "\n",
    "# syntax is \"s/pattern/replace/g\"\n",
    "\n",
    "! sed \"s/\\(20[01][0-9]\\).*\\([0-9][0-9]\\).*\\([0-9][0-9]\\)/\\1-\\2-\\3/g\" DATA/dates.dat"
   ]
  },
  {
   "cell_type": "markdown",
   "metadata": {
    "deletable": true,
    "editable": true
   },
   "source": [
    "### sed Extras\n",
    "With `sed`, we can use the `d` character to delete all blank lines in the file:\n",
    "\n",
    "## Example ( DATA/regexp.dat file ):"
   ]
  },
  {
   "cell_type": "code",
   "execution_count": 96,
   "metadata": {
    "collapsed": false,
    "deletable": true,
    "editable": true
   },
   "outputs": [
    {
     "name": "stdout",
     "output_type": "stream",
     "text": [
      "Hi\r\n",
      "\r\n",
      "Hello World\r\n",
      "\r\n",
      "May 16, 2017\r\n",
      "\r\n",
      "20:36:17\r\n"
     ]
    }
   ],
   "source": [
    "! cat DATA/regexp.dat"
   ]
  },
  {
   "cell_type": "code",
   "execution_count": 99,
   "metadata": {
    "collapsed": false,
    "deletable": true,
    "editable": true
   },
   "outputs": [
    {
     "name": "stdout",
     "output_type": "stream",
     "text": [
      "Hi\r\n",
      "Hello World\r\n",
      "May 16, 2017\r\n",
      "20:36:17\r\n"
     ]
    }
   ],
   "source": [
    "# delete empty lines\n",
    "! sed '/^$/d' DATA/regexp.dat"
   ]
  },
  {
   "cell_type": "code",
   "execution_count": 102,
   "metadata": {
    "collapsed": false,
    "deletable": true,
    "editable": true,
    "scrolled": true
   },
   "outputs": [
    {
     "name": "stdout",
     "output_type": "stream",
     "text": [
      "Hi\r\n",
      "HELLO World\r\n",
      "May 16, 2017\r\n",
      "20:36:17\r\n"
     ]
    }
   ],
   "source": [
    "# delete empty lines and replace Hello with HELLO \n",
    "# use -e flag\n",
    "! sed -e '/^$/d' -e 's/Hello/HELLO/' DATA/regexp.dat"
   ]
  },
  {
   "cell_type": "markdown",
   "metadata": {
    "deletable": true,
    "editable": true
   },
   "source": [
    "## Another Example ( DATA/phone.txt ):"
   ]
  },
  {
   "cell_type": "code",
   "execution_count": 103,
   "metadata": {
    "collapsed": false,
    "deletable": true,
    "editable": true
   },
   "outputs": [
    {
     "name": "stdout",
     "output_type": "stream",
     "text": [
      "390/234/3128 Tel\r\n",
      "343-344-2425\r\n",
      "342.234.4543\r\n",
      "phone: 442.234.4543\r\n"
     ]
    }
   ],
   "source": [
    "# cat DATA/phone.txt\n",
    "! cat DATA/phone.txt"
   ]
  },
  {
   "cell_type": "code",
   "execution_count": 106,
   "metadata": {
    "collapsed": false,
    "deletable": true,
    "editable": true
   },
   "outputs": [
    {
     "name": "stdout",
     "output_type": "stream",
     "text": [
      "+1(390)234-3128\r\n",
      "+1(343)344-2425\r\n",
      "+1(342)234-4543\r\n",
      "+1(442)234-4543\r\n"
     ]
    }
   ],
   "source": [
    "# reformat to +1(???)???-????\n",
    "! sed 's/.*\\([0-9]\\{3\\}\\).*\\([0-9]\\{3\\}\\).*\\([0-9]\\{4\\}\\).*/\\+1(\\1\\)\\2-\\3/' DATA/phone.txt"
   ]
  },
  {
   "cell_type": "markdown",
   "metadata": {
    "deletable": true,
    "editable": true
   },
   "source": [
    "### Manipulating Columns of Data (awk)\n",
    "\n",
    "A lot of data in physics begins in a simple format: columns of numbers in plain-text documents. Fortunately for us, a command-line tool called `awk` was invented long ago to quickly and efficiently sort, modify, and evaluate such files. This tool, a sibling to sed and grep, uses regular expressions to get the job done.\n",
    "\n",
    "As an introductory example, we can investigate the files in the filesystem. On a Linux platform, a list of colors available to the system is found in the /usr/share/X11 directory. On a Unix (Mac OS X) platform, it is made available in /usr/X11/share/X11."
   ]
  },
  {
   "cell_type": "code",
   "execution_count": 111,
   "metadata": {
    "collapsed": false,
    "deletable": true,
    "editable": true
   },
   "outputs": [
    {
     "name": "stdout",
     "output_type": "stream",
     "text": [
      "255 250 250\t\tsnow\r\n",
      "248 248 255\t\tghost white\r\n",
      "248 248 255\t\tGhostWhite\r\n",
      "245 245 245\t\twhite smoke\r\n",
      "245 245 245\t\tWhiteSmoke\r\n",
      "220 220 220\t\tgainsboro\r\n",
      "255 250 240\t\tfloral white\r\n",
      "255 250 240\t\tFloralWhite\r\n",
      "253 245 230\t\told lace\r\n",
      "253 245 230\t\tOldLace\r\n"
     ]
    }
   ],
   "source": [
    "# The file is very long, so we will show only the first 10 lines\n",
    "!cat /usr/X11/share/X11/rgb.txt | head"
   ]
  },
  {
   "cell_type": "code",
   "execution_count": 113,
   "metadata": {
    "collapsed": false,
    "deletable": true,
    "editable": true
   },
   "outputs": [
    {
     "name": "stdout",
     "output_type": "stream",
     "text": [
      "253 245 230\t\tOldLace\r\n"
     ]
    }
   ],
   "source": [
    "# grep OldLace color\n",
    "# syntax: awk '/pattern/' file\n",
    "!awk '/OldLace/' /usr/X11/share/X11/rgb.txt"
   ]
  },
  {
   "cell_type": "code",
   "execution_count": 115,
   "metadata": {
    "collapsed": false,
    "deletable": true,
    "editable": true
   },
   "outputs": [
    {
     "name": "stdout",
     "output_type": "stream",
     "text": [
      "112 128 144\t\tslate gray\r\n",
      "112 128 144\t\tSlateGray\r\n",
      "112 128 144\t\tslate grey\r\n",
      "112 128 144\t\tSlateGrey\r\n",
      " 30 144 255\t\tdodger blue\r\n",
      " 30 144 255\t\tDodgerBlue\r\n",
      "208  32 144\t\tviolet red\r\n",
      "208  32 144\t\tVioletRed\r\n",
      " 30 144 255\t\tDodgerBlue1\r\n",
      "144 238 144\t\tPaleGreen2\r\n",
      "205  96 144\t\tHotPink3\r\n",
      "205  41 144\t\tmaroon3\r\n",
      "144 238 144\t\tlight green\r\n",
      "144 238 144\t\tLightGreen\r\n"
     ]
    }
   ],
   "source": [
    "# grep the number set 144\n",
    "!awk '/144/' /usr/X11/share/X11/rgb.txt\n",
    "# Note that 144 here could be in the beginning, middle, or end."
   ]
  },
  {
   "cell_type": "code",
   "execution_count": 116,
   "metadata": {
    "collapsed": false,
    "deletable": true,
    "editable": true
   },
   "outputs": [
    {
     "name": "stdout",
     "output_type": "stream",
     "text": [
      "144 238 144\t\tPaleGreen2\r\n",
      "144 238 144\t\tlight green\r\n",
      "144 238 144\t\tLightGreen\r\n"
     ]
    }
   ],
   "source": [
    "# How about if we want the colors that start with 144\n",
    "!awk '/^144/' /usr/X11/share/X11/rgb.txt"
   ]
  },
  {
   "cell_type": "code",
   "execution_count": 120,
   "metadata": {
    "collapsed": false,
    "deletable": true,
    "editable": true
   },
   "outputs": [
    {
     "name": "stdout",
     "output_type": "stream",
     "text": [
      " 30 144 255\t\tdodger blue\r\n",
      " 30 144 255\t\tDodgerBlue\r\n",
      " 30 144 255\t\tDodgerBlue1\r\n"
     ]
    }
   ],
   "source": [
    "# the middle set is 144\n",
    "!awk '/^.*\\ 144\\\\t.*/' /usr/X11/share/X11/rgb.txt"
   ]
  },
  {
   "cell_type": "code",
   "execution_count": 126,
   "metadata": {
    "collapsed": false,
    "deletable": true,
    "editable": true
   },
   "outputs": [
    {
     "name": "stdout",
     "output_type": "stream",
     "text": [
      "112 128 144\t\tslate gray\r\n",
      "112 128 144\t\tSlateGray\r\n",
      "112 128 144\t\tslate grey\r\n",
      "112 128 144\t\tSlateGrey\r\n",
      "208  32 144\t\tviolet red\r\n",
      "208  32 144\t\tVioletRed\r\n",
      "144 238 144\t\tPaleGreen2\r\n",
      "205  96 144\t\tHotPink3\r\n",
      "205  41 144\t\tmaroon3\r\n",
      "144 238 144\t\tlight green\r\n",
      "144 238 144\t\tLightGreen\r\n"
     ]
    }
   ],
   "source": [
    "!awk '/^.+ +.+144/' /usr/X11/share/X11/rgb.txt"
   ]
  },
  {
   "cell_type": "markdown",
   "metadata": {
    "deletable": true,
    "editable": true
   },
   "source": [
    "### Actions \n",
    "In addition to just replicating some of `grep`’s capabilities, `awk` can add an action. However, it can only do actions on a column-wise basis. Note that dollar signs ($) indicate columns:"
   ]
  },
  {
   "cell_type": "code",
   "execution_count": 135,
   "metadata": {
    "collapsed": false,
    "deletable": true,
    "editable": true
   },
   "outputs": [],
   "source": [
    "# print the three number sets for all colors \n",
    "#awk '{print $1$2$3}' /usr/X11/share/X11/rgb.txt"
   ]
  },
  {
   "cell_type": "code",
   "execution_count": 136,
   "metadata": {
    "collapsed": false,
    "deletable": true,
    "editable": true
   },
   "outputs": [
    {
     "name": "stdout",
     "output_type": "stream",
     "text": [
      "112128144\r\n",
      "112128144\r\n",
      "112128144\r\n",
      "112128144\r\n",
      "112112112\r\n",
      "112112112\r\n"
     ]
    }
   ],
   "source": [
    "# For colors with 112, print out the three numbers sets \n",
    "# without space\n",
    "! awk '/^112/{print $1$2$3}' /usr/X11/share/X11/rgb.txt"
   ]
  },
  {
   "cell_type": "code",
   "execution_count": 137,
   "metadata": {
    "collapsed": false,
    "deletable": true,
    "editable": true
   },
   "outputs": [
    {
     "name": "stdout",
     "output_type": "stream",
     "text": [
      "112 128 144\r\n",
      "112 128 144\r\n",
      "112 128 144\r\n",
      "112 128 144\r\n",
      "112 112 112\r\n",
      "112 112 112\r\n"
     ]
    }
   ],
   "source": [
    "# For lines start with 112, print out the three numbers sets \n",
    "# with space (use ,)\n",
    "! awk '/^112/{print $1, $2, $3}' /usr/X11/share/X11/rgb.txt\n"
   ]
  },
  {
   "cell_type": "code",
   "execution_count": 138,
   "metadata": {
    "collapsed": false,
    "deletable": true,
    "editable": true
   },
   "outputs": [
    {
     "name": "stdout",
     "output_type": "stream",
     "text": [
      "250240230 \t linen\r\n"
     ]
    }
   ],
   "source": [
    "# Or we can modify just one line:\n",
    "# \"\\t\" is for tab\n",
    "!awk NR==11'{print $1 $2 $3,\"\\t\",$4}' /usr/X11/share/X11/rgb.txt"
   ]
  },
  {
   "cell_type": "code",
   "execution_count": 139,
   "metadata": {
    "collapsed": false,
    "deletable": true,
    "editable": true
   },
   "outputs": [
    {
     "name": "stdout",
     "output_type": "stream",
     "text": [
      "250 + 240 + 230 = 720\r\n"
     ]
    }
   ],
   "source": [
    "# And finally, we can do math with awk:\n",
    "!awk NR==11'{print $1,\"+\",$2,\"+\",$3,\"=\",$1+$2+$3}' /usr/X11/share/X11/rgb.txt"
   ]
  },
  {
   "cell_type": "markdown",
   "metadata": {
    "deletable": true,
    "editable": true
   },
   "source": [
    "## Python Regular Expressions\n",
    "Everything we’ve seen how to do so far in this chapter is also possible in Python. Alternatives to all of these tools exist in the Python regular expression module `re`, which comes as part of the Python standard library. The `re` module allows Python-flavored regular expression pattern matching.\n",
    "\n",
    "`grep`’s capabilities can be replaced with:\n",
    "\n",
    "- `re.match(pattern, string)` to match a regular expression pattern to the beginning of a string\n",
    "- `re.search(pattern, string)` to search a string for the presence of a pattern\n",
    "- `re.findall( pattern, string*)` to find all occurrences of a pattern in a string\n",
    "\n",
    "Similarly, the capabilities of sed can be replaced with:\n",
    "\n",
    "- `re.sub(pattern, replacement, string)` to substitute all occurrences of a pattern found in a string\n",
    "- `re.subn(pattern, replacement, string)` to substitute all occurrences of a pattern found in a string and return the number of substitutions made\n",
    "\n",
    "The `re` model provides a few more powerful utilities as well.\n",
    "\n",
    "- `re.split(pattern, string)` splits a string by the occurrences of a pattern.\n",
    "- `re.finditer(pattern, string)` returns an iterator yielding a match object for each match.\n",
    "- `re.compile(pattern)` precompiles a regex for faster matches.\n",
    "\n",
    "In all of these functions, if a match to a regular expression is not found, then `None` is returned. If a match is found, then a special `MatchObject` is returned.\n",
    "\n",
    "`MatchObjects` have methods and attributes that allow you to determine the position in the string of the match, the original regular expression pattern, and the values captured by any parentheses with the `MatchObject.groups()` method.\n",
    "\n",
    "Let’s try to match a date regular expression to some actual dates:"
   ]
  },
  {
   "cell_type": "code",
   "execution_count": 140,
   "metadata": {
    "collapsed": true,
    "deletable": true,
    "editable": true
   },
   "outputs": [],
   "source": [
    "# First, import the regular expression module.\n",
    "import re"
   ]
  },
  {
   "cell_type": "code",
   "execution_count": 141,
   "metadata": {
    "collapsed": true,
    "deletable": true,
    "editable": true
   },
   "outputs": [],
   "source": [
    "# First, import the regular expression module.\n",
    "import re"
   ]
  },
  {
   "cell_type": "code",
   "execution_count": 142,
   "metadata": {
    "collapsed": false,
    "deletable": true,
    "editable": true
   },
   "outputs": [
    {
     "data": {
      "text/plain": [
       "<_sre.SRE_Match object; span=(0, 10), match='2015-12-16'>"
      ]
     },
     "execution_count": 142,
     "metadata": {},
     "output_type": "execute_result"
    }
   ],
   "source": [
    "# The string matches the pattern, so a match is returned.\n",
    "re.match(\"20[01][0-9].*[0-9][0-9].*[0-9][0-9]\", '2015-12-16')"
   ]
  },
  {
   "cell_type": "code",
   "execution_count": 143,
   "metadata": {
    "collapsed": false,
    "deletable": true,
    "editable": true
   },
   "outputs": [
    {
     "name": "stdout",
     "output_type": "stream",
     "text": [
      "<_sre.SRE_Match object; span=(0, 10), match='2015-12-16'>\n"
     ]
    }
   ],
   "source": [
    "# Assign the match to a variable name for later use\n",
    "m = re.match(\"20[01][0-9].*[0-9][0-9].*[0-9][0-9]\", '2015-12-16')\n",
    "print(m)"
   ]
  },
  {
   "cell_type": "code",
   "execution_count": 144,
   "metadata": {
    "collapsed": false,
    "deletable": true,
    "editable": true
   },
   "outputs": [
    {
     "data": {
      "text/plain": [
       "0"
      ]
     },
     "execution_count": 144,
     "metadata": {},
     "output_type": "execute_result"
    }
   ],
   "source": [
    "# Find the index in the string of the start of the match.\n",
    "m.pos"
   ]
  },
  {
   "cell_type": "code",
   "execution_count": 146,
   "metadata": {
    "collapsed": true,
    "deletable": true,
    "editable": true
   },
   "outputs": [],
   "source": [
    "# Try to match the date pattern against something that is not a date.\n",
    "m = re.match(\"20[01][0-9].*[0-9][0-9].*[0-9][0-9]\", 'not-a-date')"
   ]
  },
  {
   "cell_type": "code",
   "execution_count": 147,
   "metadata": {
    "collapsed": false,
    "deletable": true,
    "editable": true
   },
   "outputs": [
    {
     "data": {
      "text/plain": [
       "True"
      ]
     },
     "execution_count": 147,
     "metadata": {},
     "output_type": "execute_result"
    }
   ],
   "source": [
    "# Note how None is returned when the match fails.\n",
    "m is None"
   ]
  },
  {
   "cell_type": "markdown",
   "metadata": {
    "deletable": true,
    "editable": true
   },
   "source": [
    "### The compile() method\n",
    "\n",
    "To speed up matching multiple strings against a common pattern, it is always a good\n",
    "idea to compile() the pattern. Compiling takes much longer than matching. However,\n",
    "once you have a compiled pattern, all of the same functions are available as methods\n",
    "of the pattern. Since the pattern is already known, you don’t need to pass it in when\n",
    "you call match() or search() or the other methods. Let’s compile a version of the date\n",
    "regular expression that has capturing parentheses around the actual date values:"
   ]
  },
  {
   "cell_type": "code",
   "execution_count": 149,
   "metadata": {
    "collapsed": true,
    "deletable": true,
    "editable": true
   },
   "outputs": [],
   "source": [
    "# Compile the regular expression and store it as the re_date variable.\n",
    "re_date = re.compile(\"(20[01][0-9]).*([0-9][0-9]).*([0-9][0-9])\")"
   ]
  },
  {
   "cell_type": "code",
   "execution_count": 150,
   "metadata": {
    "collapsed": false,
    "deletable": true,
    "editable": true
   },
   "outputs": [
    {
     "data": {
      "text/plain": [
       "<_sre.SRE_Match object; span=(0, 10), match='2014-28-01'>"
      ]
     },
     "execution_count": 150,
     "metadata": {},
     "output_type": "execute_result"
    }
   ],
   "source": [
    "# Use this variable to match against a string.\n",
    "re_date.match('2014-28-01')"
   ]
  },
  {
   "cell_type": "code",
   "execution_count": 151,
   "metadata": {
    "collapsed": true,
    "deletable": true,
    "editable": true
   },
   "outputs": [],
   "source": [
    "# Assign the match to a variable m for later use.\n",
    "m = re_date.match('2014-28-01')"
   ]
  },
  {
   "cell_type": "code",
   "execution_count": 152,
   "metadata": {
    "collapsed": false,
    "deletable": true,
    "editable": true
   },
   "outputs": [
    {
     "data": {
      "text/plain": [
       "('2014', '28', '01')"
      ]
     },
     "execution_count": 152,
     "metadata": {},
     "output_type": "execute_result"
    }
   ],
   "source": [
    "# Since the regular expression uses capturing parentheses, you can obtain the values\n",
    "# within them using the groups() method. A tuple that has the same length as\n",
    "# the number of capturing parentheses is returned.\n",
    "m.groups()"
   ]
  },
  {
   "cell_type": "code",
   "execution_count": null,
   "metadata": {
    "collapsed": true,
    "deletable": true,
    "editable": true
   },
   "outputs": [],
   "source": []
  }
 ],
 "metadata": {
  "kernelspec": {
   "display_name": "Python 2",
   "language": "python",
   "name": "python2"
  },
  "language_info": {
   "codemirror_mode": {
    "name": "ipython",
    "version": 2
   },
   "file_extension": ".py",
   "mimetype": "text/x-python",
   "name": "python",
   "nbconvert_exporter": "python",
   "pygments_lexer": "ipython2",
   "version": "2.7.13"
  }
 },
 "nbformat": 4,
 "nbformat_minor": 2
}
