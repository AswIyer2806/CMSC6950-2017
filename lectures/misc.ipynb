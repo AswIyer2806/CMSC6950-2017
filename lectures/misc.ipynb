{
 "cells": [
  {
   "cell_type": "markdown",
   "metadata": {
    "collapsed": true
   },
   "source": [
    "# Animations with Python"
   ]
  },
  {
   "cell_type": "markdown",
   "metadata": {},
   "source": [
    "It would be nice if we could make the same kinds of animations with Python in the Jupyter Notebook as we saw with gnuplot.  Let's start with a plot of sin(x)."
   ]
  },
  {
   "cell_type": "code",
   "execution_count": null,
   "metadata": {
    "collapsed": false
   },
   "outputs": [],
   "source": [
    "import numpy as np\n",
    "import matplotlib.pyplot as plt\n",
    "\n",
    "x=np.linspace(0,10,200)\n",
    "y=np.sin(x)"
   ]
  },
  {
   "cell_type": "code",
   "execution_count": null,
   "metadata": {
    "collapsed": false
   },
   "outputs": [],
   "source": [
    "plt.plot(x,y)\n",
    "\n",
    "plt.xlabel('x')\n",
    "plt.ylabel('Sin(x)')\n",
    "plt.title('Graph of sin(x)')\n",
    "plt.grid(False)\n",
    "plt.show()\n",
    "# plt.savefig(\"test.png\")"
   ]
  },
  {
   "cell_type": "markdown",
   "metadata": {},
   "source": [
    "Now let's throw in time."
   ]
  },
  {
   "cell_type": "code",
   "execution_count": null,
   "metadata": {
    "collapsed": true
   },
   "outputs": [],
   "source": [
    "import time"
   ]
  },
  {
   "cell_type": "code",
   "execution_count": null,
   "metadata": {
    "collapsed": false
   },
   "outputs": [],
   "source": [
    "top=5;\n",
    "for t in range(1,top+1):\n",
    "    x=np.linspace(0,10,200)\n",
    "    y=np.sin(x-t*6.28/top)\n",
    "    plt.plot(x,y)\n",
    "\n",
    "    plt.xlabel('x')\n",
    "    plt.ylabel('Sin(x)')\n",
    "    plt.title('Graph of sin(x)')\n",
    "    plt.grid(False)\n",
    "    plt.show()\n",
    "    \n",
    "    time.sleep(0.2)"
   ]
  },
  {
   "cell_type": "markdown",
   "metadata": {},
   "source": [
    "This is fine if we want to save the plots separately as graphics files and then use ffmpeg"
   ]
  },
  {
   "cell_type": "code",
   "execution_count": null,
   "metadata": {
    "collapsed": false
   },
   "outputs": [],
   "source": [
    "top=5;\n",
    "for t in range(1,top+1):\n",
    "    x=np.linspace(0,10,200)\n",
    "    y=np.sin(x-t*6.28/top)\n",
    "    plt.plot(x,y)\n",
    "\n",
    "    plt.xlabel('x')\n",
    "    plt.ylabel('Sin(x)')\n",
    "    plt.title('Graph of sin(x)')\n",
    "    plt.grid(False)\n",
    "    fsave=\"test\"+str(t)+\".jpg\"\n",
    "    plt.savefig(fsave)\n",
    "    print(fsave)"
   ]
  },
  {
   "cell_type": "code",
   "execution_count": null,
   "metadata": {
    "collapsed": false
   },
   "outputs": [],
   "source": [
    "plt.show()"
   ]
  },
  {
   "cell_type": "markdown",
   "metadata": {},
   "source": [
    "The graph is not clearing!"
   ]
  },
  {
   "cell_type": "code",
   "execution_count": null,
   "metadata": {
    "collapsed": false
   },
   "outputs": [],
   "source": [
    "help(plt)"
   ]
  },
  {
   "cell_type": "code",
   "execution_count": null,
   "metadata": {
    "collapsed": false
   },
   "outputs": [],
   "source": [
    "plt.cla()\n",
    "plt.show()"
   ]
  },
  {
   "cell_type": "code",
   "execution_count": null,
   "metadata": {
    "collapsed": false,
    "scrolled": true
   },
   "outputs": [],
   "source": [
    "\n",
    "top=5;\n",
    "for t in range(1,top+1):\n",
    "    x=np.linspace(0,10,200)\n",
    "    y=np.sin(x-t*6.28/top)\n",
    "    plt.plot(x,y)\n",
    "\n",
    "    plt.xlabel('x')\n",
    "    plt.ylabel('Sin(x)')\n",
    "    plt.title('Graph of sin(x)')\n",
    "    plt.grid(False)\n",
    "    fsave=\"test\"+str(t)+\".jpg\"\n",
    "    plt.savefig(fsave)\n",
    "    print(fsave)\n",
    "    plt.cla()\n",
    "    "
   ]
  },
  {
   "cell_type": "code",
   "execution_count": null,
   "metadata": {
    "collapsed": false
   },
   "outputs": [],
   "source": [
    "!ffmpeg -f image2 -i test%d.jpg pyvideo.mpg"
   ]
  },
  {
   "cell_type": "markdown",
   "metadata": {},
   "source": [
    "Now let's see if we can get it to work on the screen."
   ]
  },
  {
   "cell_type": "code",
   "execution_count": null,
   "metadata": {
    "collapsed": true
   },
   "outputs": [],
   "source": [
    "from IPython.display import clear_output\n",
    "from IPython.display import display\n",
    "f, ax = plt.subplots()  # this is new.  We get a figure f, and axes ax as subplot of f\n",
    "        # short hand for f = plt.figure()\n",
    "        # ax = fig.add_subplot(111), (234) would mean 4th subplot of a 2x3 grid\n",
    "        # (111) means 1st subplot of a 1x1 grid"
   ]
  },
  {
   "cell_type": "code",
   "execution_count": null,
   "metadata": {
    "collapsed": false,
    "scrolled": true
   },
   "outputs": [],
   "source": [
    "top=20;\n",
    "x=np.linspace(0,10,200)\n",
    "for t in range(1,top+1):\n",
    "    y=np.sin(x-t*6.28/top)\n",
    "    ax.plot(x,y)    \n",
    "    plt.xlabel('x')\n",
    "    plt.ylabel('Sin(x)')\n",
    "    plt.title('Graph of sin(x)')\n",
    "    plt.grid(False)\n",
    "    time.sleep(0.1)\n",
    "    display(f) # displays something in the IPython/Jupyter notebook\n",
    "    clear_output(wait=True) #wait to clear until new output is available to replace it\n",
    "    ax.cla() # clears the curve. Comment this out if you'd like to \"build up\" plots"
   ]
  },
  {
   "cell_type": "markdown",
   "metadata": {},
   "source": [
    "A similar example that I found that I have not entirely figured out."
   ]
  },
  {
   "cell_type": "code",
   "execution_count": null,
   "metadata": {
    "collapsed": true
   },
   "outputs": [],
   "source": [
    "%matplotlib notebook\n",
    "\n",
    "\n",
    "import numpy as np\n",
    "import matplotlib.pyplot as plt\n",
    "import time\n",
    "\n",
    "def pltsin(ax, colors=['b']):\n",
    "    x = np.linspace(0,1,100)\n",
    "    if ax.lines:\n",
    "        for line in ax.lines:\n",
    "            line.set_xdata(x)\n",
    "            y = np.random.random(size=(100,1))\n",
    "            line.set_ydata(y)\n",
    "    else:\n",
    "        for color in colors:\n",
    "            y = np.random.random(size=(100,1))\n",
    "            ax.plot(x, y, color)\n",
    "    fig.canvas.draw()\n",
    "\n",
    "fig,ax = plt.subplots(1,1)\n",
    "ax.set_xlabel('X')\n",
    "ax.set_ylabel('Y')\n",
    "ax.set_xlim(0,1)\n",
    "ax.set_ylim(0,1)\n",
    "for f in range(5):\n",
    "    pltsin(ax, ['b', 'r'])\n",
    "    time.sleep(1)"
   ]
  },
  {
   "cell_type": "markdown",
   "metadata": {},
   "source": [
    "And an example which doesn't use the subplots trick.  Haven't figured this one out either."
   ]
  },
  {
   "cell_type": "code",
   "execution_count": null,
   "metadata": {
    "collapsed": false
   },
   "outputs": [],
   "source": [
    "import numpy as np\n",
    "import time\n",
    "import matplotlib.pyplot as plt\n",
    "from IPython import display\n",
    "%matplotlib inline\n",
    "\n",
    "x = []\n",
    "y = []\n",
    "for i in range(20):\n",
    "    #x = np.append(x, i)\n",
    "    #y = np.append(y, i**2)\n",
    "    x = np.linspace(0, 3*np.pi, 500)\n",
    "    y = np.sin((x-i/20)**2)\n",
    "    plt.gca().cla() \n",
    "    plt.plot(x,y,label='test')\n",
    "    plt.legend()\n",
    "    display.clear_output(wait=True)\n",
    "    display.display(plt.gcf()) \n",
    "    time.sleep(0.02) "
   ]
  },
  {
   "cell_type": "markdown",
   "metadata": {},
   "source": [
    "# VPython\n",
    "\n",
    "pip install vpython\n",
    "\n",
    "http://www.vpython.org/contents/bounce_example.html\n"
   ]
  },
  {
   "cell_type": "code",
   "execution_count": null,
   "metadata": {
    "collapsed": false
   },
   "outputs": [],
   "source": [
    "from vpython import *"
   ]
  },
  {
   "cell_type": "markdown",
   "metadata": {},
   "source": [
    "### Exercise\n",
    "Change the code below so that the ball bounces of (invisible) vertical walls at the edges of the floor."
   ]
  },
  {
   "cell_type": "code",
   "execution_count": null,
   "metadata": {
    "collapsed": false
   },
   "outputs": [],
   "source": [
    "floor = box (pos=vector(0,0,0), length=4, height=0.5, width=4, color=color.blue)\n",
    "ball = sphere (pos=vector(0,4,0), radius=1, color=color.red)\n",
    "ball.velocity = vector(0,-1,0)\n",
    "dt = 0.01\n",
    "\n",
    "x=0\n",
    "while x<500:\n",
    "    rate (100)\n",
    "    ball.pos = ball.pos + ball.velocity*dt\n",
    "    if ball.pos.y < ball.radius:\n",
    "        ball.velocity.y = abs(ball.velocity.y)\n",
    "    else:\n",
    "        ball.velocity.y = ball.velocity.y - 9.8*dt\n",
    "    x+=1"
   ]
  },
  {
   "cell_type": "markdown",
   "metadata": {
    "collapsed": true
   },
   "source": [
    "http://www.faculty.umassd.edu/j.wang/vp/movie.htm#howto"
   ]
  },
  {
   "cell_type": "code",
   "execution_count": null,
   "metadata": {
    "collapsed": false
   },
   "outputs": [],
   "source": [
    "ball.visible=False\n",
    "floor.visible=False"
   ]
  },
  {
   "cell_type": "markdown",
   "metadata": {
    "collapsed": true
   },
   "source": [
    "A neat example.  See how large N can be on your machine.\n",
    "\n",
    "https://github.com/BruceSherwood/vpython-jupyter"
   ]
  },
  {
   "cell_type": "code",
   "execution_count": null,
   "metadata": {
    "collapsed": false
   },
   "outputs": [],
   "source": [
    "from vpython import *\n",
    "\n",
    "# Bruce Sherwood\n",
    "\n",
    "N = 2 # N by N by N array of atoms\n",
    "# Surrounding the N**3 atoms is another layer of invisible fixed-position atoms\n",
    "# that provide stability to the lattice.\n",
    "k = 1\n",
    "m = 1\n",
    "spacing = 1\n",
    "atom_radius = 0.3*spacing\n",
    "L0 = spacing-1.8*atom_radius\n",
    "V0 = pi*(0.5*atom_radius)**2*L0 # initial volume of spring\n",
    "scene.center = 0.5*(N-1)*vector(1,1,1)\n",
    "dt = 0.04*(2*pi*sqrt(m/k))\n",
    "axes = [vector(1,0,0), vector(0,1,0), vector(0,0,1)]\n",
    "\n",
    "scene.caption= \"\"\"A model of a solid represented as atoms connected by interatomic bonds.\n",
    "\n",
    "Right button drag or Ctrl-drag to rotate \"camera\" to view scene.\n",
    "To zoom, drag with middle button or Alt/Option depressed, or use scroll wheel.\n",
    "  On a two-button mouse, middle is left + right.\n",
    "Touch screen: pinch/extend to zoom, swipe or two-finger rotate.\"\"\"\n",
    "\n",
    "class crystal:\n",
    "        \n",
    "    def __init__(self,  N, atom_radius, spacing, momentumRange ):\n",
    "        self.atoms = []\n",
    "        self.springs = []\n",
    "        \n",
    "        # Create (N+2)^3 atoms in a grid; the outermost atoms are fixed and invisible\n",
    "        for z in range(-1,N+1,1):\n",
    "            for y in range(-1,N+1,1):\n",
    "                for x in range(-1,N+1,1):\n",
    "                    atom = sphere()\n",
    "                    atom.pos = vector(x,y,z)*spacing\n",
    "                    atom.radius = atom_radius\n",
    "                    atom.color = vector(0,0.58,0.69)\n",
    "                    if 0 <= x < N and 0 <= y < N and 0 <= z < N:\n",
    "                        p = vec.random()\n",
    "                        atom.momentum = momentumRange*p\n",
    "                    else:\n",
    "                        atom.visible = False\n",
    "                        atom.momentum = vec(0,0,0)\n",
    "                    atom.index = len(self.atoms)\n",
    "                    self.atoms.append( atom )\n",
    "        for atom in self.atoms:\n",
    "            if atom.visible:\n",
    "                if atom.pos.x == 0:\n",
    "                    self.make_spring(self.atoms[atom.index-1], atom, False)\n",
    "                    self.make_spring(atom, self.atoms[atom.index+1], True)\n",
    "                elif atom.pos.x == N-1:\n",
    "                    self.make_spring(atom, self.atoms[atom.index+1], False)\n",
    "                else:\n",
    "                    self.make_spring(atom, self.atoms[atom.index+1], True)\n",
    "\n",
    "                if atom.pos.y == 0:\n",
    "                    self.make_spring(self.atoms[atom.index-(N+2)], atom, False)\n",
    "                    self.make_spring(atom, self.atoms[atom.index+(N+2)], True)\n",
    "                elif atom.pos.y == N-1:\n",
    "                    self.make_spring(atom, self.atoms[atom.index+(N+2)], False)\n",
    "                else:\n",
    "                    self.make_spring(atom, self.atoms[atom.index+(N+2)], True)\n",
    "                    \n",
    "                if atom.pos.z == 0:\n",
    "                    self.make_spring(self.atoms[atom.index-(N+2)**2], atom, False)\n",
    "                    self.make_spring(atom, self.atoms[atom.index+(N+2)**2], True)\n",
    "                elif atom.pos.z == N-1:\n",
    "                    self.make_spring(atom, self.atoms[atom.index+(N+2)**2], False)\n",
    "                else:\n",
    "                    self.make_spring(atom, self.atoms[atom.index+(N+2)**2], True)\n",
    "    \n",
    "    # Create a grid of springs linking each atom to the adjacent atoms\n",
    "    # in each dimension, or to invisible motionless atoms\n",
    "    def make_spring(self, start, end, visible):\n",
    "        spring = helix()\n",
    "        spring.pos = start.pos\n",
    "        spring.axis = end.pos-start.pos\n",
    "        spring.visible = visible\n",
    "        spring.thickness = 0.05\n",
    "        spring.radius = 0.5*atom_radius\n",
    "        spring.length = spacing\n",
    "        spring.start = start\n",
    "        spring.end = end\n",
    "        spring.color = color.orange\n",
    "        self.springs.append(spring)\n",
    "\n",
    "c = crystal(N, atom_radius, spacing, 0.1*spacing*sqrt(k/m))\n",
    "\n",
    "while True:\n",
    "    rate(60)\n",
    "    for atom in c.atoms:\n",
    "        if atom.visible:\n",
    "            atom.pos = atom.pos + atom.momentum/m*dt\n",
    "    for spring in c.springs:\n",
    "        spring.axis = spring.end.pos - spring.start.pos\n",
    "        L = mag(spring.axis)\n",
    "        spring.axis = spring.axis.norm()\n",
    "        spring.pos = spring.start.pos+0.5*atom_radius*spring.axis\n",
    "        Ls = L-atom_radius\n",
    "        spring.length = Ls\n",
    "        Fdt = spring.axis * (k*dt * (1-spacing/L))\n",
    "        if spring.start.visible:\n",
    "            spring.start.momentum = spring.start.momentum + Fdt\n",
    "        if spring.end.visible:\n",
    "            spring.end.momentum = spring.end.momentum - Fdt"
   ]
  }
 ],
 "metadata": {
  "kernelspec": {
   "display_name": "Python 3",
   "language": "python",
   "name": "python3"
  },
  "language_info": {
   "codemirror_mode": {
    "name": "ipython",
    "version": 3
   },
   "file_extension": ".py",
   "mimetype": "text/x-python",
   "name": "python",
   "nbconvert_exporter": "python",
   "pygments_lexer": "ipython3",
   "version": "3.5.2"
  }
 },
 "nbformat": 4,
 "nbformat_minor": 2
}
