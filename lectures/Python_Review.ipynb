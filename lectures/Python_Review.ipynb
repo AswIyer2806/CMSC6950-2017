{
 "cells": [
  {
   "cell_type": "markdown",
   "metadata": {},
   "source": [
    "# Python Recap\n",
    "(as of book chapters 2, 3 & 4)\n",
    "\n",
    "## Builtin Types\n",
    "\n",
    "### Basic types\n",
    "* integer (int): e.g,: `-5, 0, 42`\n",
    "* floating point (float): `-2.0, 0.0, 3.1416, 1E-4`\n",
    "* string: `\"Hello \\\"1\\\" \", 'World', '''Long strings can contain newlines''', \"\"\"Triple-double quotes (\") work as well\"\"\"`\n",
    "* boolan (bool): `True, False`\n",
    "\n",
    "### Containers\n",
    "* Lists: `[1, 2.0, 'three', True]`\n",
    "* Tuples: `(1, 2.0, 'three', True)`\n",
    "* Dictionaries: `{'key1': \"Value1\", 'key2': 0.0 }`\n",
    "* Sets: `{\"Hello\", 'World', 2.0}`\n",
    "\n",
    "### Arithmetic operations\n",
    "* `+`, `-`, `/`, `*`, `**`,\n",
    "* Python's math module offers many math functions:  \n",
    "    <https://docs.python.org/3.6/library/math.html#module-math>\n",
    "\n",
    "### Logical operations (evaluate to True or False)\n",
    "* `False`, `None`, `0`, `0.0` and empty string, list, dict, set evaluate as  **False**\n",
    "* `and`, `or`, `not`\n",
    "* comparisms: `<, >, ==, <=, >=, !=`\n",
    "* `x in y` (x is element of y)\n",
    "* `x is y` (x and y point to one and the same object)"
   ]
  },
  {
   "cell_type": "code",
   "execution_count": 2,
   "metadata": {},
   "outputs": [
    {
     "name": "stdout",
     "output_type": "stream",
     "text": [
      "2\n",
      "1\n"
     ]
    }
   ],
   "source": [
    "a = 1\n",
    "b = a\n",
    "a+= 1\n",
    "print(a)\n",
    "print(b)"
   ]
  },
  {
   "cell_type": "code",
   "execution_count": 4,
   "metadata": {
    "scrolled": false
   },
   "outputs": [
    {
     "name": "stdout",
     "output_type": "stream",
     "text": [
      "x is:   [1, 2, 3, 4, 5, ['a', 'b'], 100]\n",
      "y is:   [1, 2, 3, 4, 5, ['a', 'b'], 100]\n",
      "x is y: True\n"
     ]
    }
   ],
   "source": [
    "x = [1, 2, 3, 4, 5, ['a', 'b']]\n",
    "y = x\n",
    "x.append(100)\n",
    "print(\"x is:   {0}\".format(x))\n",
    "print(\"y is:   {0}\".format(y))\n",
    "print(\"x is y: {0}\".format(x is y))"
   ]
  },
  {
   "cell_type": "markdown",
   "metadata": {},
   "source": [
    "Here x and y point to **one and the same** list in memory!!!"
   ]
  },
  {
   "cell_type": "code",
   "execution_count": 5,
   "metadata": {},
   "outputs": [
    {
     "name": "stdout",
     "output_type": "stream",
     "text": [
      "x is:   [1, 2, 3, 4, 5, ['a', 'b', 'c'], 100, 50]\n",
      "z is:   [1, 2, 3, 4, 5, ['a', 'b', 'c'], 100]\n",
      "x is z: False\n"
     ]
    }
   ],
   "source": [
    "z = x.copy()\n",
    "x[5].append('c')\n",
    "x.append(50)\n",
    "print(\"x is:   {0}\".format(x))\n",
    "print(\"z is:   {0}\".format(z))\n",
    "print(\"x is z: {0}\".format(x is z))"
   ]
  },
  {
   "cell_type": "markdown",
   "metadata": {},
   "source": [
    "## Control Flow\n",
    "\n",
    "### Conditionals\n",
    "\n",
    "If can have 0 or more elif clauses and 0 or 1 else clause. Else must come last.\n",
    "\n",
    "```python\n",
    "# simple if clause:\n",
    "if <condition>:\n",
    "    <block>\n",
    "\n",
    "# if clause with both elif (else if) and else:\n",
    "if <condition1>:\n",
    "    <block1>\n",
    "elif <condition2>:\n",
    "    <block2>\n",
    "else:\n",
    "    <block3>\n",
    "```\n",
    "\n",
    "### Exceptions\n",
    "\n",
    "Catch Exceptions to prevent program of crashing when a predictable error occurs:\n",
    "\n",
    "```python\n",
    "try:\n",
    "   <code>\n",
    "except:\n",
    "   <code when Exception/Error occurs>\n",
    "```\n",
    "Can also be used to `raise` the error again with more information that can help debugging.\n",
    "\n",
    "### For Loops\n",
    "\n",
    "```python\n",
    "for <loop-var> in <iterable>:\n",
    "    <block>\n",
    "```\n",
    "\n",
    "Run `<block>` once for every element in an `iterable` object, e.g.\n",
    "* each element in a list, tuple or set\n",
    "* each key in a dictionary\n",
    "* each line in a file\n",
    "* each character in a string\n",
    "\n",
    "In each iteration the `<loop-var>` is set to the next element of the iterable.\n",
    "\n",
    "Often used with `range()` function:"
   ]
  },
  {
   "cell_type": "code",
   "execution_count": null,
   "metadata": {
    "collapsed": true
   },
   "outputs": [],
   "source": [
    "[0, 1, 2, 3, 4]"
   ]
  },
  {
   "cell_type": "code",
   "execution_count": 9,
   "metadata": {},
   "outputs": [
    {
     "name": "stdout",
     "output_type": "stream",
     "text": [
      "0 1 2 3 4 "
     ]
    }
   ],
   "source": [
    "# run loop 5 times:\n",
    "for i in range(5):\n",
    "    print(i, end=\" \")"
   ]
  },
  {
   "cell_type": "markdown",
   "metadata": {},
   "source": [
    "### While Loops\n",
    "\n",
    "```python\n",
    "while <condition>:\n",
    "    <while-block>\n",
    "```\n",
    "\n",
    "Make sure you don't create an infinite loop!\n",
    "\n",
    "Either make sure your condition will eventually become `False`:\n",
    "```python\n",
    "i = 10 \n",
    "while i > 0:\n",
    "    i = i - 1\n",
    "\n",
    "# This will never end:\n",
    "i = 10 \n",
    "while i > 0:\n",
    "    i = i + 1\n",
    "```\n",
    "\n",
    "Or have a conditional that will eventually break out of the loop:\n",
    "\n",
    "```python\n",
    "i = 10 \n",
    "while True:\n",
    "    i = i - 1\n",
    "    if i <= 0:\n",
    "        break\n",
    "```\n",
    "\n",
    "### Continue\n",
    "The keyword `continue` will stop the current iteration of a loop and continue with the next."
   ]
  },
  {
   "cell_type": "code",
   "execution_count": 5,
   "metadata": {},
   "outputs": [
    {
     "name": "stdout",
     "output_type": "stream",
     "text": [
      "7 14 21 28 35 42 49 56 63 "
     ]
    }
   ],
   "source": [
    "for i in range(1, 70):\n",
    "    if i%7:\n",
    "        continue\n",
    "    print(i, end=\" \")"
   ]
  },
  {
   "cell_type": "markdown",
   "metadata": {},
   "source": [
    "### Useful String Methods:"
   ]
  },
  {
   "cell_type": "code",
   "execution_count": 6,
   "metadata": {},
   "outputs": [
    {
     "data": {
      "text/plain": [
       "'HELLO WORLD!'"
      ]
     },
     "execution_count": 6,
     "metadata": {},
     "output_type": "execute_result"
    }
   ],
   "source": [
    "\"Hello World!\".upper()"
   ]
  },
  {
   "cell_type": "code",
   "execution_count": 7,
   "metadata": {},
   "outputs": [
    {
     "data": {
      "text/plain": [
       "'hello world!'"
      ]
     },
     "execution_count": 7,
     "metadata": {},
     "output_type": "execute_result"
    }
   ],
   "source": [
    "\"Hello World!\".lower()"
   ]
  },
  {
   "cell_type": "code",
   "execution_count": 8,
   "metadata": {},
   "outputs": [
    {
     "data": {
      "text/plain": [
       "'Hello World!'"
      ]
     },
     "execution_count": 8,
     "metadata": {},
     "output_type": "execute_result"
    }
   ],
   "source": [
    "\" Hello World! \".strip()"
   ]
  },
  {
   "cell_type": "code",
   "execution_count": 9,
   "metadata": {},
   "outputs": [
    {
     "data": {
      "text/plain": [
       "True"
      ]
     },
     "execution_count": 9,
     "metadata": {},
     "output_type": "execute_result"
    }
   ],
   "source": [
    "\"10\".isdigit()"
   ]
  },
  {
   "cell_type": "code",
   "execution_count": 10,
   "metadata": {},
   "outputs": [
    {
     "data": {
      "text/plain": [
       "'x=1, y=2'"
      ]
     },
     "execution_count": 10,
     "metadata": {},
     "output_type": "execute_result"
    }
   ],
   "source": [
    "\"x={0}, y={1}\".format(1, 2)"
   ]
  },
  {
   "cell_type": "code",
   "execution_count": 11,
   "metadata": {},
   "outputs": [
    {
     "data": {
      "text/plain": [
       "'x=  1, y= 2.00'"
      ]
     },
     "execution_count": 11,
     "metadata": {},
     "output_type": "execute_result"
    }
   ],
   "source": [
    "\"x={x:3}, y={y:5.2f}\".format(x=1, y=2)"
   ]
  },
  {
   "cell_type": "markdown",
   "metadata": {},
   "source": [
    "## Modules\n",
    "Python comes with a lot of useful out-of-the-box modules:  \n",
    "<https://docs.python.org/3.6/py-modindex.html>\n",
    "\n",
    "### Importing Modules"
   ]
  },
  {
   "cell_type": "code",
   "execution_count": 12,
   "metadata": {},
   "outputs": [
    {
     "data": {
      "text/plain": [
       "-1.0"
      ]
     },
     "execution_count": 12,
     "metadata": {},
     "output_type": "execute_result"
    }
   ],
   "source": [
    "import math\n",
    "# loads math module and makes is usable in the current context (file)\n",
    "# e.g.:\n",
    "math.cos(math.pi)"
   ]
  },
  {
   "cell_type": "code",
   "execution_count": 13,
   "metadata": {},
   "outputs": [
    {
     "data": {
      "text/plain": [
       "1.0"
      ]
     },
     "execution_count": 13,
     "metadata": {},
     "output_type": "execute_result"
    }
   ],
   "source": [
    "from math import cos, pi\n",
    "# only import cos() function and pi constant, but not sin(), etc.\n",
    "# e.g.:\n",
    "cos(2*pi)"
   ]
  },
  {
   "cell_type": "code",
   "execution_count": 14,
   "metadata": {},
   "outputs": [
    {
     "data": {
      "text/plain": [
       "-1.0"
      ]
     },
     "execution_count": 14,
     "metadata": {},
     "output_type": "execute_result"
    }
   ],
   "source": [
    "import math as m\n",
    "# import math module, but give it a different name, e.g. m\n",
    "# e.g.:\n",
    "m.cos(m.pi)"
   ]
  },
  {
   "cell_type": "code",
   "execution_count": 15,
   "metadata": {},
   "outputs": [
    {
     "data": {
      "text/plain": [
       "1.0"
      ]
     },
     "execution_count": 15,
     "metadata": {},
     "output_type": "execute_result"
    }
   ],
   "source": [
    "from math import cos as cosine\n",
    "# only import cos() function and pi constant, but not sin(), etc.\n",
    "# e.g.:\n",
    "cosine(2*pi)"
   ]
  }
 ],
 "metadata": {
  "kernelspec": {
   "display_name": "Python 3",
   "language": "python",
   "name": "python3"
  },
  "language_info": {
   "codemirror_mode": {
    "name": "ipython",
    "version": 3
   },
   "file_extension": ".py",
   "mimetype": "text/x-python",
   "name": "python",
   "nbconvert_exporter": "python",
   "pygments_lexer": "ipython3",
   "version": "3.6.1"
  }
 },
 "nbformat": 4,
 "nbformat_minor": 2
}
